{
 "cells": [
  {
   "cell_type": "markdown",
   "metadata": {},
   "source": [
    "## Exercícios para iniciar o Capítulo 4\n",
    "\n",
    "Hora de praticar um pouco. Resolva as questões a seguir e consulte a documentação Python se necessário! \n",
    "\n",
    "A solução será apresentada no próximo capítulo."
   ]
  },
  {
   "cell_type": "code",
   "execution_count": 81,
   "metadata": {},
   "outputs": [
    {
     "name": "stdout",
     "output_type": "stream",
     "text": [
      "Versão do Python utilizado neste exercício: 3.11.1\n"
     ]
    }
   ],
   "source": [
    "from platform import python_version\n",
    "print('Versão do Python utilizado neste exercício:', python_version())"
   ]
  },
  {
   "cell_type": "code",
   "execution_count": 82,
   "metadata": {},
   "outputs": [],
   "source": [
    "# Imports\n",
    "import numpy as np\n",
    "import pandas as pd\n",
    "import matplotlib.pyplot as plt\n",
    "%matplotlib inline\n",
    "# matplotlib inline: renderiza os gráficos no próprio notebook"
   ]
  },
  {
   "cell_type": "code",
   "execution_count": 83,
   "metadata": {},
   "outputs": [
    {
     "name": "stdout",
     "output_type": "stream",
     "text": [
      "Author: gustavogzr\n",
      "\n",
      "matplotlib: 3.7.2\n",
      "numpy     : 1.25.2\n",
      "pandas    : 2.0.3\n",
      "\n"
     ]
    }
   ],
   "source": [
    "# Versões dos pacotes usados neste jupyter notebook\n",
    "%reload_ext watermark\n",
    "%watermark -a \"gustavogzr\" --iversions"
   ]
  },
  {
   "cell_type": "code",
   "execution_count": 84,
   "metadata": {},
   "outputs": [],
   "source": [
    "# O dataset contém registros de corridas de táxi\n",
    "df = pd.read_csv('.arquivos_DSA/dados/dataframe.csv', parse_dates = ['Data'], usecols = list(range(0,6)))\n",
    "# parse_dates: converte a coluna 'Data' para datetime\n",
    "# usecols: carrega apenas as colunas de 0 a 5"
   ]
  },
  {
   "cell_type": "code",
   "execution_count": 85,
   "metadata": {},
   "outputs": [
    {
     "data": {
      "text/plain": [
       "Data          datetime64[ns]\n",
       "Distancia            float64\n",
       "Tempo                 object\n",
       "Segundos             float64\n",
       "Minutos              float64\n",
       "Min_Por_Km           float64\n",
       "dtype: object"
      ]
     },
     "execution_count": 85,
     "metadata": {},
     "output_type": "execute_result"
    }
   ],
   "source": [
    "df.dtypes"
   ]
  },
  {
   "cell_type": "code",
   "execution_count": 86,
   "metadata": {},
   "outputs": [
    {
     "data": {
      "text/html": [
       "<div>\n",
       "<style scoped>\n",
       "    .dataframe tbody tr th:only-of-type {\n",
       "        vertical-align: middle;\n",
       "    }\n",
       "\n",
       "    .dataframe tbody tr th {\n",
       "        vertical-align: top;\n",
       "    }\n",
       "\n",
       "    .dataframe thead th {\n",
       "        text-align: right;\n",
       "    }\n",
       "</style>\n",
       "<table border=\"1\" class=\"dataframe\">\n",
       "  <thead>\n",
       "    <tr style=\"text-align: right;\">\n",
       "      <th></th>\n",
       "      <th>Data</th>\n",
       "      <th>Distancia</th>\n",
       "      <th>Tempo</th>\n",
       "      <th>Segundos</th>\n",
       "      <th>Minutos</th>\n",
       "      <th>Min_Por_Km</th>\n",
       "    </tr>\n",
       "  </thead>\n",
       "  <tbody>\n",
       "    <tr>\n",
       "      <th>0</th>\n",
       "      <td>2015-08-02</td>\n",
       "      <td>1.70</td>\n",
       "      <td>NaN</td>\n",
       "      <td>NaN</td>\n",
       "      <td>NaN</td>\n",
       "      <td>NaN</td>\n",
       "    </tr>\n",
       "    <tr>\n",
       "      <th>1</th>\n",
       "      <td>2015-08-03</td>\n",
       "      <td>1.40</td>\n",
       "      <td>NaN</td>\n",
       "      <td>NaN</td>\n",
       "      <td>NaN</td>\n",
       "      <td>NaN</td>\n",
       "    </tr>\n",
       "    <tr>\n",
       "      <th>2</th>\n",
       "      <td>2015-08-04</td>\n",
       "      <td>2.10</td>\n",
       "      <td>NaN</td>\n",
       "      <td>NaN</td>\n",
       "      <td>NaN</td>\n",
       "      <td>NaN</td>\n",
       "    </tr>\n",
       "    <tr>\n",
       "      <th>3</th>\n",
       "      <td>2015-08-06</td>\n",
       "      <td>2.38</td>\n",
       "      <td>NaN</td>\n",
       "      <td>NaN</td>\n",
       "      <td>NaN</td>\n",
       "      <td>NaN</td>\n",
       "    </tr>\n",
       "    <tr>\n",
       "      <th>4</th>\n",
       "      <td>2015-08-07</td>\n",
       "      <td>2.30</td>\n",
       "      <td>NaN</td>\n",
       "      <td>NaN</td>\n",
       "      <td>NaN</td>\n",
       "      <td>NaN</td>\n",
       "    </tr>\n",
       "  </tbody>\n",
       "</table>\n",
       "</div>"
      ],
      "text/plain": [
       "        Data  Distancia Tempo  Segundos  Minutos  Min_Por_Km\n",
       "0 2015-08-02       1.70   NaN       NaN      NaN         NaN\n",
       "1 2015-08-03       1.40   NaN       NaN      NaN         NaN\n",
       "2 2015-08-04       2.10   NaN       NaN      NaN         NaN\n",
       "3 2015-08-06       2.38   NaN       NaN      NaN         NaN\n",
       "4 2015-08-07       2.30   NaN       NaN      NaN         NaN"
      ]
     },
     "execution_count": 86,
     "metadata": {},
     "output_type": "execute_result"
    }
   ],
   "source": [
    "df.sort_index(inplace = True) # Ordena o dataframe pelo índice\n",
    "df.head()"
   ]
  },
  {
   "cell_type": "code",
   "execution_count": 87,
   "metadata": {},
   "outputs": [
    {
     "data": {
      "text/html": [
       "<div>\n",
       "<style scoped>\n",
       "    .dataframe tbody tr th:only-of-type {\n",
       "        vertical-align: middle;\n",
       "    }\n",
       "\n",
       "    .dataframe tbody tr th {\n",
       "        vertical-align: top;\n",
       "    }\n",
       "\n",
       "    .dataframe thead th {\n",
       "        text-align: right;\n",
       "    }\n",
       "</style>\n",
       "<table border=\"1\" class=\"dataframe\">\n",
       "  <thead>\n",
       "    <tr style=\"text-align: right;\">\n",
       "      <th></th>\n",
       "      <th>Data</th>\n",
       "      <th>Distancia</th>\n",
       "      <th>Tempo</th>\n",
       "      <th>Segundos</th>\n",
       "      <th>Minutos</th>\n",
       "      <th>Min_Por_Km</th>\n",
       "    </tr>\n",
       "  </thead>\n",
       "  <tbody>\n",
       "    <tr>\n",
       "      <th>76</th>\n",
       "      <td>2015-12-24</td>\n",
       "      <td>3.05</td>\n",
       "      <td>0:25:08</td>\n",
       "      <td>1508.0</td>\n",
       "      <td>25.133333</td>\n",
       "      <td>8.240437</td>\n",
       "    </tr>\n",
       "    <tr>\n",
       "      <th>77</th>\n",
       "      <td>2015-12-25</td>\n",
       "      <td>14.80</td>\n",
       "      <td>2:20:00</td>\n",
       "      <td>8400.0</td>\n",
       "      <td>140.000000</td>\n",
       "      <td>9.459459</td>\n",
       "    </tr>\n",
       "    <tr>\n",
       "      <th>78</th>\n",
       "      <td>2015-12-26</td>\n",
       "      <td>5.20</td>\n",
       "      <td>NaN</td>\n",
       "      <td>NaN</td>\n",
       "      <td>NaN</td>\n",
       "      <td>NaN</td>\n",
       "    </tr>\n",
       "    <tr>\n",
       "      <th>79</th>\n",
       "      <td>2015-12-30</td>\n",
       "      <td>3.15</td>\n",
       "      <td>0:22:10</td>\n",
       "      <td>1330.0</td>\n",
       "      <td>22.166667</td>\n",
       "      <td>7.037037</td>\n",
       "    </tr>\n",
       "    <tr>\n",
       "      <th>80</th>\n",
       "      <td>2016-01-01</td>\n",
       "      <td>26.20</td>\n",
       "      <td>4:20:43</td>\n",
       "      <td>15643.0</td>\n",
       "      <td>260.716667</td>\n",
       "      <td>9.951018</td>\n",
       "    </tr>\n",
       "  </tbody>\n",
       "</table>\n",
       "</div>"
      ],
      "text/plain": [
       "         Data  Distancia    Tempo  Segundos     Minutos  Min_Por_Km\n",
       "76 2015-12-24       3.05  0:25:08    1508.0   25.133333    8.240437\n",
       "77 2015-12-25      14.80  2:20:00    8400.0  140.000000    9.459459\n",
       "78 2015-12-26       5.20      NaN       NaN         NaN         NaN\n",
       "79 2015-12-30       3.15  0:22:10    1330.0   22.166667    7.037037\n",
       "80 2016-01-01      26.20  4:20:43   15643.0  260.716667    9.951018"
      ]
     },
     "execution_count": 87,
     "metadata": {},
     "output_type": "execute_result"
    }
   ],
   "source": [
    "df.tail()"
   ]
  },
  {
   "cell_type": "code",
   "execution_count": 88,
   "metadata": {},
   "outputs": [
    {
     "data": {
      "text/html": [
       "<div>\n",
       "<style scoped>\n",
       "    .dataframe tbody tr th:only-of-type {\n",
       "        vertical-align: middle;\n",
       "    }\n",
       "\n",
       "    .dataframe tbody tr th {\n",
       "        vertical-align: top;\n",
       "    }\n",
       "\n",
       "    .dataframe thead th {\n",
       "        text-align: right;\n",
       "    }\n",
       "</style>\n",
       "<table border=\"1\" class=\"dataframe\">\n",
       "  <thead>\n",
       "    <tr style=\"text-align: right;\">\n",
       "      <th></th>\n",
       "      <th>Data</th>\n",
       "      <th>Distancia</th>\n",
       "      <th>Tempo</th>\n",
       "      <th>Segundos</th>\n",
       "      <th>Minutos</th>\n",
       "      <th>Min_Por_Km</th>\n",
       "    </tr>\n",
       "  </thead>\n",
       "  <tbody>\n",
       "    <tr>\n",
       "      <th>72</th>\n",
       "      <td>2015-12-19</td>\n",
       "      <td>3.10</td>\n",
       "      <td>0:26:15</td>\n",
       "      <td>1575.0</td>\n",
       "      <td>26.250000</td>\n",
       "      <td>8.467742</td>\n",
       "    </tr>\n",
       "    <tr>\n",
       "      <th>32</th>\n",
       "      <td>2015-09-08</td>\n",
       "      <td>3.05</td>\n",
       "      <td>0:23:11</td>\n",
       "      <td>1391.0</td>\n",
       "      <td>23.183333</td>\n",
       "      <td>7.601093</td>\n",
       "    </tr>\n",
       "    <tr>\n",
       "      <th>41</th>\n",
       "      <td>2015-09-29</td>\n",
       "      <td>3.05</td>\n",
       "      <td>0:21:55</td>\n",
       "      <td>1315.0</td>\n",
       "      <td>21.916667</td>\n",
       "      <td>7.185792</td>\n",
       "    </tr>\n",
       "    <tr>\n",
       "      <th>43</th>\n",
       "      <td>2015-10-04</td>\n",
       "      <td>1.87</td>\n",
       "      <td>NaN</td>\n",
       "      <td>NaN</td>\n",
       "      <td>NaN</td>\n",
       "      <td>NaN</td>\n",
       "    </tr>\n",
       "    <tr>\n",
       "      <th>35</th>\n",
       "      <td>2015-09-16</td>\n",
       "      <td>3.05</td>\n",
       "      <td>0:22:48</td>\n",
       "      <td>1368.0</td>\n",
       "      <td>22.800000</td>\n",
       "      <td>7.475410</td>\n",
       "    </tr>\n",
       "    <tr>\n",
       "      <th>1</th>\n",
       "      <td>2015-08-03</td>\n",
       "      <td>1.40</td>\n",
       "      <td>NaN</td>\n",
       "      <td>NaN</td>\n",
       "      <td>NaN</td>\n",
       "      <td>NaN</td>\n",
       "    </tr>\n",
       "    <tr>\n",
       "      <th>75</th>\n",
       "      <td>2015-12-23</td>\n",
       "      <td>5.63</td>\n",
       "      <td>0:51:50</td>\n",
       "      <td>3110.0</td>\n",
       "      <td>51.833333</td>\n",
       "      <td>9.206631</td>\n",
       "    </tr>\n",
       "    <tr>\n",
       "      <th>59</th>\n",
       "      <td>2015-11-09</td>\n",
       "      <td>3.05</td>\n",
       "      <td>0:22:36</td>\n",
       "      <td>1356.0</td>\n",
       "      <td>22.600000</td>\n",
       "      <td>7.409836</td>\n",
       "    </tr>\n",
       "    <tr>\n",
       "      <th>53</th>\n",
       "      <td>2015-11-02</td>\n",
       "      <td>1.37</td>\n",
       "      <td>0:08:43</td>\n",
       "      <td>523.0</td>\n",
       "      <td>8.716667</td>\n",
       "      <td>6.362530</td>\n",
       "    </tr>\n",
       "    <tr>\n",
       "      <th>11</th>\n",
       "      <td>2015-08-14</td>\n",
       "      <td>0.90</td>\n",
       "      <td>0:06:16</td>\n",
       "      <td>376.0</td>\n",
       "      <td>6.266667</td>\n",
       "      <td>6.962963</td>\n",
       "    </tr>\n",
       "  </tbody>\n",
       "</table>\n",
       "</div>"
      ],
      "text/plain": [
       "         Data  Distancia    Tempo  Segundos    Minutos  Min_Por_Km\n",
       "72 2015-12-19       3.10  0:26:15    1575.0  26.250000    8.467742\n",
       "32 2015-09-08       3.05  0:23:11    1391.0  23.183333    7.601093\n",
       "41 2015-09-29       3.05  0:21:55    1315.0  21.916667    7.185792\n",
       "43 2015-10-04       1.87      NaN       NaN        NaN         NaN\n",
       "35 2015-09-16       3.05  0:22:48    1368.0  22.800000    7.475410\n",
       "1  2015-08-03       1.40      NaN       NaN        NaN         NaN\n",
       "75 2015-12-23       5.63  0:51:50    3110.0  51.833333    9.206631\n",
       "59 2015-11-09       3.05  0:22:36    1356.0  22.600000    7.409836\n",
       "53 2015-11-02       1.37  0:08:43     523.0   8.716667    6.362530\n",
       "11 2015-08-14       0.90  0:06:16     376.0   6.266667    6.962963"
      ]
     },
     "execution_count": 88,
     "metadata": {},
     "output_type": "execute_result"
    }
   ],
   "source": [
    "df.sample(10)"
   ]
  },
  {
   "cell_type": "code",
   "execution_count": 89,
   "metadata": {},
   "outputs": [
    {
     "data": {
      "text/plain": [
       "260.71666666666664"
      ]
     },
     "execution_count": 89,
     "metadata": {},
     "output_type": "execute_result"
    }
   ],
   "source": [
    "# Exercício 1 - Qual o valor máximo da coluna Minutos?\n",
    "df['Minutos'].max() # exibe o valor máximo da coluna 'Minutos'"
   ]
  },
  {
   "cell_type": "code",
   "execution_count": 90,
   "metadata": {},
   "outputs": [
    {
     "data": {
      "text/plain": [
       "2.01"
      ]
     },
     "execution_count": 90,
     "metadata": {},
     "output_type": "execute_result"
    }
   ],
   "source": [
    "# Exercício 2 - Qual o valor mínimo de distância acima de 2.0?\n",
    "df[df['Distancia'] > 2.0]['Distancia'].min() # exibe o valor mínimo de distância acima de 2.0"
   ]
  },
  {
   "cell_type": "code",
   "execution_count": 91,
   "metadata": {},
   "outputs": [
    {
     "data": {
      "image/png": "[encoded data removed]",
      "text/plain": [
       "<Figure size 640x480 with 1 Axes>"
      ]
     },
     "metadata": {},
     "output_type": "display_data"
    }
   ],
   "source": [
    "# Exercício 3 - Crie um plot com a frequência acumulada da coluna Distancia.\n",
    "df['Distancia'].hist(cumulative = True, bins = 30) # cria um histograma com a frequência acumulada da coluna 'Distancia'\n",
    "plt.show()"
   ]
  },
  {
   "cell_type": "code",
   "execution_count": 92,
   "metadata": {},
   "outputs": [
    {
     "name": "stdout",
     "output_type": "stream",
     "text": [
      "Sunday\n",
      "6\n",
      "Sunday\n"
     ]
    }
   ],
   "source": [
    "# Exercício 4 - Qual o dia da semana no índice de posição zero?\n",
    "print(df['Data'].dt.day_name()[0]) # exibe o dia da semana do índice de posição zero\n",
    "print(df['Data'].dt.weekday[0]) # exibe o dia da semana do índice de posição zero\n",
    "\n",
    "# Opção alternativa:\n",
    "print(df['Data'][0].strftime('%A')) # exibe o dia da semana do índice de posição zero"
   ]
  },
  {
   "cell_type": "code",
   "execution_count": 93,
   "metadata": {},
   "outputs": [
    {
     "data": {
      "text/plain": [
       "0      Sunday\n",
       "1      Monday\n",
       "2     Tuesday\n",
       "3    Thursday\n",
       "4      Friday\n",
       "Name: Data, dtype: object"
      ]
     },
     "execution_count": 93,
     "metadata": {},
     "output_type": "execute_result"
    }
   ],
   "source": [
    "# Exercício 5 - Qual o dia da semana nos índices nas 5 primeiras posições?\n",
    "df['Data'].dt.day_name().head() # exibe o dia da semana nos índices nas 5 primeiras posições\n",
    "\n",
    "# Opção alternativa:\n",
    "df['Data'].map(lambda x: x.strftime('%A')).head() # exibe o dia da semana nos índices nas 5 primeiras posições"
   ]
  },
  {
   "cell_type": "code",
   "execution_count": 94,
   "metadata": {},
   "outputs": [
    {
     "data": {
      "text/html": [
       "<div>\n",
       "<style scoped>\n",
       "    .dataframe tbody tr th:only-of-type {\n",
       "        vertical-align: middle;\n",
       "    }\n",
       "\n",
       "    .dataframe tbody tr th {\n",
       "        vertical-align: top;\n",
       "    }\n",
       "\n",
       "    .dataframe thead th {\n",
       "        text-align: right;\n",
       "    }\n",
       "</style>\n",
       "<table border=\"1\" class=\"dataframe\">\n",
       "  <thead>\n",
       "    <tr style=\"text-align: right;\">\n",
       "      <th></th>\n",
       "      <th>Data</th>\n",
       "      <th>Distancia</th>\n",
       "      <th>Tempo</th>\n",
       "      <th>Segundos</th>\n",
       "      <th>Minutos</th>\n",
       "      <th>Min_Por_Km</th>\n",
       "      <th>Dia da Semana</th>\n",
       "    </tr>\n",
       "  </thead>\n",
       "  <tbody>\n",
       "    <tr>\n",
       "      <th>0</th>\n",
       "      <td>2015-08-02</td>\n",
       "      <td>1.70</td>\n",
       "      <td>NaN</td>\n",
       "      <td>NaN</td>\n",
       "      <td>NaN</td>\n",
       "      <td>NaN</td>\n",
       "      <td>Sunday</td>\n",
       "    </tr>\n",
       "    <tr>\n",
       "      <th>1</th>\n",
       "      <td>2015-08-03</td>\n",
       "      <td>1.40</td>\n",
       "      <td>NaN</td>\n",
       "      <td>NaN</td>\n",
       "      <td>NaN</td>\n",
       "      <td>NaN</td>\n",
       "      <td>Monday</td>\n",
       "    </tr>\n",
       "    <tr>\n",
       "      <th>2</th>\n",
       "      <td>2015-08-04</td>\n",
       "      <td>2.10</td>\n",
       "      <td>NaN</td>\n",
       "      <td>NaN</td>\n",
       "      <td>NaN</td>\n",
       "      <td>NaN</td>\n",
       "      <td>Tuesday</td>\n",
       "    </tr>\n",
       "    <tr>\n",
       "      <th>3</th>\n",
       "      <td>2015-08-06</td>\n",
       "      <td>2.38</td>\n",
       "      <td>NaN</td>\n",
       "      <td>NaN</td>\n",
       "      <td>NaN</td>\n",
       "      <td>NaN</td>\n",
       "      <td>Thursday</td>\n",
       "    </tr>\n",
       "    <tr>\n",
       "      <th>4</th>\n",
       "      <td>2015-08-07</td>\n",
       "      <td>2.30</td>\n",
       "      <td>NaN</td>\n",
       "      <td>NaN</td>\n",
       "      <td>NaN</td>\n",
       "      <td>NaN</td>\n",
       "      <td>Friday</td>\n",
       "    </tr>\n",
       "  </tbody>\n",
       "</table>\n",
       "</div>"
      ],
      "text/plain": [
       "        Data  Distancia Tempo  Segundos  Minutos  Min_Por_Km Dia da Semana\n",
       "0 2015-08-02       1.70   NaN       NaN      NaN         NaN        Sunday\n",
       "1 2015-08-03       1.40   NaN       NaN      NaN         NaN        Monday\n",
       "2 2015-08-04       2.10   NaN       NaN      NaN         NaN       Tuesday\n",
       "3 2015-08-06       2.38   NaN       NaN      NaN         NaN      Thursday\n",
       "4 2015-08-07       2.30   NaN       NaN      NaN         NaN        Friday"
      ]
     },
     "execution_count": 94,
     "metadata": {},
     "output_type": "execute_result"
    }
   ],
   "source": [
    "# Exercício 6 - Extraia todos os dias da semana (em formato texto) e insira em uma nova coluna no dataframe df.\n",
    "df['Dia da Semana'] = df['Data'].dt.day_name() # cria uma nova coluna 'Dia da Semana' com o dia da semana\n",
    "df.head()"
   ]
  },
  {
   "cell_type": "code",
   "execution_count": 96,
   "metadata": {},
   "outputs": [
    {
     "data": {
      "image/png": "[encoded data removed]",
      "text/plain": [
       "<Figure size 640x480 with 1 Axes>"
      ]
     },
     "metadata": {},
     "output_type": "display_data"
    }
   ],
   "source": [
    "# Exercício 7 - Crie um gráfico de barras com o total da distância percorrida em cada dia da semana.\n",
    "df_group_per_day_of_week = df[['Distancia', 'Dia da Semana']].groupby('Dia da Semana').sum() # agrupa o dataframe pela coluna 'Dia da Semana' e soma a distância percorrida\n",
    "df_group_per_day_of_week = df_group_per_day_of_week.sort_values(by='Distancia', ascending=False) # ordena o dataframe\n",
    "df_group_per_day_of_week.plot(kind = 'bar') # cria um gráfico de barras com o total da distância percorrida em cada dia da semana\n",
    "plt.xlabel('Dia da Semana') # adiciona um rótulo ao eixo x\n",
    "plt.ylabel('Distância (km)') # adiciona um rótulo ao eixo y\n",
    "plt.show()"
   ]
  },
  {
   "cell_type": "code",
   "execution_count": 97,
   "metadata": {},
   "outputs": [
    {
     "data": {
      "text/html": [
       "<div>\n",
       "<style scoped>\n",
       "    .dataframe tbody tr th:only-of-type {\n",
       "        vertical-align: middle;\n",
       "    }\n",
       "\n",
       "    .dataframe tbody tr th {\n",
       "        vertical-align: top;\n",
       "    }\n",
       "\n",
       "    .dataframe thead th {\n",
       "        text-align: right;\n",
       "    }\n",
       "</style>\n",
       "<table border=\"1\" class=\"dataframe\">\n",
       "  <thead>\n",
       "    <tr style=\"text-align: right;\">\n",
       "      <th></th>\n",
       "      <th>Data</th>\n",
       "      <th>Distancia</th>\n",
       "      <th>Segundos</th>\n",
       "      <th>Minutos</th>\n",
       "      <th>Min_Por_Km</th>\n",
       "      <th>Dia da Semana</th>\n",
       "    </tr>\n",
       "  </thead>\n",
       "  <tbody>\n",
       "    <tr>\n",
       "      <th>0</th>\n",
       "      <td>2015-08-02</td>\n",
       "      <td>1.70</td>\n",
       "      <td>NaN</td>\n",
       "      <td>NaN</td>\n",
       "      <td>NaN</td>\n",
       "      <td>Sunday</td>\n",
       "    </tr>\n",
       "    <tr>\n",
       "      <th>1</th>\n",
       "      <td>2015-08-03</td>\n",
       "      <td>1.40</td>\n",
       "      <td>NaN</td>\n",
       "      <td>NaN</td>\n",
       "      <td>NaN</td>\n",
       "      <td>Monday</td>\n",
       "    </tr>\n",
       "    <tr>\n",
       "      <th>2</th>\n",
       "      <td>2015-08-04</td>\n",
       "      <td>2.10</td>\n",
       "      <td>NaN</td>\n",
       "      <td>NaN</td>\n",
       "      <td>NaN</td>\n",
       "      <td>Tuesday</td>\n",
       "    </tr>\n",
       "    <tr>\n",
       "      <th>3</th>\n",
       "      <td>2015-08-06</td>\n",
       "      <td>2.38</td>\n",
       "      <td>NaN</td>\n",
       "      <td>NaN</td>\n",
       "      <td>NaN</td>\n",
       "      <td>Thursday</td>\n",
       "    </tr>\n",
       "    <tr>\n",
       "      <th>4</th>\n",
       "      <td>2015-08-07</td>\n",
       "      <td>2.30</td>\n",
       "      <td>NaN</td>\n",
       "      <td>NaN</td>\n",
       "      <td>NaN</td>\n",
       "      <td>Friday</td>\n",
       "    </tr>\n",
       "  </tbody>\n",
       "</table>\n",
       "</div>"
      ],
      "text/plain": [
       "        Data  Distancia  Segundos  Minutos  Min_Por_Km Dia da Semana\n",
       "0 2015-08-02       1.70       NaN      NaN         NaN        Sunday\n",
       "1 2015-08-03       1.40       NaN      NaN         NaN        Monday\n",
       "2 2015-08-04       2.10       NaN      NaN         NaN       Tuesday\n",
       "3 2015-08-06       2.38       NaN      NaN         NaN      Thursday\n",
       "4 2015-08-07       2.30       NaN      NaN         NaN        Friday"
      ]
     },
     "execution_count": 97,
     "metadata": {},
     "output_type": "execute_result"
    }
   ],
   "source": [
    "# Exercício 8 - Delete a coluna Tempo do dataframe df.\n",
    "df.drop('Tempo', axis = 1, inplace = True) # deleta a coluna 'Tempo' do dataframe\n",
    "df.head()\n",
    "\n",
    "# Opção alternativa:\n",
    "# del(df['Tempo']) # deleta a coluna 'Tempo' do dataframe"
   ]
  },
  {
   "cell_type": "code",
   "execution_count": 98,
   "metadata": {},
   "outputs": [
    {
     "name": "stdout",
     "output_type": "stream",
     "text": [
      "Dia da Semana\n",
      "Saturday     15\n",
      "Sunday       14\n",
      "Tuesday      14\n",
      "Monday       11\n",
      "Wednesday    11\n",
      "Friday        8\n",
      "Thursday      8\n",
      "Name: Distancia, dtype: int64\n"
     ]
    },
    {
     "data": {
      "image/png": "[encoded data removed]",
      "text/plain": [
       "<Figure size 640x480 with 1 Axes>"
      ]
     },
     "metadata": {},
     "output_type": "display_data"
    }
   ],
   "source": [
    "# Exercício 9 - Qual o total de corridas de taxi por dia da semana?\n",
    "df_group_per_day_of_week = df.groupby('Dia da Semana')['Distancia'].count() # agrupa o dataframe pela coluna 'Dia da Semana' e conta o total de corridas\n",
    "df_group_per_day_of_week = df_group_per_day_of_week.sort_values(ascending=False) # ordena o dataframe\n",
    "print(df_group_per_day_of_week) # exibe o total de corridas de táxi por dia da semana\n",
    "df_group_per_day_of_week.plot(kind = 'bar') # cria um gráfico de barras com o total da distância percorrida em cada dia da semana\n",
    "plt.xlabel('Dia da Semana') # adiciona um rótulo ao eixo x\n",
    "plt.ylabel('Distância (km)') # adiciona um rótulo ao eixo y\n",
    "plt.show()"
   ]
  },
  {
   "cell_type": "code",
   "execution_count": 99,
   "metadata": {},
   "outputs": [
    {
     "data": {
      "text/html": [
       "<div>\n",
       "<style scoped>\n",
       "    .dataframe tbody tr th:only-of-type {\n",
       "        vertical-align: middle;\n",
       "    }\n",
       "\n",
       "    .dataframe tbody tr th {\n",
       "        vertical-align: top;\n",
       "    }\n",
       "\n",
       "    .dataframe thead th {\n",
       "        text-align: right;\n",
       "    }\n",
       "</style>\n",
       "<table border=\"1\" class=\"dataframe\">\n",
       "  <thead>\n",
       "    <tr style=\"text-align: right;\">\n",
       "      <th></th>\n",
       "      <th>Distancia</th>\n",
       "      <th>Segundos</th>\n",
       "      <th>Minutos</th>\n",
       "      <th>Min_Por_Km</th>\n",
       "    </tr>\n",
       "    <tr>\n",
       "      <th>Dia da Semana</th>\n",
       "      <th></th>\n",
       "      <th></th>\n",
       "      <th></th>\n",
       "      <th></th>\n",
       "    </tr>\n",
       "  </thead>\n",
       "  <tbody>\n",
       "    <tr>\n",
       "      <th>Friday</th>\n",
       "      <td>6.315000</td>\n",
       "      <td>5071.800000</td>\n",
       "      <td>84.530000</td>\n",
       "      <td>8.039543</td>\n",
       "    </tr>\n",
       "    <tr>\n",
       "      <th>Monday</th>\n",
       "      <td>2.422727</td>\n",
       "      <td>1185.750000</td>\n",
       "      <td>19.762500</td>\n",
       "      <td>7.463840</td>\n",
       "    </tr>\n",
       "    <tr>\n",
       "      <th>Saturday</th>\n",
       "      <td>2.786000</td>\n",
       "      <td>1458.500000</td>\n",
       "      <td>24.308333</td>\n",
       "      <td>7.747657</td>\n",
       "    </tr>\n",
       "    <tr>\n",
       "      <th>Sunday</th>\n",
       "      <td>3.246429</td>\n",
       "      <td>2802.500000</td>\n",
       "      <td>46.708333</td>\n",
       "      <td>8.184961</td>\n",
       "    </tr>\n",
       "    <tr>\n",
       "      <th>Thursday</th>\n",
       "      <td>3.315000</td>\n",
       "      <td>1681.285714</td>\n",
       "      <td>28.021429</td>\n",
       "      <td>7.829348</td>\n",
       "    </tr>\n",
       "    <tr>\n",
       "      <th>Tuesday</th>\n",
       "      <td>2.607143</td>\n",
       "      <td>1334.600000</td>\n",
       "      <td>22.243333</td>\n",
       "      <td>7.463291</td>\n",
       "    </tr>\n",
       "    <tr>\n",
       "      <th>Wednesday</th>\n",
       "      <td>2.428182</td>\n",
       "      <td>1306.250000</td>\n",
       "      <td>21.770833</td>\n",
       "      <td>7.659706</td>\n",
       "    </tr>\n",
       "  </tbody>\n",
       "</table>\n",
       "</div>"
      ],
      "text/plain": [
       "               Distancia     Segundos    Minutos  Min_Por_Km\n",
       "Dia da Semana                                               \n",
       "Friday          6.315000  5071.800000  84.530000    8.039543\n",
       "Monday          2.422727  1185.750000  19.762500    7.463840\n",
       "Saturday        2.786000  1458.500000  24.308333    7.747657\n",
       "Sunday          3.246429  2802.500000  46.708333    8.184961\n",
       "Thursday        3.315000  1681.285714  28.021429    7.829348\n",
       "Tuesday         2.607143  1334.600000  22.243333    7.463291\n",
       "Wednesday       2.428182  1306.250000  21.770833    7.659706"
      ]
     },
     "execution_count": 99,
     "metadata": {},
     "output_type": "execute_result"
    }
   ],
   "source": [
    "# Exercício 10 - Qual a média para cada uma das colunas por dia da semana? \n",
    "df_group_geral = df[['Dia da Semana', \n",
    "                     'Distancia',\n",
    "                     'Segundos', \n",
    "                     'Minutos',\n",
    "                     'Min_Por_Km']].groupby('Dia da Semana').mean() # agrupa o dataframe pela coluna 'Dia da Semana' e calcula a média\n",
    "df_group_geral # exibe a média para cada uma das colunas por dia da semana"
   ]
  }
 ],
 "metadata": {
  "anaconda-cloud": {},
  "kernelspec": {
   "display_name": "Python 3 (ipykernel)",
   "language": "python",
   "name": "python3"
  },
  "language_info": {
   "codemirror_mode": {
    "name": "ipython",
    "version": 3
   },
   "file_extension": ".py",
   "mimetype": "text/x-python",
   "name": "python",
   "nbconvert_exporter": "python",
   "pygments_lexer": "ipython3",
   "version": "3.11.1"
  }
 },
 "nbformat": 4,
 "nbformat_minor": 1
}
