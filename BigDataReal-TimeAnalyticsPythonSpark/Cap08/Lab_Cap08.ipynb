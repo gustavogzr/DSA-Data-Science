{
 "cells": [
  {
   "cell_type": "markdown",
   "metadata": {},
   "source": [
    "# Laboratório - Capítulo 8"
   ]
  },
  {
   "cell_type": "code",
   "execution_count": 1,
   "metadata": {},
   "outputs": [
    {
     "name": "stdout",
     "output_type": "stream",
     "text": [
      "Versão Python: 3.11.1 \n",
      "\n",
      "Author: gustavogzr\n",
      "\n",
      "pandas: 2.0.3\n",
      "\n"
     ]
    }
   ],
   "source": [
    "# Importando bibliotecas:\n",
    "from platform import python_version\n",
    "print('Versão Python:', python_version(), '\\n')\n",
    "\n",
    "import pandas as pd\n",
    "\n",
    "%reload_ext watermark\n",
    "%watermark -a \"gustavogzr\" --iversions"
   ]
  }
 ],
 "metadata": {
  "kernelspec": {
   "display_name": "Python 3",
   "language": "python",
   "name": "python3"
  },
  "language_info": {
   "codemirror_mode": {
    "name": "ipython",
    "version": 3
   },
   "file_extension": ".py",
   "mimetype": "text/x-python",
   "name": "python",
   "nbconvert_exporter": "python",
   "pygments_lexer": "ipython3",
   "version": "3.11.1"
  }
 },
 "nbformat": 4,
 "nbformat_minor": 2
}
