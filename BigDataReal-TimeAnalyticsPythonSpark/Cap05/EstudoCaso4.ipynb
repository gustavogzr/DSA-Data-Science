{
 "cells": [
  {
   "cell_type": "markdown",
   "metadata": {},
   "source": [
    "# Cápitulo 05 - Estudo de Caso 04"
   ]
  },
  {
   "cell_type": "code",
   "execution_count": 3,
   "metadata": {},
   "outputs": [
    {
     "name": "stdout",
     "output_type": "stream",
     "text": [
      "Versão Python: 3.11.1 \n",
      "\n",
      "Author: gustavogzr\n",
      "\n",
      "pandas    : 2.0.3\n",
      "seaborn   : 0.12.2\n",
      "numpy     : 1.25.2\n",
      "matplotlib: 3.7.2\n",
      "\n"
     ]
    }
   ],
   "source": [
    "# Importando bibliotecas:\n",
    "from platform import python_version\n",
    "print('Versão Python:', python_version(), '\\n')\n",
    "\n",
    "import pandas as pd\n",
    "import numpy as np\n",
    "import matplotlib.pyplot as plt\n",
    "import seaborn as sns\n",
    "import warnings\n",
    "warnings.filterwarnings('ignore')\n",
    "\n",
    "%reload_ext watermark\n",
    "%watermark -a \"gustavogzr\" --iversions"
   ]
  },
  {
   "cell_type": "code",
   "execution_count": 4,
   "metadata": {},
   "outputs": [],
   "source": [
    "## Configurando o estilo dos gráficos:\n",
    "from matplotlib import rcParams # rcParams: dicionário de configurações padrão para matplotlib\n",
    "\n",
    "rcParams['figure.figsize'] = 15, 8 # Configurando o tamanho padrão das figuras\n",
    "rcParams['lines.linewidth'] = 3 # Configurando a espessura das linhas\n",
    "rcParams['xtick.labelsize'] = 'x-large' # Configurando o tamanho dos labels no eixo x\n",
    "rcParams['ytick.labelsize'] = 'x-large' # Configurando o tamanho dos labels no eixo y"
   ]
  },
  {
   "cell_type": "markdown",
   "metadata": {},
   "source": []
  }
 ],
 "metadata": {
  "kernelspec": {
   "display_name": "Python 3",
   "language": "python",
   "name": "python3"
  },
  "language_info": {
   "codemirror_mode": {
    "name": "ipython",
    "version": 3
   },
   "file_extension": ".py",
   "mimetype": "text/x-python",
   "name": "python",
   "nbconvert_exporter": "python",
   "pygments_lexer": "ipython3",
   "version": "3.11.1"
  }
 },
 "nbformat": 4,
 "nbformat_minor": 2
}
