{
 "cells": [
  {
   "cell_type": "markdown",
   "metadata": {},
   "source": [
    "# Cápitulo 03 - Arquivo 01"
   ]
  },
  {
   "cell_type": "code",
   "execution_count": 1,
   "metadata": {},
   "outputs": [
    {
     "name": "stdout",
     "output_type": "stream",
     "text": [
      "Versão Python: 3.11.1 \n",
      "\n",
      "Author: gustavogzr\n",
      "\n",
      "pandas: 2.0.3\n",
      "\n"
     ]
    }
   ],
   "source": [
    "# Importando bibliotecas e imprimir versão:\n",
    "from platform import python_version\n",
    "print('Versão Python:', python_version(), '\\n')\n",
    "\n",
    "import pandas as pd\n",
    "\n",
    "%reload_ext watermark\n",
    "%watermark -a \"gustavogzr\" --iversions"
   ]
  },
  {
   "cell_type": "code",
   "execution_count": 2,
   "metadata": {},
   "outputs": [],
   "source": [
    "df = pd.read_csv('.arquivos_DSA/dados/dataset1.csv') # Importando o dataset"
   ]
  },
  {
   "cell_type": "code",
   "execution_count": 3,
   "metadata": {},
   "outputs": [
    {
     "data": {
      "text/plain": [
       "pandas.core.frame.DataFrame"
      ]
     },
     "execution_count": 3,
     "metadata": {},
     "output_type": "execute_result"
    }
   ],
   "source": [
    "type(df) # Tipo do objeto"
   ]
  },
  {
   "cell_type": "code",
   "execution_count": 4,
   "metadata": {},
   "outputs": [
    {
     "data": {
      "text/plain": [
       "(615, 6)"
      ]
     },
     "execution_count": 4,
     "metadata": {},
     "output_type": "execute_result"
    }
   ],
   "source": [
    "df.shape # Dimensões do dataset"
   ]
  },
  {
   "cell_type": "code",
   "execution_count": 5,
   "metadata": {},
   "outputs": [
    {
     "data": {
      "text/plain": [
       "3690"
      ]
     },
     "execution_count": 5,
     "metadata": {},
     "output_type": "execute_result"
    }
   ],
   "source": [
    "df.size # Tamanho do dataset"
   ]
  },
  {
   "cell_type": "code",
   "execution_count": 6,
   "metadata": {},
   "outputs": [
    {
     "data": {
      "text/html": [
       "<div>\n",
       "<style scoped>\n",
       "    .dataframe tbody tr th:only-of-type {\n",
       "        vertical-align: middle;\n",
       "    }\n",
       "\n",
       "    .dataframe tbody tr th {\n",
       "        vertical-align: top;\n",
       "    }\n",
       "\n",
       "    .dataframe thead th {\n",
       "        text-align: right;\n",
       "    }\n",
       "</style>\n",
       "<table border=\"1\" class=\"dataframe\">\n",
       "  <thead>\n",
       "    <tr style=\"text-align: right;\">\n",
       "      <th></th>\n",
       "      <th>club</th>\n",
       "      <th>last_name</th>\n",
       "      <th>first_name</th>\n",
       "      <th>position</th>\n",
       "      <th>base_salary</th>\n",
       "      <th>guaranteed_compensation</th>\n",
       "    </tr>\n",
       "  </thead>\n",
       "  <tbody>\n",
       "    <tr>\n",
       "      <th>0</th>\n",
       "      <td>ATL</td>\n",
       "      <td>Almiron</td>\n",
       "      <td>Miguel</td>\n",
       "      <td>M</td>\n",
       "      <td>1912500.0</td>\n",
       "      <td>2297000.00</td>\n",
       "    </tr>\n",
       "    <tr>\n",
       "      <th>1</th>\n",
       "      <td>ATL</td>\n",
       "      <td>Ambrose</td>\n",
       "      <td>Mikey</td>\n",
       "      <td>D</td>\n",
       "      <td>65625.0</td>\n",
       "      <td>65625.00</td>\n",
       "    </tr>\n",
       "    <tr>\n",
       "      <th>2</th>\n",
       "      <td>ATL</td>\n",
       "      <td>Asad</td>\n",
       "      <td>Yamil</td>\n",
       "      <td>M</td>\n",
       "      <td>150000.0</td>\n",
       "      <td>150000.00</td>\n",
       "    </tr>\n",
       "    <tr>\n",
       "      <th>3</th>\n",
       "      <td>ATL</td>\n",
       "      <td>Bloom</td>\n",
       "      <td>Mark</td>\n",
       "      <td>D</td>\n",
       "      <td>99225.0</td>\n",
       "      <td>106573.89</td>\n",
       "    </tr>\n",
       "    <tr>\n",
       "      <th>4</th>\n",
       "      <td>ATL</td>\n",
       "      <td>Carleton</td>\n",
       "      <td>Andrew</td>\n",
       "      <td>F</td>\n",
       "      <td>65000.0</td>\n",
       "      <td>77400.00</td>\n",
       "    </tr>\n",
       "    <tr>\n",
       "      <th>5</th>\n",
       "      <td>ATL</td>\n",
       "      <td>Carmona</td>\n",
       "      <td>Carlos</td>\n",
       "      <td>M</td>\n",
       "      <td>675000.0</td>\n",
       "      <td>725000.00</td>\n",
       "    </tr>\n",
       "    <tr>\n",
       "      <th>6</th>\n",
       "      <td>ATL</td>\n",
       "      <td>Garza</td>\n",
       "      <td>Greg</td>\n",
       "      <td>D</td>\n",
       "      <td>150000.0</td>\n",
       "      <td>150000.00</td>\n",
       "    </tr>\n",
       "    <tr>\n",
       "      <th>7</th>\n",
       "      <td>ATL</td>\n",
       "      <td>Gonzalez Pirez</td>\n",
       "      <td>Leandro</td>\n",
       "      <td>D</td>\n",
       "      <td>250008.0</td>\n",
       "      <td>285008.00</td>\n",
       "    </tr>\n",
       "    <tr>\n",
       "      <th>8</th>\n",
       "      <td>ATL</td>\n",
       "      <td>Goslin</td>\n",
       "      <td>Chris</td>\n",
       "      <td>M</td>\n",
       "      <td>70000.0</td>\n",
       "      <td>74000.00</td>\n",
       "    </tr>\n",
       "    <tr>\n",
       "      <th>9</th>\n",
       "      <td>ATL</td>\n",
       "      <td>Gressel</td>\n",
       "      <td>Julian</td>\n",
       "      <td>NaN</td>\n",
       "      <td>75000.0</td>\n",
       "      <td>93750.00</td>\n",
       "    </tr>\n",
       "  </tbody>\n",
       "</table>\n",
       "</div>"
      ],
      "text/plain": [
       "  club       last_name first_name position  base_salary  \\\n",
       "0  ATL         Almiron     Miguel        M    1912500.0   \n",
       "1  ATL         Ambrose      Mikey        D      65625.0   \n",
       "2  ATL            Asad      Yamil        M     150000.0   \n",
       "3  ATL           Bloom       Mark        D      99225.0   \n",
       "4  ATL        Carleton     Andrew        F      65000.0   \n",
       "5  ATL         Carmona     Carlos        M     675000.0   \n",
       "6  ATL           Garza       Greg        D     150000.0   \n",
       "7  ATL  Gonzalez Pirez    Leandro        D     250008.0   \n",
       "8  ATL          Goslin      Chris        M      70000.0   \n",
       "9  ATL         Gressel     Julian      NaN      75000.0   \n",
       "\n",
       "   guaranteed_compensation  \n",
       "0               2297000.00  \n",
       "1                 65625.00  \n",
       "2                150000.00  \n",
       "3                106573.89  \n",
       "4                 77400.00  \n",
       "5                725000.00  \n",
       "6                150000.00  \n",
       "7                285008.00  \n",
       "8                 74000.00  \n",
       "9                 93750.00  "
      ]
     },
     "execution_count": 6,
     "metadata": {},
     "output_type": "execute_result"
    }
   ],
   "source": [
    "df.head(10) # Visualizando as 10 primeiras linhas"
   ]
  },
  {
   "cell_type": "code",
   "execution_count": 7,
   "metadata": {},
   "outputs": [
    {
     "data": {
      "text/html": [
       "<div>\n",
       "<style scoped>\n",
       "    .dataframe tbody tr th:only-of-type {\n",
       "        vertical-align: middle;\n",
       "    }\n",
       "\n",
       "    .dataframe tbody tr th {\n",
       "        vertical-align: top;\n",
       "    }\n",
       "\n",
       "    .dataframe thead th {\n",
       "        text-align: right;\n",
       "    }\n",
       "</style>\n",
       "<table border=\"1\" class=\"dataframe\">\n",
       "  <thead>\n",
       "    <tr style=\"text-align: right;\">\n",
       "      <th></th>\n",
       "      <th>club</th>\n",
       "      <th>last_name</th>\n",
       "      <th>first_name</th>\n",
       "      <th>position</th>\n",
       "      <th>base_salary</th>\n",
       "      <th>guaranteed_compensation</th>\n",
       "    </tr>\n",
       "  </thead>\n",
       "  <tbody>\n",
       "    <tr>\n",
       "      <th>605</th>\n",
       "      <td>VAN</td>\n",
       "      <td>Rosales</td>\n",
       "      <td>Mauro</td>\n",
       "      <td>M</td>\n",
       "      <td>65004.0</td>\n",
       "      <td>65004.00</td>\n",
       "    </tr>\n",
       "    <tr>\n",
       "      <th>606</th>\n",
       "      <td>VAN</td>\n",
       "      <td>Seiler</td>\n",
       "      <td>Cole</td>\n",
       "      <td>D</td>\n",
       "      <td>54075.0</td>\n",
       "      <td>54075.00</td>\n",
       "    </tr>\n",
       "    <tr>\n",
       "      <th>607</th>\n",
       "      <td>VAN</td>\n",
       "      <td>Shea</td>\n",
       "      <td>Brek</td>\n",
       "      <td>M-D</td>\n",
       "      <td>625000.0</td>\n",
       "      <td>670000.00</td>\n",
       "    </tr>\n",
       "    <tr>\n",
       "      <th>608</th>\n",
       "      <td>VAN</td>\n",
       "      <td>Tchani</td>\n",
       "      <td>Tony</td>\n",
       "      <td>M</td>\n",
       "      <td>275000.0</td>\n",
       "      <td>308333.33</td>\n",
       "    </tr>\n",
       "    <tr>\n",
       "      <th>609</th>\n",
       "      <td>VAN</td>\n",
       "      <td>Techera</td>\n",
       "      <td>Cristian</td>\n",
       "      <td>M</td>\n",
       "      <td>352000.0</td>\n",
       "      <td>377000.00</td>\n",
       "    </tr>\n",
       "    <tr>\n",
       "      <th>610</th>\n",
       "      <td>VAN</td>\n",
       "      <td>Teibert</td>\n",
       "      <td>Russell</td>\n",
       "      <td>M</td>\n",
       "      <td>126500.0</td>\n",
       "      <td>194000.00</td>\n",
       "    </tr>\n",
       "    <tr>\n",
       "      <th>611</th>\n",
       "      <td>VAN</td>\n",
       "      <td>Tornaghi</td>\n",
       "      <td>Paolo</td>\n",
       "      <td>GK</td>\n",
       "      <td>80000.0</td>\n",
       "      <td>80000.00</td>\n",
       "    </tr>\n",
       "    <tr>\n",
       "      <th>612</th>\n",
       "      <td>VAN</td>\n",
       "      <td>Waston</td>\n",
       "      <td>Kendall</td>\n",
       "      <td>D</td>\n",
       "      <td>350000.0</td>\n",
       "      <td>368125.00</td>\n",
       "    </tr>\n",
       "    <tr>\n",
       "      <th>613</th>\n",
       "      <td>NaN</td>\n",
       "      <td>NaN</td>\n",
       "      <td>NaN</td>\n",
       "      <td>NaN</td>\n",
       "      <td>NaN</td>\n",
       "      <td>NaN</td>\n",
       "    </tr>\n",
       "    <tr>\n",
       "      <th>614</th>\n",
       "      <td>VAN</td>\n",
       "      <td>Williams</td>\n",
       "      <td>Sheanon</td>\n",
       "      <td>D</td>\n",
       "      <td>175000.0</td>\n",
       "      <td>184000.00</td>\n",
       "    </tr>\n",
       "  </tbody>\n",
       "</table>\n",
       "</div>"
      ],
      "text/plain": [
       "    club last_name first_name position  base_salary  guaranteed_compensation\n",
       "605  VAN   Rosales      Mauro        M      65004.0                 65004.00\n",
       "606  VAN    Seiler       Cole        D      54075.0                 54075.00\n",
       "607  VAN      Shea       Brek      M-D     625000.0                670000.00\n",
       "608  VAN    Tchani       Tony        M     275000.0                308333.33\n",
       "609  VAN   Techera   Cristian        M     352000.0                377000.00\n",
       "610  VAN   Teibert    Russell        M     126500.0                194000.00\n",
       "611  VAN  Tornaghi      Paolo       GK      80000.0                 80000.00\n",
       "612  VAN    Waston    Kendall        D     350000.0                368125.00\n",
       "613  NaN       NaN        NaN      NaN          NaN                      NaN\n",
       "614  VAN  Williams    Sheanon        D     175000.0                184000.00"
      ]
     },
     "execution_count": 7,
     "metadata": {},
     "output_type": "execute_result"
    }
   ],
   "source": [
    "df.tail(10) # Visualizando as 10 últimas linhas"
   ]
  },
  {
   "cell_type": "code",
   "execution_count": 8,
   "metadata": {},
   "outputs": [
    {
     "name": "stdout",
     "output_type": "stream",
     "text": [
      "<class 'pandas.core.frame.DataFrame'>\n",
      "RangeIndex: 615 entries, 0 to 614\n",
      "Data columns (total 6 columns):\n",
      " #   Column                   Non-Null Count  Dtype  \n",
      "---  ------                   --------------  -----  \n",
      " 0   club                     614 non-null    object \n",
      " 1   last_name                614 non-null    object \n",
      " 2   first_name               610 non-null    object \n",
      " 3   position                 604 non-null    object \n",
      " 4   base_salary              614 non-null    float64\n",
      " 5   guaranteed_compensation  614 non-null    float64\n",
      "dtypes: float64(2), object(4)\n",
      "memory usage: 29.0+ KB\n"
     ]
    }
   ],
   "source": [
    "df.info() # Informações sobre o dataset"
   ]
  },
  {
   "cell_type": "code",
   "execution_count": 9,
   "metadata": {},
   "outputs": [
    {
     "data": {
      "text/html": [
       "<div>\n",
       "<style scoped>\n",
       "    .dataframe tbody tr th:only-of-type {\n",
       "        vertical-align: middle;\n",
       "    }\n",
       "\n",
       "    .dataframe tbody tr th {\n",
       "        vertical-align: top;\n",
       "    }\n",
       "\n",
       "    .dataframe thead th {\n",
       "        text-align: right;\n",
       "    }\n",
       "</style>\n",
       "<table border=\"1\" class=\"dataframe\">\n",
       "  <thead>\n",
       "    <tr style=\"text-align: right;\">\n",
       "      <th></th>\n",
       "      <th>base_salary</th>\n",
       "      <th>guaranteed_compensation</th>\n",
       "    </tr>\n",
       "  </thead>\n",
       "  <tbody>\n",
       "    <tr>\n",
       "      <th>count</th>\n",
       "      <td>6.140000e+02</td>\n",
       "      <td>6.140000e+02</td>\n",
       "    </tr>\n",
       "    <tr>\n",
       "      <th>mean</th>\n",
       "      <td>2.971730e+05</td>\n",
       "      <td>3.263752e+05</td>\n",
       "    </tr>\n",
       "    <tr>\n",
       "      <th>std</th>\n",
       "      <td>6.725839e+05</td>\n",
       "      <td>7.491217e+05</td>\n",
       "    </tr>\n",
       "    <tr>\n",
       "      <th>min</th>\n",
       "      <td>5.299992e+04</td>\n",
       "      <td>5.299992e+04</td>\n",
       "    </tr>\n",
       "    <tr>\n",
       "      <th>25%</th>\n",
       "      <td>6.563340e+04</td>\n",
       "      <td>7.003035e+04</td>\n",
       "    </tr>\n",
       "    <tr>\n",
       "      <th>50%</th>\n",
       "      <td>1.250000e+05</td>\n",
       "      <td>1.350020e+05</td>\n",
       "    </tr>\n",
       "    <tr>\n",
       "      <th>75%</th>\n",
       "      <td>2.550000e+05</td>\n",
       "      <td>2.798750e+05</td>\n",
       "    </tr>\n",
       "    <tr>\n",
       "      <th>max</th>\n",
       "      <td>6.660000e+06</td>\n",
       "      <td>7.167500e+06</td>\n",
       "    </tr>\n",
       "  </tbody>\n",
       "</table>\n",
       "</div>"
      ],
      "text/plain": [
       "        base_salary  guaranteed_compensation\n",
       "count  6.140000e+02             6.140000e+02\n",
       "mean   2.971730e+05             3.263752e+05\n",
       "std    6.725839e+05             7.491217e+05\n",
       "min    5.299992e+04             5.299992e+04\n",
       "25%    6.563340e+04             7.003035e+04\n",
       "50%    1.250000e+05             1.350020e+05\n",
       "75%    2.550000e+05             2.798750e+05\n",
       "max    6.660000e+06             7.167500e+06"
      ]
     },
     "execution_count": 9,
     "metadata": {},
     "output_type": "execute_result"
    }
   ],
   "source": [
    "df.describe() # Estatísticas descritivas"
   ]
  },
  {
   "cell_type": "code",
   "execution_count": 14,
   "metadata": {},
   "outputs": [
    {
     "data": {
      "text/plain": [
       "club                        1\n",
       "last_name                   1\n",
       "first_name                  5\n",
       "position                   11\n",
       "base_salary                 1\n",
       "guaranteed_compensation     1\n",
       "dtype: int64"
      ]
     },
     "execution_count": 14,
     "metadata": {},
     "output_type": "execute_result"
    }
   ],
   "source": [
    "# Contar número de valores NaN em cada coluna\n",
    "df.isnull().sum()"
   ]
  }
 ],
 "metadata": {
  "kernelspec": {
   "display_name": "Python 3",
   "language": "python",
   "name": "python3"
  },
  "language_info": {
   "codemirror_mode": {
    "name": "ipython",
    "version": 3
   },
   "file_extension": ".py",
   "mimetype": "text/x-python",
   "name": "python",
   "nbconvert_exporter": "python",
   "pygments_lexer": "ipython3",
   "version": "3.11.1"
  }
 },
 "nbformat": 4,
 "nbformat_minor": 2
}
