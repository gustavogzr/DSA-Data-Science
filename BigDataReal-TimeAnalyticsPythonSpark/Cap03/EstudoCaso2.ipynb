{
 "cells": [
  {
   "cell_type": "markdown",
   "metadata": {},
   "source": [
    "# Cápitulo 03 - Estudo de Caso 02 "
   ]
  },
  {
   "cell_type": "code",
   "execution_count": 145,
   "metadata": {},
   "outputs": [
    {
     "name": "stdout",
     "output_type": "stream",
     "text": [
      "Versão da Linguagem Python Usada Neste Jupyter Notebook: 3.11.1\n"
     ]
    }
   ],
   "source": [
    "# Versão da Linguagem Python\n",
    "from platform import python_version\n",
    "print('Versão da Linguagem Python Usada Neste Jupyter Notebook:', python_version())"
   ]
  },
  {
   "cell_type": "code",
   "execution_count": 146,
   "metadata": {},
   "outputs": [],
   "source": [
    "# Para atualizar um pacote, execute o comando abaixo no terminal ou prompt de comando:\n",
    "# pip install -U nome_pacote\n",
    "\n",
    "# Para instalar a versão exata de um pacote, execute o comando abaixo no terminal ou prompt de comando:\n",
    "#!pip install nome_pacote==versão_desejada\n",
    "\n",
    "# Depois de instalar ou atualizar o pacote, reinicie o jupyter notebook.\n",
    "\n",
    "# Instala o pacote watermark. \n",
    "# Esse pacote é usado para gravar as versões de outros pacotes usados neste jupyter notebook.\n",
    "#!pip install -q -U watermark"
   ]
  },
  {
   "cell_type": "code",
   "execution_count": 147,
   "metadata": {},
   "outputs": [],
   "source": [
    "# Imports\n",
    "import pandas as pd"
   ]
  },
  {
   "cell_type": "code",
   "execution_count": 148,
   "metadata": {},
   "outputs": [
    {
     "name": "stdout",
     "output_type": "stream",
     "text": [
      "Author: Data Science Academy\n",
      "\n",
      "pandas: 2.0.3\n",
      "\n"
     ]
    }
   ],
   "source": [
    "# Versões dos pacotes usados neste jupyter notebook\n",
    "%reload_ext watermark\n",
    "%watermark -a \"Data Science Academy\" --iversions"
   ]
  },
  {
   "cell_type": "markdown",
   "metadata": {},
   "source": [
    "## Carregando os Dados"
   ]
  },
  {
   "cell_type": "code",
   "execution_count": 149,
   "metadata": {},
   "outputs": [],
   "source": [
    "# Carrega o dataset de escolas\n",
    "dados_escolas = pd.read_csv(\".arquivos_DSA/dados/dataset_escolas.csv\")"
   ]
  },
  {
   "cell_type": "code",
   "execution_count": 150,
   "metadata": {},
   "outputs": [
    {
     "data": {
      "text/plain": [
       "(15, 5)"
      ]
     },
     "execution_count": 150,
     "metadata": {},
     "output_type": "execute_result"
    }
   ],
   "source": [
    "# Shape\n",
    "dados_escolas.shape"
   ]
  },
  {
   "cell_type": "code",
   "execution_count": 151,
   "metadata": {},
   "outputs": [
    {
     "data": {
      "text/html": [
       "<div>\n",
       "<style scoped>\n",
       "    .dataframe tbody tr th:only-of-type {\n",
       "        vertical-align: middle;\n",
       "    }\n",
       "\n",
       "    .dataframe tbody tr th {\n",
       "        vertical-align: top;\n",
       "    }\n",
       "\n",
       "    .dataframe thead th {\n",
       "        text-align: right;\n",
       "    }\n",
       "</style>\n",
       "<table border=\"1\" class=\"dataframe\">\n",
       "  <thead>\n",
       "    <tr style=\"text-align: right;\">\n",
       "      <th></th>\n",
       "      <th>ID_Escola</th>\n",
       "      <th>Nome_Escola</th>\n",
       "      <th>Tipo_Escola</th>\n",
       "      <th>Numero_Alunos</th>\n",
       "      <th>Orcamento_Anual</th>\n",
       "    </tr>\n",
       "  </thead>\n",
       "  <tbody>\n",
       "    <tr>\n",
       "      <th>0</th>\n",
       "      <td>0</td>\n",
       "      <td>Escola A</td>\n",
       "      <td>Publica</td>\n",
       "      <td>2917</td>\n",
       "      <td>1910635</td>\n",
       "    </tr>\n",
       "    <tr>\n",
       "      <th>1</th>\n",
       "      <td>1</td>\n",
       "      <td>Escola B</td>\n",
       "      <td>Publica</td>\n",
       "      <td>2949</td>\n",
       "      <td>1884411</td>\n",
       "    </tr>\n",
       "    <tr>\n",
       "      <th>2</th>\n",
       "      <td>2</td>\n",
       "      <td>Escola C</td>\n",
       "      <td>Particular</td>\n",
       "      <td>1761</td>\n",
       "      <td>1056600</td>\n",
       "    </tr>\n",
       "    <tr>\n",
       "      <th>3</th>\n",
       "      <td>3</td>\n",
       "      <td>Escola D</td>\n",
       "      <td>Publica</td>\n",
       "      <td>4635</td>\n",
       "      <td>3022020</td>\n",
       "    </tr>\n",
       "    <tr>\n",
       "      <th>4</th>\n",
       "      <td>4</td>\n",
       "      <td>Escola E</td>\n",
       "      <td>Particular</td>\n",
       "      <td>1468</td>\n",
       "      <td>917500</td>\n",
       "    </tr>\n",
       "  </tbody>\n",
       "</table>\n",
       "</div>"
      ],
      "text/plain": [
       "   ID_Escola Nome_Escola Tipo_Escola  Numero_Alunos  Orcamento_Anual\n",
       "0          0    Escola A     Publica           2917          1910635\n",
       "1          1    Escola B     Publica           2949          1884411\n",
       "2          2    Escola C  Particular           1761          1056600\n",
       "3          3    Escola D     Publica           4635          3022020\n",
       "4          4    Escola E  Particular           1468           917500"
      ]
     },
     "execution_count": 151,
     "metadata": {},
     "output_type": "execute_result"
    }
   ],
   "source": [
    "# Visualiza\n",
    "dados_escolas.head()"
   ]
  },
  {
   "cell_type": "code",
   "execution_count": 152,
   "metadata": {},
   "outputs": [],
   "source": [
    "# Dataset de estudantes\n",
    "dados_estudantes = pd.read_csv(\".arquivos_DSA/dados/dataset_estudantes.csv\")"
   ]
  },
  {
   "cell_type": "code",
   "execution_count": 153,
   "metadata": {},
   "outputs": [
    {
     "data": {
      "text/plain": [
       "(39160, 7)"
      ]
     },
     "execution_count": 153,
     "metadata": {},
     "output_type": "execute_result"
    }
   ],
   "source": [
    "# Shape\n",
    "dados_estudantes.shape"
   ]
  },
  {
   "cell_type": "code",
   "execution_count": 154,
   "metadata": {},
   "outputs": [
    {
     "data": {
      "text/html": [
       "<div>\n",
       "<style scoped>\n",
       "    .dataframe tbody tr th:only-of-type {\n",
       "        vertical-align: middle;\n",
       "    }\n",
       "\n",
       "    .dataframe tbody tr th {\n",
       "        vertical-align: top;\n",
       "    }\n",
       "\n",
       "    .dataframe thead th {\n",
       "        text-align: right;\n",
       "    }\n",
       "</style>\n",
       "<table border=\"1\" class=\"dataframe\">\n",
       "  <thead>\n",
       "    <tr style=\"text-align: right;\">\n",
       "      <th></th>\n",
       "      <th>ID_Estudante</th>\n",
       "      <th>Nome_Estudante</th>\n",
       "      <th>Genero</th>\n",
       "      <th>Serie</th>\n",
       "      <th>Nome_Escola</th>\n",
       "      <th>Nota_Redacao</th>\n",
       "      <th>Nota_Matematica</th>\n",
       "    </tr>\n",
       "  </thead>\n",
       "  <tbody>\n",
       "    <tr>\n",
       "      <th>0</th>\n",
       "      <td>0</td>\n",
       "      <td>Kevin Bradley</td>\n",
       "      <td>M</td>\n",
       "      <td>6</td>\n",
       "      <td>Escola A</td>\n",
       "      <td>66</td>\n",
       "      <td>79</td>\n",
       "    </tr>\n",
       "    <tr>\n",
       "      <th>1</th>\n",
       "      <td>1</td>\n",
       "      <td>Paul Smith</td>\n",
       "      <td>M</td>\n",
       "      <td>9</td>\n",
       "      <td>Escola A</td>\n",
       "      <td>94</td>\n",
       "      <td>61</td>\n",
       "    </tr>\n",
       "    <tr>\n",
       "      <th>2</th>\n",
       "      <td>2</td>\n",
       "      <td>John Rodriguez</td>\n",
       "      <td>M</td>\n",
       "      <td>9</td>\n",
       "      <td>Escola A</td>\n",
       "      <td>90</td>\n",
       "      <td>60</td>\n",
       "    </tr>\n",
       "    <tr>\n",
       "      <th>3</th>\n",
       "      <td>3</td>\n",
       "      <td>Oliver Scott</td>\n",
       "      <td>M</td>\n",
       "      <td>9</td>\n",
       "      <td>Escola A</td>\n",
       "      <td>67</td>\n",
       "      <td>58</td>\n",
       "    </tr>\n",
       "    <tr>\n",
       "      <th>4</th>\n",
       "      <td>4</td>\n",
       "      <td>William Ray</td>\n",
       "      <td>F</td>\n",
       "      <td>6</td>\n",
       "      <td>Escola A</td>\n",
       "      <td>97</td>\n",
       "      <td>84</td>\n",
       "    </tr>\n",
       "  </tbody>\n",
       "</table>\n",
       "</div>"
      ],
      "text/plain": [
       "   ID_Estudante  Nome_Estudante Genero  Serie Nome_Escola  Nota_Redacao  \\\n",
       "0             0   Kevin Bradley      M      6    Escola A            66   \n",
       "1             1      Paul Smith      M      9    Escola A            94   \n",
       "2             2  John Rodriguez      M      9    Escola A            90   \n",
       "3             3    Oliver Scott      M      9    Escola A            67   \n",
       "4             4     William Ray      F      6    Escola A            97   \n",
       "\n",
       "   Nota_Matematica  \n",
       "0               79  \n",
       "1               61  \n",
       "2               60  \n",
       "3               58  \n",
       "4               84  "
      ]
     },
     "execution_count": 154,
     "metadata": {},
     "output_type": "execute_result"
    }
   ],
   "source": [
    "# Visualiza\n",
    "dados_estudantes.head()"
   ]
  },
  {
   "cell_type": "code",
   "execution_count": 155,
   "metadata": {},
   "outputs": [],
   "source": [
    "# Combina os datasets\n",
    "dados_full = pd.merge(dados_estudantes, dados_escolas, how = \"left\", on = [\"Nome_Escola\", \"Nome_Escola\"])"
   ]
  },
  {
   "cell_type": "code",
   "execution_count": 156,
   "metadata": {},
   "outputs": [
    {
     "data": {
      "text/plain": [
       "(39160, 11)"
      ]
     },
     "execution_count": 156,
     "metadata": {},
     "output_type": "execute_result"
    }
   ],
   "source": [
    "# Shape\n",
    "dados_full.shape"
   ]
  },
  {
   "cell_type": "code",
   "execution_count": 157,
   "metadata": {},
   "outputs": [
    {
     "data": {
      "text/html": [
       "<div>\n",
       "<style scoped>\n",
       "    .dataframe tbody tr th:only-of-type {\n",
       "        vertical-align: middle;\n",
       "    }\n",
       "\n",
       "    .dataframe tbody tr th {\n",
       "        vertical-align: top;\n",
       "    }\n",
       "\n",
       "    .dataframe thead th {\n",
       "        text-align: right;\n",
       "    }\n",
       "</style>\n",
       "<table border=\"1\" class=\"dataframe\">\n",
       "  <thead>\n",
       "    <tr style=\"text-align: right;\">\n",
       "      <th></th>\n",
       "      <th>ID_Estudante</th>\n",
       "      <th>Nome_Estudante</th>\n",
       "      <th>Genero</th>\n",
       "      <th>Serie</th>\n",
       "      <th>Nome_Escola</th>\n",
       "      <th>Nota_Redacao</th>\n",
       "      <th>Nota_Matematica</th>\n",
       "      <th>ID_Escola</th>\n",
       "      <th>Tipo_Escola</th>\n",
       "      <th>Numero_Alunos</th>\n",
       "      <th>Orcamento_Anual</th>\n",
       "    </tr>\n",
       "  </thead>\n",
       "  <tbody>\n",
       "    <tr>\n",
       "      <th>0</th>\n",
       "      <td>0</td>\n",
       "      <td>Kevin Bradley</td>\n",
       "      <td>M</td>\n",
       "      <td>6</td>\n",
       "      <td>Escola A</td>\n",
       "      <td>66</td>\n",
       "      <td>79</td>\n",
       "      <td>0</td>\n",
       "      <td>Publica</td>\n",
       "      <td>2917</td>\n",
       "      <td>1910635</td>\n",
       "    </tr>\n",
       "    <tr>\n",
       "      <th>1</th>\n",
       "      <td>1</td>\n",
       "      <td>Paul Smith</td>\n",
       "      <td>M</td>\n",
       "      <td>9</td>\n",
       "      <td>Escola A</td>\n",
       "      <td>94</td>\n",
       "      <td>61</td>\n",
       "      <td>0</td>\n",
       "      <td>Publica</td>\n",
       "      <td>2917</td>\n",
       "      <td>1910635</td>\n",
       "    </tr>\n",
       "    <tr>\n",
       "      <th>2</th>\n",
       "      <td>2</td>\n",
       "      <td>John Rodriguez</td>\n",
       "      <td>M</td>\n",
       "      <td>9</td>\n",
       "      <td>Escola A</td>\n",
       "      <td>90</td>\n",
       "      <td>60</td>\n",
       "      <td>0</td>\n",
       "      <td>Publica</td>\n",
       "      <td>2917</td>\n",
       "      <td>1910635</td>\n",
       "    </tr>\n",
       "    <tr>\n",
       "      <th>3</th>\n",
       "      <td>3</td>\n",
       "      <td>Oliver Scott</td>\n",
       "      <td>M</td>\n",
       "      <td>9</td>\n",
       "      <td>Escola A</td>\n",
       "      <td>67</td>\n",
       "      <td>58</td>\n",
       "      <td>0</td>\n",
       "      <td>Publica</td>\n",
       "      <td>2917</td>\n",
       "      <td>1910635</td>\n",
       "    </tr>\n",
       "    <tr>\n",
       "      <th>4</th>\n",
       "      <td>4</td>\n",
       "      <td>William Ray</td>\n",
       "      <td>F</td>\n",
       "      <td>6</td>\n",
       "      <td>Escola A</td>\n",
       "      <td>97</td>\n",
       "      <td>84</td>\n",
       "      <td>0</td>\n",
       "      <td>Publica</td>\n",
       "      <td>2917</td>\n",
       "      <td>1910635</td>\n",
       "    </tr>\n",
       "  </tbody>\n",
       "</table>\n",
       "</div>"
      ],
      "text/plain": [
       "   ID_Estudante  Nome_Estudante Genero  Serie Nome_Escola  Nota_Redacao  \\\n",
       "0             0   Kevin Bradley      M      6    Escola A            66   \n",
       "1             1      Paul Smith      M      9    Escola A            94   \n",
       "2             2  John Rodriguez      M      9    Escola A            90   \n",
       "3             3    Oliver Scott      M      9    Escola A            67   \n",
       "4             4     William Ray      F      6    Escola A            97   \n",
       "\n",
       "   Nota_Matematica  ID_Escola Tipo_Escola  Numero_Alunos  Orcamento_Anual  \n",
       "0               79          0     Publica           2917          1910635  \n",
       "1               61          0     Publica           2917          1910635  \n",
       "2               60          0     Publica           2917          1910635  \n",
       "3               58          0     Publica           2917          1910635  \n",
       "4               84          0     Publica           2917          1910635  "
      ]
     },
     "execution_count": 157,
     "metadata": {},
     "output_type": "execute_result"
    }
   ],
   "source": [
    "# Visualiza\n",
    "dados_full.head()"
   ]
  },
  {
   "cell_type": "code",
   "execution_count": 158,
   "metadata": {},
   "outputs": [
    {
     "data": {
      "text/plain": [
       "array([6, 9, 8, 7], dtype=int64)"
      ]
     },
     "execution_count": 158,
     "metadata": {},
     "output_type": "execute_result"
    }
   ],
   "source": [
    "# Séries escolares no dataset\n",
    "dados_full[\"Serie\"].unique()"
   ]
  },
  {
   "cell_type": "code",
   "execution_count": 159,
   "metadata": {},
   "outputs": [
    {
     "data": {
      "text/plain": [
       "array(['M', 'F'], dtype=object)"
      ]
     },
     "execution_count": 159,
     "metadata": {},
     "output_type": "execute_result"
    }
   ],
   "source": [
    "# Genero\n",
    "dados_full[\"Genero\"].unique()"
   ]
  },
  {
   "cell_type": "markdown",
   "metadata": {},
   "source": [
    "## Desafio de Análise de Dados\n",
    "\n",
    "Responda as perguntas abaixo."
   ]
  },
  {
   "cell_type": "markdown",
   "metadata": {},
   "source": [
    "> **1- Temos dados de quantas escolas?**"
   ]
  },
  {
   "cell_type": "code",
   "execution_count": 160,
   "metadata": {},
   "outputs": [
    {
     "data": {
      "text/plain": [
       "15"
      ]
     },
     "execution_count": 160,
     "metadata": {},
     "output_type": "execute_result"
    }
   ],
   "source": [
    "numero_de_escolas = dados_full['Nome_Escola'].nunique() # número de escolas\n",
    "numero_de_escolas # exibe o número de escolas"
   ]
  },
  {
   "cell_type": "code",
   "execution_count": 161,
   "metadata": {},
   "outputs": [
    {
     "data": {
      "text/plain": [
       "array(['Escola A', 'Escola B', 'Escola C', 'Escola D', 'Escola E',\n",
       "       'Escola F', 'Escola G', 'Escola H', 'Escola I', 'Escola J',\n",
       "       'Escola K', 'Escola L', 'Escola M', 'Escola N', 'Escola O'],\n",
       "      dtype=object)"
      ]
     },
     "execution_count": 161,
     "metadata": {},
     "output_type": "execute_result"
    }
   ],
   "source": [
    "dados_full['Nome_Escola'].unique() # lista de escolas"
   ]
  },
  {
   "cell_type": "markdown",
   "metadata": {},
   "source": [
    "> **2- Qual o total de registros de estudantes na base de dados?**"
   ]
  },
  {
   "cell_type": "code",
   "execution_count": 162,
   "metadata": {},
   "outputs": [
    {
     "data": {
      "text/plain": [
       "39160"
      ]
     },
     "execution_count": 162,
     "metadata": {},
     "output_type": "execute_result"
    }
   ],
   "source": [
    "numero_de_estudantes = dados_full['ID_Estudante'].nunique() # número de estudantes\n",
    "numero_de_estudantes = dados_full['ID_Estudante'].count() # número de estudantes\n",
    "numero_de_estudantes # exibe o número de estudantes"
   ]
  },
  {
   "cell_type": "markdown",
   "metadata": {},
   "source": [
    "> **3- Qual o orçamento total considerando todas as escolas?**"
   ]
  },
  {
   "cell_type": "code",
   "execution_count": 163,
   "metadata": {},
   "outputs": [],
   "source": [
    "orcamento_todas_escolas = dados_escolas['Orcamento_Anual'].sum() # orçamento anual total"
   ]
  },
  {
   "cell_type": "code",
   "execution_count": 164,
   "metadata": {},
   "outputs": [
    {
     "name": "stdout",
     "output_type": "stream",
     "text": [
      "O orçamento total de todas as escolas é de R$ 24649428.00\n"
     ]
    }
   ],
   "source": [
    "# Verificar orçamento por escola:\n",
    "orcamento_todas_escolas = dados_full.groupby(\"Nome_Escola\")[\"Orcamento_Anual\"].max().sum()\n",
    "print(f\"O orçamento total de todas as escolas é de R$ {orcamento_todas_escolas:.2f}\")"
   ]
  },
  {
   "cell_type": "markdown",
   "metadata": {},
   "source": [
    "> **4- Qual a média da nota dos alunos em Redação?**"
   ]
  },
  {
   "cell_type": "code",
   "execution_count": 165,
   "metadata": {},
   "outputs": [
    {
     "data": {
      "text/plain": [
       "81.87574055158325"
      ]
     },
     "execution_count": 165,
     "metadata": {},
     "output_type": "execute_result"
    }
   ],
   "source": [
    "media_nota_redacao = dados_full['Nota_Redacao'].mean() # média das notas de redação\n",
    "media_nota_redacao # exibe a média das notas de redação"
   ]
  },
  {
   "cell_type": "markdown",
   "metadata": {},
   "source": [
    "> **5- Qual a média da nota dos alunos em Matemática?**"
   ]
  },
  {
   "cell_type": "code",
   "execution_count": 166,
   "metadata": {},
   "outputs": [
    {
     "data": {
      "text/plain": [
       "78.98493360572012"
      ]
     },
     "execution_count": 166,
     "metadata": {},
     "output_type": "execute_result"
    }
   ],
   "source": [
    "media_nota_matematica = dados_full['Nota_Matematica'].mean() # média das notas de matemática\n",
    "media_nota_matematica # exibe a média das notas de matemática"
   ]
  },
  {
   "cell_type": "markdown",
   "metadata": {},
   "source": [
    "> **6- Considerando que a nota de aprovação é 70, quantos alunos foram aprovados em Redação? (Entregue o resultado em valor absoluto e percentual)**"
   ]
  },
  {
   "cell_type": "code",
   "execution_count": 167,
   "metadata": {},
   "outputs": [
    {
     "name": "stdout",
     "output_type": "stream",
     "text": [
      "O número de alunos aprovados em redação é de 33600\n"
     ]
    }
   ],
   "source": [
    "# Somar quantidade de alunos com nota maior ou igual a 70 em redação\n",
    "alunos_aprovados_redacao = dados_full[(dados_full['Nota_Redacao'] >= 70)].shape[0]\n",
    "print(f\"O número de alunos aprovados em redação é de {alunos_aprovados_redacao}\")"
   ]
  },
  {
   "cell_type": "code",
   "execution_count": 168,
   "metadata": {},
   "outputs": [
    {
     "name": "stdout",
     "output_type": "stream",
     "text": [
      "O percentual de alunos aprovados em redação é de 85.80%\n"
     ]
    }
   ],
   "source": [
    "# Calcular o percentual de alunos aprovados\n",
    "percentual_aprovados_redacao = (alunos_aprovados_redacao / float(numero_de_estudantes)) * 100\n",
    "print(f\"O percentual de alunos aprovados em redação é de {percentual_aprovados_redacao:.2f}%\")"
   ]
  },
  {
   "cell_type": "markdown",
   "metadata": {},
   "source": [
    "> **7- Considerando que a nota de aprovação é 70, quantos alunos foram aprovados em Matemática? (Entregue o resultado em valor absoluto e percentual)**"
   ]
  },
  {
   "cell_type": "code",
   "execution_count": 169,
   "metadata": {},
   "outputs": [
    {
     "name": "stdout",
     "output_type": "stream",
     "text": [
      "O número de alunos aprovados em matemática é de 29360\n"
     ]
    }
   ],
   "source": [
    "alunos_aprovados_matematica = dados_full[(dados_full['Nota_Matematica'] >= 70)].shape[0]\n",
    "print(f\"O número de alunos aprovados em matemática é de {alunos_aprovados_matematica}\")"
   ]
  },
  {
   "cell_type": "code",
   "execution_count": 170,
   "metadata": {},
   "outputs": [
    {
     "name": "stdout",
     "output_type": "stream",
     "text": [
      "O percentual de alunos aprovaods em matemática é de 74.97%\n"
     ]
    }
   ],
   "source": [
    "percentual_aprovados_matematica = (alunos_aprovados_matematica / float(numero_de_estudantes)) * 100\n",
    "print(f\"O percentual de alunos aprovaods em matemática é de {percentual_aprovados_matematica:.2f}%\")"
   ]
  },
  {
   "cell_type": "markdown",
   "metadata": {},
   "source": [
    "> **8- Considerando que a nota de aprovação é 70, quantos alunos foram aprovados em Matemática e Redação? (Entregue o resultado em valor absoluto e percentual)**"
   ]
  },
  {
   "cell_type": "code",
   "execution_count": 171,
   "metadata": {},
   "outputs": [
    {
     "name": "stdout",
     "output_type": "stream",
     "text": [
      "O número de alunos aprovados em matemática e redação é de 25518\n"
     ]
    }
   ],
   "source": [
    "alunos_aprovados_redacao_matematica = dados_full[(dados_full['Nota_Matematica'] >= 70) &\n",
    "                              (dados_full['Nota_Redacao'] >= 70)].shape[0]\n",
    "print(f\"O número de alunos aprovados em matemática e redação é de {alunos_aprovados_redacao_matematica}\")"
   ]
  },
  {
   "cell_type": "code",
   "execution_count": 172,
   "metadata": {},
   "outputs": [
    {
     "name": "stdout",
     "output_type": "stream",
     "text": [
      "O percentual de alunos aprovados em matemática e redação é de 65.16%\n"
     ]
    }
   ],
   "source": [
    "percentual_aprovados_redacao_matematica = (alunos_aprovados_redacao_matematica / float(numero_de_estudantes)) * 100\n",
    "print(f\"O percentual de alunos aprovados em matemática e redação é de {percentual_aprovados_redacao_matematica:.2f}%\")"
   ]
  },
  {
   "cell_type": "markdown",
   "metadata": {},
   "source": [
    "> **9- Crie um dataframe com os resultados das questões de 1 a 8 que você calculou acima. (Dica: crie um dicionário e depois converta em dataframe do Pandas)**"
   ]
  },
  {
   "cell_type": "code",
   "execution_count": 173,
   "metadata": {},
   "outputs": [],
   "source": [
    "dict_dados = {\n",
    "    'Total de Escolas': numero_de_escolas,\n",
    "    'Total de Estudantes': numero_de_estudantes,\n",
    "    'Total Orçamento': orcamento_todas_escolas,\n",
    "    'Nota Média em Redação': media_nota_redacao,\n",
    "    'Nota Média em Matemática': media_nota_matematica,\n",
    "    '% Aprovação Redação': percentual_aprovados_redacao,\n",
    "    '% Aprovação Matemática': percentual_aprovados_matematica,\n",
    "    '% Aprovação Total': percentual_aprovados_redacao_matematica\n",
    "}"
   ]
  },
  {
   "cell_type": "code",
   "execution_count": 174,
   "metadata": {},
   "outputs": [
    {
     "data": {
      "text/plain": [
       "{'Total de Escolas': 15,\n",
       " 'Total de Estudantes': 39160,\n",
       " 'Total Orçamento': 24649428,\n",
       " 'Nota Média em Redação': 81.87574055158325,\n",
       " 'Nota Média em Matemática': 78.98493360572012,\n",
       " '% Aprovação Redação': 85.80183861082737,\n",
       " '% Aprovação Matemática': 74.97446373850867,\n",
       " '% Aprovação Total': 65.16343207354444}"
      ]
     },
     "execution_count": 174,
     "metadata": {},
     "output_type": "execute_result"
    }
   ],
   "source": [
    "dict_dados # exibe o dicionário"
   ]
  },
  {
   "cell_type": "code",
   "execution_count": 175,
   "metadata": {},
   "outputs": [
    {
     "data": {
      "text/html": [
       "<div>\n",
       "<style scoped>\n",
       "    .dataframe tbody tr th:only-of-type {\n",
       "        vertical-align: middle;\n",
       "    }\n",
       "\n",
       "    .dataframe tbody tr th {\n",
       "        vertical-align: top;\n",
       "    }\n",
       "\n",
       "    .dataframe thead th {\n",
       "        text-align: right;\n",
       "    }\n",
       "</style>\n",
       "<table border=\"1\" class=\"dataframe\">\n",
       "  <thead>\n",
       "    <tr style=\"text-align: right;\">\n",
       "      <th></th>\n",
       "      <th>Total de Escolas</th>\n",
       "      <th>Total de Estudantes</th>\n",
       "      <th>Total Orçamento</th>\n",
       "      <th>Nota Média em Redação</th>\n",
       "      <th>Nota Média em Matemática</th>\n",
       "      <th>% Aprovação Redação</th>\n",
       "      <th>% Aprovação Matemática</th>\n",
       "      <th>% Aprovação Total</th>\n",
       "    </tr>\n",
       "  </thead>\n",
       "  <tbody>\n",
       "    <tr>\n",
       "      <th>0</th>\n",
       "      <td>15</td>\n",
       "      <td>39160</td>\n",
       "      <td>24649428</td>\n",
       "      <td>81.875741</td>\n",
       "      <td>78.984934</td>\n",
       "      <td>85.801839</td>\n",
       "      <td>74.974464</td>\n",
       "      <td>65.163432</td>\n",
       "    </tr>\n",
       "  </tbody>\n",
       "</table>\n",
       "</div>"
      ],
      "text/plain": [
       "   Total de Escolas  Total de Estudantes  Total Orçamento  \\\n",
       "0                15                39160         24649428   \n",
       "\n",
       "   Nota Média em Redação  Nota Média em Matemática  % Aprovação Redação  \\\n",
       "0              81.875741                 78.984934            85.801839   \n",
       "\n",
       "   % Aprovação Matemática  % Aprovação Total  \n",
       "0               74.974464          65.163432  "
      ]
     },
     "execution_count": 175,
     "metadata": {},
     "output_type": "execute_result"
    }
   ],
   "source": [
    "df_resultados = pd.DataFrame(dict_dados, index = [0]) # cria um dataframe com o dicionário. Index = 0 para que os dados sejam exibidos na horizontal\n",
    "df_resultados # exibe o dataframe"
   ]
  },
  {
   "cell_type": "code",
   "execution_count": 176,
   "metadata": {},
   "outputs": [
    {
     "data": {
      "text/plain": [
       "pandas.core.frame.DataFrame"
      ]
     },
     "execution_count": 176,
     "metadata": {},
     "output_type": "execute_result"
    }
   ],
   "source": [
    "type(df_resultados) # exibe o tipo do dataframe"
   ]
  },
  {
   "cell_type": "markdown",
   "metadata": {},
   "source": [
    "> **10- Formate as colunas \"Total de Estudantes\" e \"Total Orçamento\" ajustando as casas decimais.**"
   ]
  },
  {
   "cell_type": "code",
   "execution_count": 177,
   "metadata": {},
   "outputs": [],
   "source": [
    "df_resultados['Total de Estudantes'] = df_resultados['Total de Estudantes'].map('{:,}'.format) # formata o campo Total de Estudantes\n",
    "df_resultados['Total Orçamento'] = df_resultados['Total Orçamento'].map('R$ {:,.2f}'.format) # formata o campo Total Orçamento"
   ]
  },
  {
   "cell_type": "code",
   "execution_count": 178,
   "metadata": {},
   "outputs": [
    {
     "data": {
      "text/html": [
       "<div>\n",
       "<style scoped>\n",
       "    .dataframe tbody tr th:only-of-type {\n",
       "        vertical-align: middle;\n",
       "    }\n",
       "\n",
       "    .dataframe tbody tr th {\n",
       "        vertical-align: top;\n",
       "    }\n",
       "\n",
       "    .dataframe thead th {\n",
       "        text-align: right;\n",
       "    }\n",
       "</style>\n",
       "<table border=\"1\" class=\"dataframe\">\n",
       "  <thead>\n",
       "    <tr style=\"text-align: right;\">\n",
       "      <th></th>\n",
       "      <th>Total de Escolas</th>\n",
       "      <th>Total de Estudantes</th>\n",
       "      <th>Total Orçamento</th>\n",
       "      <th>Nota Média em Redação</th>\n",
       "      <th>Nota Média em Matemática</th>\n",
       "      <th>% Aprovação Redação</th>\n",
       "      <th>% Aprovação Matemática</th>\n",
       "      <th>% Aprovação Total</th>\n",
       "    </tr>\n",
       "  </thead>\n",
       "  <tbody>\n",
       "    <tr>\n",
       "      <th>0</th>\n",
       "      <td>15</td>\n",
       "      <td>39,160</td>\n",
       "      <td>R$ 24,649,428.00</td>\n",
       "      <td>81.875741</td>\n",
       "      <td>78.984934</td>\n",
       "      <td>85.801839</td>\n",
       "      <td>74.974464</td>\n",
       "      <td>65.163432</td>\n",
       "    </tr>\n",
       "  </tbody>\n",
       "</table>\n",
       "</div>"
      ],
      "text/plain": [
       "   Total de Escolas Total de Estudantes   Total Orçamento  \\\n",
       "0                15              39,160  R$ 24,649,428.00   \n",
       "\n",
       "   Nota Média em Redação  Nota Média em Matemática  % Aprovação Redação  \\\n",
       "0              81.875741                 78.984934            85.801839   \n",
       "\n",
       "   % Aprovação Matemática  % Aprovação Total  \n",
       "0               74.974464          65.163432  "
      ]
     },
     "execution_count": 178,
     "metadata": {},
     "output_type": "execute_result"
    }
   ],
   "source": [
    "df_resultados # exibe o dataframe"
   ]
  },
  {
   "cell_type": "markdown",
   "metadata": {},
   "source": [
    "## Análise de Dados com Pandas"
   ]
  },
  {
   "cell_type": "code",
   "execution_count": 179,
   "metadata": {},
   "outputs": [
    {
     "data": {
      "text/plain": [
       "Genero\n",
       "F    17027\n",
       "M    16573\n",
       "Name: count, dtype: int64"
      ]
     },
     "execution_count": 179,
     "metadata": {},
     "output_type": "execute_result"
    }
   ],
   "source": [
    "# Entre os alunos aprovados em redação (nota > 70), qual gênero obteve maior número de aprovações?\n",
    "aprovado_redacao = dados_full[(dados_full['Nota_Redacao'] >= 70)] # filtrar alunos aprovados em redação\n",
    "aprovado_redacao_por_genero = aprovado_redacao['Genero'].value_counts() # contar a quantidade de alunos aprovados por gênero\n",
    "aprovado_redacao_por_genero # exibe a quantidade de alunos aprovados por gênero"
   ]
  },
  {
   "cell_type": "code",
   "execution_count": 180,
   "metadata": {},
   "outputs": [
    {
     "data": {
      "text/plain": [
       "Genero\n",
       "F    14835\n",
       "M    14525\n",
       "Name: count, dtype: int64"
      ]
     },
     "execution_count": 180,
     "metadata": {},
     "output_type": "execute_result"
    }
   ],
   "source": [
    "# Entre os alunos aprovados em matemática (nota > 70), qual gênero obteve maior número de aprovações?\n",
    "aprovado_matematica = dados_full[(dados_full['Nota_Matematica'] >= 70)] # filtrar alunos aprovados em matemática\n",
    "aprovado_matematica_por_genero = aprovado_matematica['Genero'].value_counts() # contar a quantidade de alunos aprovados por gênero\n",
    "aprovado_matematica_por_genero # exibe a quantidade de alunos aprovados por gênero"
   ]
  },
  {
   "cell_type": "markdown",
   "metadata": {},
   "source": [
    "## Quais são os tipos de escolas na base de dados?"
   ]
  },
  {
   "cell_type": "code",
   "execution_count": 181,
   "metadata": {},
   "outputs": [
    {
     "data": {
      "text/plain": [
       "array(['Publica', 'Particular'], dtype=object)"
      ]
     },
     "execution_count": 181,
     "metadata": {},
     "output_type": "execute_result"
    }
   ],
   "source": [
    "tipos_escolas = dados_full['Tipo_Escola'].unique()\n",
    "tipos_escolas # exibe os tipos de escolas"
   ]
  },
  {
   "cell_type": "code",
   "execution_count": 182,
   "metadata": {},
   "outputs": [
    {
     "data": {
      "text/plain": [
       "Tipo_Escola\n",
       "Particular    8\n",
       "Publica       7\n",
       "Name: count, dtype: int64"
      ]
     },
     "execution_count": 182,
     "metadata": {},
     "output_type": "execute_result"
    }
   ],
   "source": [
    "dados_escolas['Tipo_Escola'].value_counts() # exibe a quantidade de escolas por tipo"
   ]
  },
  {
   "cell_type": "code",
   "execution_count": 183,
   "metadata": {},
   "outputs": [
    {
     "data": {
      "text/plain": [
       "Nome_Escola\n",
       "Escola C    Particular\n",
       "Escola E    Particular\n",
       "Escola F    Particular\n",
       "Escola G    Particular\n",
       "Escola I    Particular\n",
       "Escola J    Particular\n",
       "Escola K    Particular\n",
       "Escola O    Particular\n",
       "Escola A       Publica\n",
       "Escola B       Publica\n",
       "Escola D       Publica\n",
       "Escola H       Publica\n",
       "Escola L       Publica\n",
       "Escola M       Publica\n",
       "Escola N       Publica\n",
       "Name: Tipo_Escola, dtype: object"
      ]
     },
     "execution_count": 183,
     "metadata": {},
     "output_type": "execute_result"
    }
   ],
   "source": [
    "tipos_escolas = dados_escolas.set_index('Nome_Escola')['Tipo_Escola'].sort_values() # ordenar os tipos de escolas\n",
    "tipos_escolas # exibe os tipos de escolas"
   ]
  },
  {
   "cell_type": "markdown",
   "metadata": {},
   "source": [
    "## Qual o total de estudantes por escola?"
   ]
  },
  {
   "cell_type": "code",
   "execution_count": 184,
   "metadata": {},
   "outputs": [
    {
     "data": {
      "text/plain": [
       "Nome_Escola\n",
       "Escola I     427\n",
       "Escola J     962\n",
       "Escola E    1468\n",
       "Escola O    1625\n",
       "Escola C    1761\n",
       "Escola K    1800\n",
       "Escola G    1858\n",
       "Escola F    2283\n",
       "Escola N    2739\n",
       "Escola A    2917\n",
       "Escola B    2949\n",
       "Escola L    3999\n",
       "Escola D    4635\n",
       "Escola M    4761\n",
       "Escola H    4976\n",
       "Name: count, dtype: int64"
      ]
     },
     "execution_count": 184,
     "metadata": {},
     "output_type": "execute_result"
    }
   ],
   "source": [
    "qtde_aluno_por_escola = dados_full['Nome_Escola'].value_counts().sort_values() # quantidade de alunos por escola\n",
    "qtde_aluno_por_escola # exibe a quantidade de alunos por escola"
   ]
  },
  {
   "cell_type": "markdown",
   "metadata": {},
   "source": [
    "## Qual é o orçamento de cada escola por capita (por estudante)?"
   ]
  },
  {
   "cell_type": "code",
   "execution_count": 185,
   "metadata": {},
   "outputs": [
    {
     "data": {
      "text/plain": [
       "Nome_Escola\n",
       "Escola I     248087.0\n",
       "Escola J     585858.0\n",
       "Escola E     917500.0\n",
       "Escola O    1043130.0\n",
       "Escola K    1049400.0\n",
       "Escola C    1056600.0\n",
       "Escola G    1081356.0\n",
       "Escola F    1319574.0\n",
       "Escola N    1763916.0\n",
       "Escola B    1884411.0\n",
       "Escola A    1910635.0\n",
       "Escola L    2547363.0\n",
       "Escola D    3022020.0\n",
       "Escola M    3094650.0\n",
       "Escola H    3124928.0\n",
       "Name: Orcamento_Anual, dtype: float64"
      ]
     },
     "execution_count": 185,
     "metadata": {},
     "output_type": "execute_result"
    }
   ],
   "source": [
    "orcamento_por_escola = dados_full.groupby('Nome_Escola')['Orcamento_Anual'].mean().sort_values() # orçamento por escola\n",
    "orcamento_por_escola # exibe o orçamento por escola"
   ]
  },
  {
   "cell_type": "code",
   "execution_count": 186,
   "metadata": {},
   "outputs": [
    {
     "data": {
      "text/plain": [
       "Nome_Escola\n",
       "Escola F    578.000000\n",
       "Escola I    581.000000\n",
       "Escola G    582.000000\n",
       "Escola K    583.000000\n",
       "Escola C    600.000000\n",
       "Escola J    609.000000\n",
       "Escola E    625.000000\n",
       "Escola H    628.000000\n",
       "Escola L    637.000000\n",
       "Escola B    639.000000\n",
       "Escola O    641.926154\n",
       "Escola N    644.000000\n",
       "Escola M    650.000000\n",
       "Escola D    652.000000\n",
       "Escola A    655.000000\n",
       "dtype: float64"
      ]
     },
     "execution_count": 186,
     "metadata": {},
     "output_type": "execute_result"
    }
   ],
   "source": [
    "orcamento_per_capita = (orcamento_por_escola / qtde_aluno_por_escola).sort_values() # orçamento per capita\n",
    "orcamento_per_capita # exibe o orçamento per capita"
   ]
  },
  {
   "cell_type": "code",
   "execution_count": 187,
   "metadata": {},
   "outputs": [
    {
     "data": {
      "text/plain": [
       "Index(['ID_Estudante', 'Nome_Estudante', 'Genero', 'Serie', 'Nome_Escola',\n",
       "       'Nota_Redacao', 'Nota_Matematica', 'ID_Escola', 'Tipo_Escola',\n",
       "       'Numero_Alunos', 'Orcamento_Anual'],\n",
       "      dtype='object')"
      ]
     },
     "execution_count": 187,
     "metadata": {},
     "output_type": "execute_result"
    }
   ],
   "source": [
    "dados_full.columns # exibe as colunas do dataframe"
   ]
  },
  {
   "cell_type": "markdown",
   "metadata": {},
   "source": [
    "## Qual é a média de notas em Redação por escola?"
   ]
  },
  {
   "cell_type": "code",
   "execution_count": 188,
   "metadata": {},
   "outputs": [
    {
     "data": {
      "text/plain": [
       "Nome_Escola\n",
       "Escola L    80.744686\n",
       "Escola N    80.746258\n",
       "Escola D    80.934412\n",
       "Escola M    80.966394\n",
       "Escola H    81.033963\n",
       "Escola B    81.158020\n",
       "Escola A    81.182722\n",
       "Escola C    83.725724\n",
       "Escola O    83.810462\n",
       "Escola I    83.814988\n",
       "Escola E    83.816757\n",
       "Escola K    83.955000\n",
       "Escola G    83.975780\n",
       "Escola F    83.989488\n",
       "Escola J    84.044699\n",
       "Name: Nota_Redacao, dtype: float64"
      ]
     },
     "execution_count": 188,
     "metadata": {},
     "output_type": "execute_result"
    }
   ],
   "source": [
    "media_escola_redacao = dados_full.groupby('Nome_Escola')['Nota_Redacao'].mean().sort_values() # média de redação por escola\n",
    "media_escola_redacao # exibe a média de redação por escola"
   ]
  },
  {
   "cell_type": "markdown",
   "metadata": {},
   "source": [
    "## Qual é a média de notas em Matemática por escola?"
   ]
  },
  {
   "cell_type": "code",
   "execution_count": 189,
   "metadata": {},
   "outputs": [
    {
     "data": {
      "text/plain": [
       "Nome_Escola\n",
       "Escola A    76.629414\n",
       "Escola B    76.711767\n",
       "Escola L    76.842711\n",
       "Escola H    77.048432\n",
       "Escola M    77.072464\n",
       "Escola N    77.102592\n",
       "Escola D    77.289752\n",
       "Escola G    83.061895\n",
       "Escola F    83.274201\n",
       "Escola E    83.351499\n",
       "Escola C    83.359455\n",
       "Escola O    83.435077\n",
       "Escola K    83.682222\n",
       "Escola I    83.803279\n",
       "Escola J    83.839917\n",
       "Name: Nota_Matematica, dtype: float64"
      ]
     },
     "execution_count": 189,
     "metadata": {},
     "output_type": "execute_result"
    }
   ],
   "source": [
    "media_escola_matematica = dados_full.groupby('Nome_Escola')['Nota_Matematica'].mean().sort_values() # média de matemática por escola\n",
    "media_escola_matematica # exibe a média de matemática por escola"
   ]
  },
  {
   "cell_type": "markdown",
   "metadata": {},
   "source": [
    "## Considerando somente os alunos aprovados em redação, qual é a média de notas dos alunos por escola?"
   ]
  },
  {
   "cell_type": "code",
   "execution_count": 190,
   "metadata": {},
   "outputs": [
    {
     "data": {
      "text/plain": [
       "Nome_Escola\n",
       "Escola O    84.222644\n",
       "Escola E    84.253156\n",
       "Escola H    84.362521\n",
       "Escola C    84.362559\n",
       "Escola L    84.374377\n",
       "Escola I    84.391727\n",
       "Escola M    84.430566\n",
       "Escola G    84.432612\n",
       "Escola K    84.479586\n",
       "Escola D    84.483725\n",
       "Escola F    84.526770\n",
       "Escola N    84.612799\n",
       "Escola J    84.680390\n",
       "Escola A    84.691400\n",
       "Escola B    84.767745\n",
       "Name: Nota_Redacao, dtype: float64"
      ]
     },
     "execution_count": 190,
     "metadata": {},
     "output_type": "execute_result"
    }
   ],
   "source": [
    "alunos_aprovados_em_redacao = dados_full[(dados_full['Nota_Redacao'] >= 70)] # alunos aprovados em redação\n",
    "media_aprov_red_por_escola = alunos_aprovados_em_redacao.groupby('Nome_Escola')['Nota_Redacao'].mean().sort_values() # média de redação por escola\n",
    "media_aprov_red_por_escola # exibe a média de redação por escola"
   ]
  },
  {
   "cell_type": "markdown",
   "metadata": {},
   "source": [
    "## Calcular porcentagem de alunos aprovados em Redação por escola"
   ]
  },
  {
   "cell_type": "code",
   "execution_count": 191,
   "metadata": {},
   "outputs": [
    {
     "data": {
      "text/plain": [
       "Nome_Escola\n",
       "Escola N    79.299014\n",
       "Escola L    80.220055\n",
       "Escola B    80.739234\n",
       "Escola D    80.862999\n",
       "Escola M    81.222432\n",
       "Escola A    81.316421\n",
       "Escola H    81.933280\n",
       "Escola C    95.854628\n",
       "Escola J    95.945946\n",
       "Escola I    96.252927\n",
       "Escola F    96.539641\n",
       "Escola K    96.611111\n",
       "Escola G    97.039828\n",
       "Escola E    97.138965\n",
       "Escola O    97.292308\n",
       "Name: count, dtype: float64"
      ]
     },
     "execution_count": 191,
     "metadata": {},
     "output_type": "execute_result"
    }
   ],
   "source": [
    "percentual_aprovados_redacao_por_escola = (alunos_aprovados_em_redacao['Nome_Escola'].value_counts() / qtde_aluno_por_escola).sort_values() * 100 # percentual de alunos aprovados em redação por escola\n",
    "percentual_aprovados_redacao_por_escola # exibe o percentual de alunos aprovados em redação por escola"
   ]
  },
  {
   "cell_type": "markdown",
   "metadata": {},
   "source": [
    "## Repetir para os alunos aprovados em Matemática"
   ]
  },
  {
   "cell_type": "code",
   "execution_count": 192,
   "metadata": {},
   "outputs": [
    {
     "data": {
      "text/plain": [
       "Nome_Escola\n",
       "Escola G    83.972556\n",
       "Escola N    84.165687\n",
       "Escola A    84.240084\n",
       "Escola F    84.244050\n",
       "Escola B    84.310894\n",
       "Escola C    84.326679\n",
       "Escola L    84.339111\n",
       "Escola E    84.394602\n",
       "Escola H    84.505124\n",
       "Escola O    84.522772\n",
       "Escola J    84.719780\n",
       "Escola M    84.742448\n",
       "Escola K    84.758929\n",
       "Escola D    84.936975\n",
       "Escola I    85.040506\n",
       "Name: Nota_Matematica, dtype: float64"
      ]
     },
     "execution_count": 192,
     "metadata": {},
     "output_type": "execute_result"
    }
   ],
   "source": [
    "alunos_aprovados_em_matematica = dados_full[(dados_full['Nota_Matematica'] >= 70)] # alunos aprovados em matemática\n",
    "media_aprov_mat_por_escola = alunos_aprovados_em_matematica.groupby('Nome_Escola')['Nota_Matematica'].mean().sort_values() # média de matemática por escola\n",
    "media_aprov_mat_por_escola # exibe a média de matemática por escola"
   ]
  },
  {
   "cell_type": "code",
   "execution_count": 193,
   "metadata": {},
   "outputs": [
    {
     "data": {
      "text/plain": [
       "Nome_Escola\n",
       "Escola A    65.683922\n",
       "Escola B    65.988471\n",
       "Escola M    66.057551\n",
       "Escola L    66.366592\n",
       "Escola H    66.680064\n",
       "Escola D    66.752967\n",
       "Escola N    68.309602\n",
       "Escola I    92.505855\n",
       "Escola O    93.230769\n",
       "Escola K    93.333333\n",
       "Escola E    93.392371\n",
       "Escola C    93.867121\n",
       "Escola F    93.867718\n",
       "Escola G    94.133477\n",
       "Escola J    94.594595\n",
       "Name: count, dtype: float64"
      ]
     },
     "execution_count": 193,
     "metadata": {},
     "output_type": "execute_result"
    }
   ],
   "source": [
    "percentual_aprovados_matematica_por_escola = (alunos_aprovados_em_matematica['Nome_Escola'].value_counts() / qtde_aluno_por_escola).sort_values() * 100 # percentual de alunos aprovados em matemática por escola\n",
    "percentual_aprovados_matematica_por_escola # exibe o percentual de alunos aprovados em matemática por escola"
   ]
  },
  {
   "cell_type": "markdown",
   "metadata": {},
   "source": [
    "## Repetir para os alunos aprovados em Matemática e Redação"
   ]
  },
  {
   "cell_type": "code",
   "execution_count": 194,
   "metadata": {},
   "outputs": [
    {
     "data": {
      "text/plain": [
       "Nome_Escola\n",
       "Escola E    84.221805\n",
       "Escola O    84.222072\n",
       "Escola C    84.260897\n",
       "Escola L    84.280793\n",
       "Escola H    84.336889\n",
       "Escola M    84.343664\n",
       "Escola G    84.414260\n",
       "Escola K    84.471095\n",
       "Escola I    84.482940\n",
       "Escola D    84.519952\n",
       "Escola F    84.569632\n",
       "Escola A    84.662396\n",
       "Escola N    84.747142\n",
       "Escola J    84.763490\n",
       "Escola B    84.797960\n",
       "Name: Nota_Redacao, dtype: float64"
      ]
     },
     "execution_count": 194,
     "metadata": {},
     "output_type": "execute_result"
    }
   ],
   "source": [
    "alunos_aprovados_em_red_e_mat = dados_full[(dados_full['Nota_Redacao'] >= 70)\n",
    "                                           & (dados_full['Nota_Matematica'] >= 70)] # alunos aprovados em redação e matemática\n",
    "media_aprov_red_e_mat_por_escola = alunos_aprovados_em_red_e_mat.groupby('Nome_Escola')['Nota_Redacao'].mean().sort_values() # média de redação por escola\n",
    "media_aprov_red_e_mat_por_escola # exibe a média de redação por escola"
   ]
  },
  {
   "cell_type": "code",
   "execution_count": 195,
   "metadata": {},
   "outputs": [
    {
     "data": {
      "text/plain": [
       "Nome_Escola\n",
       "Escola L    52.988247\n",
       "Escola B    53.204476\n",
       "Escola A    53.513884\n",
       "Escola D    53.527508\n",
       "Escola M    53.539172\n",
       "Escola N    54.289887\n",
       "Escola H    54.642283\n",
       "Escola I    89.227166\n",
       "Escola C    89.892107\n",
       "Escola K    90.333333\n",
       "Escola J    90.540541\n",
       "Escola F    90.582567\n",
       "Escola E    90.599455\n",
       "Escola O    90.892308\n",
       "Escola G    91.334769\n",
       "Name: count, dtype: float64"
      ]
     },
     "execution_count": 195,
     "metadata": {},
     "output_type": "execute_result"
    }
   ],
   "source": [
    "percentual_aprovados_red_e_mat_por_escola = \\\n",
    "    (alunos_aprovados_em_red_e_mat['Nome_Escola'].value_counts() / qtde_aluno_por_escola).sort_values() * 100 # percentual de alunos aprovados em matemática por escola\n",
    "percentual_aprovados_red_e_mat_por_escola # exibe o percentual de alunos aprovados em matemática por escola"
   ]
  },
  {
   "cell_type": "markdown",
   "metadata": {},
   "source": [
    "## Construir um dataframe de resumo com as métricas calculadas acima"
   ]
  },
  {
   "cell_type": "code",
   "execution_count": 196,
   "metadata": {},
   "outputs": [
    {
     "data": {
      "text/html": [
       "<div>\n",
       "<style scoped>\n",
       "    .dataframe tbody tr th:only-of-type {\n",
       "        vertical-align: middle;\n",
       "    }\n",
       "\n",
       "    .dataframe tbody tr th {\n",
       "        vertical-align: top;\n",
       "    }\n",
       "\n",
       "    .dataframe thead th {\n",
       "        text-align: right;\n",
       "    }\n",
       "</style>\n",
       "<table border=\"1\" class=\"dataframe\">\n",
       "  <thead>\n",
       "    <tr style=\"text-align: right;\">\n",
       "      <th></th>\n",
       "      <th>Tipo de Escola</th>\n",
       "      <th>Total Estudantes</th>\n",
       "      <th>Total Orçamento</th>\n",
       "      <th>Orçamento Por Estudante</th>\n",
       "      <th>Nota Média Aprovação Redação</th>\n",
       "      <th>Nota Média Aprovação Matemática</th>\n",
       "      <th>% Aprovados Redação</th>\n",
       "      <th>% Aprovados Matemática</th>\n",
       "      <th>% Geral Aprovados</th>\n",
       "    </tr>\n",
       "    <tr>\n",
       "      <th>Nome_Escola</th>\n",
       "      <th></th>\n",
       "      <th></th>\n",
       "      <th></th>\n",
       "      <th></th>\n",
       "      <th></th>\n",
       "      <th></th>\n",
       "      <th></th>\n",
       "      <th></th>\n",
       "      <th></th>\n",
       "    </tr>\n",
       "  </thead>\n",
       "  <tbody>\n",
       "    <tr>\n",
       "      <th>Escola A</th>\n",
       "      <td>Publica</td>\n",
       "      <td>2917</td>\n",
       "      <td>1910635.0</td>\n",
       "      <td>655.000000</td>\n",
       "      <td>81.182722</td>\n",
       "      <td>76.629414</td>\n",
       "      <td>81.316421</td>\n",
       "      <td>65.683922</td>\n",
       "      <td>53.513884</td>\n",
       "    </tr>\n",
       "    <tr>\n",
       "      <th>Escola B</th>\n",
       "      <td>Publica</td>\n",
       "      <td>2949</td>\n",
       "      <td>1884411.0</td>\n",
       "      <td>639.000000</td>\n",
       "      <td>81.158020</td>\n",
       "      <td>76.711767</td>\n",
       "      <td>80.739234</td>\n",
       "      <td>65.988471</td>\n",
       "      <td>53.204476</td>\n",
       "    </tr>\n",
       "    <tr>\n",
       "      <th>Escola C</th>\n",
       "      <td>Particular</td>\n",
       "      <td>1761</td>\n",
       "      <td>1056600.0</td>\n",
       "      <td>600.000000</td>\n",
       "      <td>83.725724</td>\n",
       "      <td>83.359455</td>\n",
       "      <td>95.854628</td>\n",
       "      <td>93.867121</td>\n",
       "      <td>89.892107</td>\n",
       "    </tr>\n",
       "    <tr>\n",
       "      <th>Escola D</th>\n",
       "      <td>Publica</td>\n",
       "      <td>4635</td>\n",
       "      <td>3022020.0</td>\n",
       "      <td>652.000000</td>\n",
       "      <td>80.934412</td>\n",
       "      <td>77.289752</td>\n",
       "      <td>80.862999</td>\n",
       "      <td>66.752967</td>\n",
       "      <td>53.527508</td>\n",
       "    </tr>\n",
       "    <tr>\n",
       "      <th>Escola E</th>\n",
       "      <td>Particular</td>\n",
       "      <td>1468</td>\n",
       "      <td>917500.0</td>\n",
       "      <td>625.000000</td>\n",
       "      <td>83.816757</td>\n",
       "      <td>83.351499</td>\n",
       "      <td>97.138965</td>\n",
       "      <td>93.392371</td>\n",
       "      <td>90.599455</td>\n",
       "    </tr>\n",
       "    <tr>\n",
       "      <th>Escola F</th>\n",
       "      <td>Particular</td>\n",
       "      <td>2283</td>\n",
       "      <td>1319574.0</td>\n",
       "      <td>578.000000</td>\n",
       "      <td>83.989488</td>\n",
       "      <td>83.274201</td>\n",
       "      <td>96.539641</td>\n",
       "      <td>93.867718</td>\n",
       "      <td>90.582567</td>\n",
       "    </tr>\n",
       "    <tr>\n",
       "      <th>Escola G</th>\n",
       "      <td>Particular</td>\n",
       "      <td>1858</td>\n",
       "      <td>1081356.0</td>\n",
       "      <td>582.000000</td>\n",
       "      <td>83.975780</td>\n",
       "      <td>83.061895</td>\n",
       "      <td>97.039828</td>\n",
       "      <td>94.133477</td>\n",
       "      <td>91.334769</td>\n",
       "    </tr>\n",
       "    <tr>\n",
       "      <th>Escola H</th>\n",
       "      <td>Publica</td>\n",
       "      <td>4976</td>\n",
       "      <td>3124928.0</td>\n",
       "      <td>628.000000</td>\n",
       "      <td>81.033963</td>\n",
       "      <td>77.048432</td>\n",
       "      <td>81.933280</td>\n",
       "      <td>66.680064</td>\n",
       "      <td>54.642283</td>\n",
       "    </tr>\n",
       "    <tr>\n",
       "      <th>Escola I</th>\n",
       "      <td>Particular</td>\n",
       "      <td>427</td>\n",
       "      <td>248087.0</td>\n",
       "      <td>581.000000</td>\n",
       "      <td>83.814988</td>\n",
       "      <td>83.803279</td>\n",
       "      <td>96.252927</td>\n",
       "      <td>92.505855</td>\n",
       "      <td>89.227166</td>\n",
       "    </tr>\n",
       "    <tr>\n",
       "      <th>Escola J</th>\n",
       "      <td>Particular</td>\n",
       "      <td>962</td>\n",
       "      <td>585858.0</td>\n",
       "      <td>609.000000</td>\n",
       "      <td>84.044699</td>\n",
       "      <td>83.839917</td>\n",
       "      <td>95.945946</td>\n",
       "      <td>94.594595</td>\n",
       "      <td>90.540541</td>\n",
       "    </tr>\n",
       "    <tr>\n",
       "      <th>Escola K</th>\n",
       "      <td>Particular</td>\n",
       "      <td>1800</td>\n",
       "      <td>1049400.0</td>\n",
       "      <td>583.000000</td>\n",
       "      <td>83.955000</td>\n",
       "      <td>83.682222</td>\n",
       "      <td>96.611111</td>\n",
       "      <td>93.333333</td>\n",
       "      <td>90.333333</td>\n",
       "    </tr>\n",
       "    <tr>\n",
       "      <th>Escola L</th>\n",
       "      <td>Publica</td>\n",
       "      <td>3999</td>\n",
       "      <td>2547363.0</td>\n",
       "      <td>637.000000</td>\n",
       "      <td>80.744686</td>\n",
       "      <td>76.842711</td>\n",
       "      <td>80.220055</td>\n",
       "      <td>66.366592</td>\n",
       "      <td>52.988247</td>\n",
       "    </tr>\n",
       "    <tr>\n",
       "      <th>Escola M</th>\n",
       "      <td>Publica</td>\n",
       "      <td>4761</td>\n",
       "      <td>3094650.0</td>\n",
       "      <td>650.000000</td>\n",
       "      <td>80.966394</td>\n",
       "      <td>77.072464</td>\n",
       "      <td>81.222432</td>\n",
       "      <td>66.057551</td>\n",
       "      <td>53.539172</td>\n",
       "    </tr>\n",
       "    <tr>\n",
       "      <th>Escola N</th>\n",
       "      <td>Publica</td>\n",
       "      <td>2739</td>\n",
       "      <td>1763916.0</td>\n",
       "      <td>644.000000</td>\n",
       "      <td>80.746258</td>\n",
       "      <td>77.102592</td>\n",
       "      <td>79.299014</td>\n",
       "      <td>68.309602</td>\n",
       "      <td>54.289887</td>\n",
       "    </tr>\n",
       "    <tr>\n",
       "      <th>Escola O</th>\n",
       "      <td>Particular</td>\n",
       "      <td>1625</td>\n",
       "      <td>1043130.0</td>\n",
       "      <td>641.926154</td>\n",
       "      <td>83.810462</td>\n",
       "      <td>83.435077</td>\n",
       "      <td>97.292308</td>\n",
       "      <td>93.230769</td>\n",
       "      <td>90.892308</td>\n",
       "    </tr>\n",
       "  </tbody>\n",
       "</table>\n",
       "</div>"
      ],
      "text/plain": [
       "            Tipo de Escola  Total Estudantes  Total Orçamento  \\\n",
       "Nome_Escola                                                     \n",
       "Escola A           Publica              2917        1910635.0   \n",
       "Escola B           Publica              2949        1884411.0   \n",
       "Escola C        Particular              1761        1056600.0   \n",
       "Escola D           Publica              4635        3022020.0   \n",
       "Escola E        Particular              1468         917500.0   \n",
       "Escola F        Particular              2283        1319574.0   \n",
       "Escola G        Particular              1858        1081356.0   \n",
       "Escola H           Publica              4976        3124928.0   \n",
       "Escola I        Particular               427         248087.0   \n",
       "Escola J        Particular               962         585858.0   \n",
       "Escola K        Particular              1800        1049400.0   \n",
       "Escola L           Publica              3999        2547363.0   \n",
       "Escola M           Publica              4761        3094650.0   \n",
       "Escola N           Publica              2739        1763916.0   \n",
       "Escola O        Particular              1625        1043130.0   \n",
       "\n",
       "             Orçamento Por Estudante  Nota Média Aprovação Redação  \\\n",
       "Nome_Escola                                                          \n",
       "Escola A                  655.000000                     81.182722   \n",
       "Escola B                  639.000000                     81.158020   \n",
       "Escola C                  600.000000                     83.725724   \n",
       "Escola D                  652.000000                     80.934412   \n",
       "Escola E                  625.000000                     83.816757   \n",
       "Escola F                  578.000000                     83.989488   \n",
       "Escola G                  582.000000                     83.975780   \n",
       "Escola H                  628.000000                     81.033963   \n",
       "Escola I                  581.000000                     83.814988   \n",
       "Escola J                  609.000000                     84.044699   \n",
       "Escola K                  583.000000                     83.955000   \n",
       "Escola L                  637.000000                     80.744686   \n",
       "Escola M                  650.000000                     80.966394   \n",
       "Escola N                  644.000000                     80.746258   \n",
       "Escola O                  641.926154                     83.810462   \n",
       "\n",
       "             Nota Média Aprovação Matemática  % Aprovados Redação  \\\n",
       "Nome_Escola                                                         \n",
       "Escola A                           76.629414            81.316421   \n",
       "Escola B                           76.711767            80.739234   \n",
       "Escola C                           83.359455            95.854628   \n",
       "Escola D                           77.289752            80.862999   \n",
       "Escola E                           83.351499            97.138965   \n",
       "Escola F                           83.274201            96.539641   \n",
       "Escola G                           83.061895            97.039828   \n",
       "Escola H                           77.048432            81.933280   \n",
       "Escola I                           83.803279            96.252927   \n",
       "Escola J                           83.839917            95.945946   \n",
       "Escola K                           83.682222            96.611111   \n",
       "Escola L                           76.842711            80.220055   \n",
       "Escola M                           77.072464            81.222432   \n",
       "Escola N                           77.102592            79.299014   \n",
       "Escola O                           83.435077            97.292308   \n",
       "\n",
       "             % Aprovados Matemática  % Geral Aprovados  \n",
       "Nome_Escola                                             \n",
       "Escola A                  65.683922          53.513884  \n",
       "Escola B                  65.988471          53.204476  \n",
       "Escola C                  93.867121          89.892107  \n",
       "Escola D                  66.752967          53.527508  \n",
       "Escola E                  93.392371          90.599455  \n",
       "Escola F                  93.867718          90.582567  \n",
       "Escola G                  94.133477          91.334769  \n",
       "Escola H                  66.680064          54.642283  \n",
       "Escola I                  92.505855          89.227166  \n",
       "Escola J                  94.594595          90.540541  \n",
       "Escola K                  93.333333          90.333333  \n",
       "Escola L                  66.366592          52.988247  \n",
       "Escola M                  66.057551          53.539172  \n",
       "Escola N                  68.309602          54.289887  \n",
       "Escola O                  93.230769          90.892308  "
      ]
     },
     "execution_count": 196,
     "metadata": {},
     "output_type": "execute_result"
    }
   ],
   "source": [
    "df_resumo_performance_escolar = pd.DataFrame({\n",
    "    'Tipo de Escola': tipos_escolas,\n",
    "    'Total Estudantes': qtde_aluno_por_escola,\n",
    "    'Total Orçamento': orcamento_por_escola,\n",
    "    'Orçamento Por Estudante': orcamento_per_capita,\n",
    "    'Nota Média Aprovação Redação': media_escola_redacao,\n",
    "    'Nota Média Aprovação Matemática': media_escola_matematica,\n",
    "    '% Aprovados Redação': percentual_aprovados_redacao_por_escola,\n",
    "    '% Aprovados Matemática': percentual_aprovados_matematica_por_escola,\n",
    "    '% Geral Aprovados': percentual_aprovados_red_e_mat_por_escola\n",
    "})\n",
    "\n",
    "df_resumo_performance_escolar # exibe o dataframe"
   ]
  },
  {
   "cell_type": "markdown",
   "metadata": {},
   "source": [
    "## Formatando algumas colunas"
   ]
  },
  {
   "cell_type": "code",
   "execution_count": 197,
   "metadata": {},
   "outputs": [
    {
     "data": {
      "text/html": [
       "<div>\n",
       "<style scoped>\n",
       "    .dataframe tbody tr th:only-of-type {\n",
       "        vertical-align: middle;\n",
       "    }\n",
       "\n",
       "    .dataframe tbody tr th {\n",
       "        vertical-align: top;\n",
       "    }\n",
       "\n",
       "    .dataframe thead th {\n",
       "        text-align: right;\n",
       "    }\n",
       "</style>\n",
       "<table border=\"1\" class=\"dataframe\">\n",
       "  <thead>\n",
       "    <tr style=\"text-align: right;\">\n",
       "      <th></th>\n",
       "      <th>Tipo de Escola</th>\n",
       "      <th>Total Estudantes</th>\n",
       "      <th>Total Orçamento</th>\n",
       "      <th>Orçamento Por Estudante</th>\n",
       "      <th>Nota Média Aprovação Redação</th>\n",
       "      <th>Nota Média Aprovação Matemática</th>\n",
       "      <th>% Aprovados Redação</th>\n",
       "      <th>% Aprovados Matemática</th>\n",
       "      <th>% Geral Aprovados</th>\n",
       "    </tr>\n",
       "    <tr>\n",
       "      <th>Nome_Escola</th>\n",
       "      <th></th>\n",
       "      <th></th>\n",
       "      <th></th>\n",
       "      <th></th>\n",
       "      <th></th>\n",
       "      <th></th>\n",
       "      <th></th>\n",
       "      <th></th>\n",
       "      <th></th>\n",
       "    </tr>\n",
       "  </thead>\n",
       "  <tbody>\n",
       "    <tr>\n",
       "      <th>Escola A</th>\n",
       "      <td>Publica</td>\n",
       "      <td>2917</td>\n",
       "      <td>$ 1,910,635.00</td>\n",
       "      <td>$ 655.00</td>\n",
       "      <td>81.182722</td>\n",
       "      <td>76.629414</td>\n",
       "      <td>81.316421</td>\n",
       "      <td>65.683922</td>\n",
       "      <td>53.513884</td>\n",
       "    </tr>\n",
       "    <tr>\n",
       "      <th>Escola B</th>\n",
       "      <td>Publica</td>\n",
       "      <td>2949</td>\n",
       "      <td>$ 1,884,411.00</td>\n",
       "      <td>$ 639.00</td>\n",
       "      <td>81.158020</td>\n",
       "      <td>76.711767</td>\n",
       "      <td>80.739234</td>\n",
       "      <td>65.988471</td>\n",
       "      <td>53.204476</td>\n",
       "    </tr>\n",
       "    <tr>\n",
       "      <th>Escola C</th>\n",
       "      <td>Particular</td>\n",
       "      <td>1761</td>\n",
       "      <td>$ 1,056,600.00</td>\n",
       "      <td>$ 600.00</td>\n",
       "      <td>83.725724</td>\n",
       "      <td>83.359455</td>\n",
       "      <td>95.854628</td>\n",
       "      <td>93.867121</td>\n",
       "      <td>89.892107</td>\n",
       "    </tr>\n",
       "    <tr>\n",
       "      <th>Escola D</th>\n",
       "      <td>Publica</td>\n",
       "      <td>4635</td>\n",
       "      <td>$ 3,022,020.00</td>\n",
       "      <td>$ 652.00</td>\n",
       "      <td>80.934412</td>\n",
       "      <td>77.289752</td>\n",
       "      <td>80.862999</td>\n",
       "      <td>66.752967</td>\n",
       "      <td>53.527508</td>\n",
       "    </tr>\n",
       "    <tr>\n",
       "      <th>Escola E</th>\n",
       "      <td>Particular</td>\n",
       "      <td>1468</td>\n",
       "      <td>$ 917,500.00</td>\n",
       "      <td>$ 625.00</td>\n",
       "      <td>83.816757</td>\n",
       "      <td>83.351499</td>\n",
       "      <td>97.138965</td>\n",
       "      <td>93.392371</td>\n",
       "      <td>90.599455</td>\n",
       "    </tr>\n",
       "    <tr>\n",
       "      <th>Escola F</th>\n",
       "      <td>Particular</td>\n",
       "      <td>2283</td>\n",
       "      <td>$ 1,319,574.00</td>\n",
       "      <td>$ 578.00</td>\n",
       "      <td>83.989488</td>\n",
       "      <td>83.274201</td>\n",
       "      <td>96.539641</td>\n",
       "      <td>93.867718</td>\n",
       "      <td>90.582567</td>\n",
       "    </tr>\n",
       "    <tr>\n",
       "      <th>Escola G</th>\n",
       "      <td>Particular</td>\n",
       "      <td>1858</td>\n",
       "      <td>$ 1,081,356.00</td>\n",
       "      <td>$ 582.00</td>\n",
       "      <td>83.975780</td>\n",
       "      <td>83.061895</td>\n",
       "      <td>97.039828</td>\n",
       "      <td>94.133477</td>\n",
       "      <td>91.334769</td>\n",
       "    </tr>\n",
       "    <tr>\n",
       "      <th>Escola H</th>\n",
       "      <td>Publica</td>\n",
       "      <td>4976</td>\n",
       "      <td>$ 3,124,928.00</td>\n",
       "      <td>$ 628.00</td>\n",
       "      <td>81.033963</td>\n",
       "      <td>77.048432</td>\n",
       "      <td>81.933280</td>\n",
       "      <td>66.680064</td>\n",
       "      <td>54.642283</td>\n",
       "    </tr>\n",
       "    <tr>\n",
       "      <th>Escola I</th>\n",
       "      <td>Particular</td>\n",
       "      <td>427</td>\n",
       "      <td>$ 248,087.00</td>\n",
       "      <td>$ 581.00</td>\n",
       "      <td>83.814988</td>\n",
       "      <td>83.803279</td>\n",
       "      <td>96.252927</td>\n",
       "      <td>92.505855</td>\n",
       "      <td>89.227166</td>\n",
       "    </tr>\n",
       "    <tr>\n",
       "      <th>Escola J</th>\n",
       "      <td>Particular</td>\n",
       "      <td>962</td>\n",
       "      <td>$ 585,858.00</td>\n",
       "      <td>$ 609.00</td>\n",
       "      <td>84.044699</td>\n",
       "      <td>83.839917</td>\n",
       "      <td>95.945946</td>\n",
       "      <td>94.594595</td>\n",
       "      <td>90.540541</td>\n",
       "    </tr>\n",
       "    <tr>\n",
       "      <th>Escola K</th>\n",
       "      <td>Particular</td>\n",
       "      <td>1800</td>\n",
       "      <td>$ 1,049,400.00</td>\n",
       "      <td>$ 583.00</td>\n",
       "      <td>83.955000</td>\n",
       "      <td>83.682222</td>\n",
       "      <td>96.611111</td>\n",
       "      <td>93.333333</td>\n",
       "      <td>90.333333</td>\n",
       "    </tr>\n",
       "    <tr>\n",
       "      <th>Escola L</th>\n",
       "      <td>Publica</td>\n",
       "      <td>3999</td>\n",
       "      <td>$ 2,547,363.00</td>\n",
       "      <td>$ 637.00</td>\n",
       "      <td>80.744686</td>\n",
       "      <td>76.842711</td>\n",
       "      <td>80.220055</td>\n",
       "      <td>66.366592</td>\n",
       "      <td>52.988247</td>\n",
       "    </tr>\n",
       "    <tr>\n",
       "      <th>Escola M</th>\n",
       "      <td>Publica</td>\n",
       "      <td>4761</td>\n",
       "      <td>$ 3,094,650.00</td>\n",
       "      <td>$ 650.00</td>\n",
       "      <td>80.966394</td>\n",
       "      <td>77.072464</td>\n",
       "      <td>81.222432</td>\n",
       "      <td>66.057551</td>\n",
       "      <td>53.539172</td>\n",
       "    </tr>\n",
       "    <tr>\n",
       "      <th>Escola N</th>\n",
       "      <td>Publica</td>\n",
       "      <td>2739</td>\n",
       "      <td>$ 1,763,916.00</td>\n",
       "      <td>$ 644.00</td>\n",
       "      <td>80.746258</td>\n",
       "      <td>77.102592</td>\n",
       "      <td>79.299014</td>\n",
       "      <td>68.309602</td>\n",
       "      <td>54.289887</td>\n",
       "    </tr>\n",
       "    <tr>\n",
       "      <th>Escola O</th>\n",
       "      <td>Particular</td>\n",
       "      <td>1625</td>\n",
       "      <td>$ 1,043,130.00</td>\n",
       "      <td>$ 641.93</td>\n",
       "      <td>83.810462</td>\n",
       "      <td>83.435077</td>\n",
       "      <td>97.292308</td>\n",
       "      <td>93.230769</td>\n",
       "      <td>90.892308</td>\n",
       "    </tr>\n",
       "  </tbody>\n",
       "</table>\n",
       "</div>"
      ],
      "text/plain": [
       "            Tipo de Escola  Total Estudantes Total Orçamento  \\\n",
       "Nome_Escola                                                    \n",
       "Escola A           Publica              2917  $ 1,910,635.00   \n",
       "Escola B           Publica              2949  $ 1,884,411.00   \n",
       "Escola C        Particular              1761  $ 1,056,600.00   \n",
       "Escola D           Publica              4635  $ 3,022,020.00   \n",
       "Escola E        Particular              1468    $ 917,500.00   \n",
       "Escola F        Particular              2283  $ 1,319,574.00   \n",
       "Escola G        Particular              1858  $ 1,081,356.00   \n",
       "Escola H           Publica              4976  $ 3,124,928.00   \n",
       "Escola I        Particular               427    $ 248,087.00   \n",
       "Escola J        Particular               962    $ 585,858.00   \n",
       "Escola K        Particular              1800  $ 1,049,400.00   \n",
       "Escola L           Publica              3999  $ 2,547,363.00   \n",
       "Escola M           Publica              4761  $ 3,094,650.00   \n",
       "Escola N           Publica              2739  $ 1,763,916.00   \n",
       "Escola O        Particular              1625  $ 1,043,130.00   \n",
       "\n",
       "            Orçamento Por Estudante  Nota Média Aprovação Redação  \\\n",
       "Nome_Escola                                                         \n",
       "Escola A                   $ 655.00                     81.182722   \n",
       "Escola B                   $ 639.00                     81.158020   \n",
       "Escola C                   $ 600.00                     83.725724   \n",
       "Escola D                   $ 652.00                     80.934412   \n",
       "Escola E                   $ 625.00                     83.816757   \n",
       "Escola F                   $ 578.00                     83.989488   \n",
       "Escola G                   $ 582.00                     83.975780   \n",
       "Escola H                   $ 628.00                     81.033963   \n",
       "Escola I                   $ 581.00                     83.814988   \n",
       "Escola J                   $ 609.00                     84.044699   \n",
       "Escola K                   $ 583.00                     83.955000   \n",
       "Escola L                   $ 637.00                     80.744686   \n",
       "Escola M                   $ 650.00                     80.966394   \n",
       "Escola N                   $ 644.00                     80.746258   \n",
       "Escola O                   $ 641.93                     83.810462   \n",
       "\n",
       "             Nota Média Aprovação Matemática  % Aprovados Redação  \\\n",
       "Nome_Escola                                                         \n",
       "Escola A                           76.629414            81.316421   \n",
       "Escola B                           76.711767            80.739234   \n",
       "Escola C                           83.359455            95.854628   \n",
       "Escola D                           77.289752            80.862999   \n",
       "Escola E                           83.351499            97.138965   \n",
       "Escola F                           83.274201            96.539641   \n",
       "Escola G                           83.061895            97.039828   \n",
       "Escola H                           77.048432            81.933280   \n",
       "Escola I                           83.803279            96.252927   \n",
       "Escola J                           83.839917            95.945946   \n",
       "Escola K                           83.682222            96.611111   \n",
       "Escola L                           76.842711            80.220055   \n",
       "Escola M                           77.072464            81.222432   \n",
       "Escola N                           77.102592            79.299014   \n",
       "Escola O                           83.435077            97.292308   \n",
       "\n",
       "             % Aprovados Matemática  % Geral Aprovados  \n",
       "Nome_Escola                                             \n",
       "Escola A                  65.683922          53.513884  \n",
       "Escola B                  65.988471          53.204476  \n",
       "Escola C                  93.867121          89.892107  \n",
       "Escola D                  66.752967          53.527508  \n",
       "Escola E                  93.392371          90.599455  \n",
       "Escola F                  93.867718          90.582567  \n",
       "Escola G                  94.133477          91.334769  \n",
       "Escola H                  66.680064          54.642283  \n",
       "Escola I                  92.505855          89.227166  \n",
       "Escola J                  94.594595          90.540541  \n",
       "Escola K                  93.333333          90.333333  \n",
       "Escola L                  66.366592          52.988247  \n",
       "Escola M                  66.057551          53.539172  \n",
       "Escola N                  68.309602          54.289887  \n",
       "Escola O                  93.230769          90.892308  "
      ]
     },
     "execution_count": 197,
     "metadata": {},
     "output_type": "execute_result"
    }
   ],
   "source": [
    "df_resumo_performance_escolar['Total Orçamento'] = \\\n",
    "    df_resumo_performance_escolar['Total Orçamento'].map('$ {:,.2f}'.format) # formata o campo Total Orçamento\n",
    "df_resumo_performance_escolar['Orçamento Por Estudante'] = \\\n",
    "    df_resumo_performance_escolar['Orçamento Por Estudante'].map('$ {:,.2f}'.format) # formata o campo Orçamento Por Estudante\n",
    "\n",
    "df_resumo_performance_escolar # exibe o dataframe"
   ]
  },
  {
   "cell_type": "code",
   "execution_count": 198,
   "metadata": {},
   "outputs": [
    {
     "data": {
      "text/html": [
       "<div>\n",
       "<style scoped>\n",
       "    .dataframe tbody tr th:only-of-type {\n",
       "        vertical-align: middle;\n",
       "    }\n",
       "\n",
       "    .dataframe tbody tr th {\n",
       "        vertical-align: top;\n",
       "    }\n",
       "\n",
       "    .dataframe thead th {\n",
       "        text-align: right;\n",
       "    }\n",
       "</style>\n",
       "<table border=\"1\" class=\"dataframe\">\n",
       "  <thead>\n",
       "    <tr style=\"text-align: right;\">\n",
       "      <th></th>\n",
       "      <th>Total Estudantes</th>\n",
       "      <th>Nota Média Aprovação Redação</th>\n",
       "      <th>Nota Média Aprovação Matemática</th>\n",
       "      <th>% Aprovados Redação</th>\n",
       "      <th>% Aprovados Matemática</th>\n",
       "      <th>% Geral Aprovados</th>\n",
       "    </tr>\n",
       "  </thead>\n",
       "  <tbody>\n",
       "    <tr>\n",
       "      <th>count</th>\n",
       "      <td>15.000000</td>\n",
       "      <td>15.000000</td>\n",
       "      <td>15.000000</td>\n",
       "      <td>15.000000</td>\n",
       "      <td>15.000000</td>\n",
       "      <td>15.000000</td>\n",
       "    </tr>\n",
       "    <tr>\n",
       "      <th>mean</th>\n",
       "      <td>2610.666667</td>\n",
       "      <td>82.526623</td>\n",
       "      <td>80.433645</td>\n",
       "      <td>89.217919</td>\n",
       "      <td>80.984294</td>\n",
       "      <td>73.273847</td>\n",
       "    </tr>\n",
       "    <tr>\n",
       "      <th>std</th>\n",
       "      <td>1421.408339</td>\n",
       "      <td>1.516973</td>\n",
       "      <td>3.375608</td>\n",
       "      <td>8.179495</td>\n",
       "      <td>13.996232</td>\n",
       "      <td>18.988451</td>\n",
       "    </tr>\n",
       "    <tr>\n",
       "      <th>min</th>\n",
       "      <td>427.000000</td>\n",
       "      <td>80.744686</td>\n",
       "      <td>76.629414</td>\n",
       "      <td>79.299014</td>\n",
       "      <td>65.683922</td>\n",
       "      <td>52.988247</td>\n",
       "    </tr>\n",
       "    <tr>\n",
       "      <th>25%</th>\n",
       "      <td>1693.000000</td>\n",
       "      <td>81.000178</td>\n",
       "      <td>77.060448</td>\n",
       "      <td>81.042716</td>\n",
       "      <td>66.523328</td>\n",
       "      <td>53.533340</td>\n",
       "    </tr>\n",
       "    <tr>\n",
       "      <th>50%</th>\n",
       "      <td>2283.000000</td>\n",
       "      <td>83.725724</td>\n",
       "      <td>83.061895</td>\n",
       "      <td>95.854628</td>\n",
       "      <td>92.505855</td>\n",
       "      <td>89.227166</td>\n",
       "    </tr>\n",
       "    <tr>\n",
       "      <th>75%</th>\n",
       "      <td>3474.000000</td>\n",
       "      <td>83.885879</td>\n",
       "      <td>83.397266</td>\n",
       "      <td>96.575376</td>\n",
       "      <td>93.629746</td>\n",
       "      <td>90.561554</td>\n",
       "    </tr>\n",
       "    <tr>\n",
       "      <th>max</th>\n",
       "      <td>4976.000000</td>\n",
       "      <td>84.044699</td>\n",
       "      <td>83.839917</td>\n",
       "      <td>97.292308</td>\n",
       "      <td>94.594595</td>\n",
       "      <td>91.334769</td>\n",
       "    </tr>\n",
       "  </tbody>\n",
       "</table>\n",
       "</div>"
      ],
      "text/plain": [
       "       Total Estudantes  Nota Média Aprovação Redação  \\\n",
       "count         15.000000                     15.000000   \n",
       "mean        2610.666667                     82.526623   \n",
       "std         1421.408339                      1.516973   \n",
       "min          427.000000                     80.744686   \n",
       "25%         1693.000000                     81.000178   \n",
       "50%         2283.000000                     83.725724   \n",
       "75%         3474.000000                     83.885879   \n",
       "max         4976.000000                     84.044699   \n",
       "\n",
       "       Nota Média Aprovação Matemática  % Aprovados Redação  \\\n",
       "count                        15.000000            15.000000   \n",
       "mean                         80.433645            89.217919   \n",
       "std                           3.375608             8.179495   \n",
       "min                          76.629414            79.299014   \n",
       "25%                          77.060448            81.042716   \n",
       "50%                          83.061895            95.854628   \n",
       "75%                          83.397266            96.575376   \n",
       "max                          83.839917            97.292308   \n",
       "\n",
       "       % Aprovados Matemática  % Geral Aprovados  \n",
       "count               15.000000          15.000000  \n",
       "mean                80.984294          73.273847  \n",
       "std                 13.996232          18.988451  \n",
       "min                 65.683922          52.988247  \n",
       "25%                 66.523328          53.533340  \n",
       "50%                 92.505855          89.227166  \n",
       "75%                 93.629746          90.561554  \n",
       "max                 94.594595          91.334769  "
      ]
     },
     "execution_count": 198,
     "metadata": {},
     "output_type": "execute_result"
    }
   ],
   "source": [
    "df_resumo_performance_escolar.describe() # exibe estatísticas descritivas do dataframe"
   ]
  },
  {
   "cell_type": "markdown",
   "metadata": {},
   "source": [
    "## Considerando a taxa geral de aprovados, quais são as cinco melhores escolas?"
   ]
  },
  {
   "cell_type": "code",
   "execution_count": 199,
   "metadata": {},
   "outputs": [
    {
     "data": {
      "text/html": [
       "<div>\n",
       "<style scoped>\n",
       "    .dataframe tbody tr th:only-of-type {\n",
       "        vertical-align: middle;\n",
       "    }\n",
       "\n",
       "    .dataframe tbody tr th {\n",
       "        vertical-align: top;\n",
       "    }\n",
       "\n",
       "    .dataframe thead th {\n",
       "        text-align: right;\n",
       "    }\n",
       "</style>\n",
       "<table border=\"1\" class=\"dataframe\">\n",
       "  <thead>\n",
       "    <tr style=\"text-align: right;\">\n",
       "      <th></th>\n",
       "      <th>Tipo de Escola</th>\n",
       "      <th>Total Estudantes</th>\n",
       "      <th>Total Orçamento</th>\n",
       "      <th>Orçamento Por Estudante</th>\n",
       "      <th>Nota Média Aprovação Redação</th>\n",
       "      <th>Nota Média Aprovação Matemática</th>\n",
       "      <th>% Aprovados Redação</th>\n",
       "      <th>% Aprovados Matemática</th>\n",
       "      <th>% Geral Aprovados</th>\n",
       "    </tr>\n",
       "    <tr>\n",
       "      <th>Nome_Escola</th>\n",
       "      <th></th>\n",
       "      <th></th>\n",
       "      <th></th>\n",
       "      <th></th>\n",
       "      <th></th>\n",
       "      <th></th>\n",
       "      <th></th>\n",
       "      <th></th>\n",
       "      <th></th>\n",
       "    </tr>\n",
       "  </thead>\n",
       "  <tbody>\n",
       "    <tr>\n",
       "      <th>Escola G</th>\n",
       "      <td>Particular</td>\n",
       "      <td>1858</td>\n",
       "      <td>$ 1,081,356.00</td>\n",
       "      <td>$ 582.00</td>\n",
       "      <td>83.975780</td>\n",
       "      <td>83.061895</td>\n",
       "      <td>97.039828</td>\n",
       "      <td>94.133477</td>\n",
       "      <td>91.334769</td>\n",
       "    </tr>\n",
       "    <tr>\n",
       "      <th>Escola O</th>\n",
       "      <td>Particular</td>\n",
       "      <td>1625</td>\n",
       "      <td>$ 1,043,130.00</td>\n",
       "      <td>$ 641.93</td>\n",
       "      <td>83.810462</td>\n",
       "      <td>83.435077</td>\n",
       "      <td>97.292308</td>\n",
       "      <td>93.230769</td>\n",
       "      <td>90.892308</td>\n",
       "    </tr>\n",
       "    <tr>\n",
       "      <th>Escola E</th>\n",
       "      <td>Particular</td>\n",
       "      <td>1468</td>\n",
       "      <td>$ 917,500.00</td>\n",
       "      <td>$ 625.00</td>\n",
       "      <td>83.816757</td>\n",
       "      <td>83.351499</td>\n",
       "      <td>97.138965</td>\n",
       "      <td>93.392371</td>\n",
       "      <td>90.599455</td>\n",
       "    </tr>\n",
       "    <tr>\n",
       "      <th>Escola F</th>\n",
       "      <td>Particular</td>\n",
       "      <td>2283</td>\n",
       "      <td>$ 1,319,574.00</td>\n",
       "      <td>$ 578.00</td>\n",
       "      <td>83.989488</td>\n",
       "      <td>83.274201</td>\n",
       "      <td>96.539641</td>\n",
       "      <td>93.867718</td>\n",
       "      <td>90.582567</td>\n",
       "    </tr>\n",
       "    <tr>\n",
       "      <th>Escola J</th>\n",
       "      <td>Particular</td>\n",
       "      <td>962</td>\n",
       "      <td>$ 585,858.00</td>\n",
       "      <td>$ 609.00</td>\n",
       "      <td>84.044699</td>\n",
       "      <td>83.839917</td>\n",
       "      <td>95.945946</td>\n",
       "      <td>94.594595</td>\n",
       "      <td>90.540541</td>\n",
       "    </tr>\n",
       "  </tbody>\n",
       "</table>\n",
       "</div>"
      ],
      "text/plain": [
       "            Tipo de Escola  Total Estudantes Total Orçamento  \\\n",
       "Nome_Escola                                                    \n",
       "Escola G        Particular              1858  $ 1,081,356.00   \n",
       "Escola O        Particular              1625  $ 1,043,130.00   \n",
       "Escola E        Particular              1468    $ 917,500.00   \n",
       "Escola F        Particular              2283  $ 1,319,574.00   \n",
       "Escola J        Particular               962    $ 585,858.00   \n",
       "\n",
       "            Orçamento Por Estudante  Nota Média Aprovação Redação  \\\n",
       "Nome_Escola                                                         \n",
       "Escola G                   $ 582.00                     83.975780   \n",
       "Escola O                   $ 641.93                     83.810462   \n",
       "Escola E                   $ 625.00                     83.816757   \n",
       "Escola F                   $ 578.00                     83.989488   \n",
       "Escola J                   $ 609.00                     84.044699   \n",
       "\n",
       "             Nota Média Aprovação Matemática  % Aprovados Redação  \\\n",
       "Nome_Escola                                                         \n",
       "Escola G                           83.061895            97.039828   \n",
       "Escola O                           83.435077            97.292308   \n",
       "Escola E                           83.351499            97.138965   \n",
       "Escola F                           83.274201            96.539641   \n",
       "Escola J                           83.839917            95.945946   \n",
       "\n",
       "             % Aprovados Matemática  % Geral Aprovados  \n",
       "Nome_Escola                                             \n",
       "Escola G                  94.133477          91.334769  \n",
       "Escola O                  93.230769          90.892308  \n",
       "Escola E                  93.392371          90.599455  \n",
       "Escola F                  93.867718          90.582567  \n",
       "Escola J                  94.594595          90.540541  "
      ]
     },
     "execution_count": 199,
     "metadata": {},
     "output_type": "execute_result"
    }
   ],
   "source": [
    "top_escolas = df_resumo_performance_escolar.sort_values(by = '% Geral Aprovados', ascending = False)\n",
    "top_escolas.head(5) # exibe as 5 melhores escolas"
   ]
  },
  {
   "cell_type": "markdown",
   "metadata": {},
   "source": [
    "## Considerando a taxa geral de aprovados, quais são as cinco piores escolas?"
   ]
  },
  {
   "cell_type": "code",
   "execution_count": 200,
   "metadata": {},
   "outputs": [
    {
     "data": {
      "text/html": [
       "<div>\n",
       "<style scoped>\n",
       "    .dataframe tbody tr th:only-of-type {\n",
       "        vertical-align: middle;\n",
       "    }\n",
       "\n",
       "    .dataframe tbody tr th {\n",
       "        vertical-align: top;\n",
       "    }\n",
       "\n",
       "    .dataframe thead th {\n",
       "        text-align: right;\n",
       "    }\n",
       "</style>\n",
       "<table border=\"1\" class=\"dataframe\">\n",
       "  <thead>\n",
       "    <tr style=\"text-align: right;\">\n",
       "      <th></th>\n",
       "      <th>Tipo de Escola</th>\n",
       "      <th>Total Estudantes</th>\n",
       "      <th>Total Orçamento</th>\n",
       "      <th>Orçamento Por Estudante</th>\n",
       "      <th>Nota Média Aprovação Redação</th>\n",
       "      <th>Nota Média Aprovação Matemática</th>\n",
       "      <th>% Aprovados Redação</th>\n",
       "      <th>% Aprovados Matemática</th>\n",
       "      <th>% Geral Aprovados</th>\n",
       "    </tr>\n",
       "    <tr>\n",
       "      <th>Nome_Escola</th>\n",
       "      <th></th>\n",
       "      <th></th>\n",
       "      <th></th>\n",
       "      <th></th>\n",
       "      <th></th>\n",
       "      <th></th>\n",
       "      <th></th>\n",
       "      <th></th>\n",
       "      <th></th>\n",
       "    </tr>\n",
       "  </thead>\n",
       "  <tbody>\n",
       "    <tr>\n",
       "      <th>Escola L</th>\n",
       "      <td>Publica</td>\n",
       "      <td>3999</td>\n",
       "      <td>$ 2,547,363.00</td>\n",
       "      <td>$ 637.00</td>\n",
       "      <td>80.744686</td>\n",
       "      <td>76.842711</td>\n",
       "      <td>80.220055</td>\n",
       "      <td>66.366592</td>\n",
       "      <td>52.988247</td>\n",
       "    </tr>\n",
       "    <tr>\n",
       "      <th>Escola B</th>\n",
       "      <td>Publica</td>\n",
       "      <td>2949</td>\n",
       "      <td>$ 1,884,411.00</td>\n",
       "      <td>$ 639.00</td>\n",
       "      <td>81.158020</td>\n",
       "      <td>76.711767</td>\n",
       "      <td>80.739234</td>\n",
       "      <td>65.988471</td>\n",
       "      <td>53.204476</td>\n",
       "    </tr>\n",
       "    <tr>\n",
       "      <th>Escola A</th>\n",
       "      <td>Publica</td>\n",
       "      <td>2917</td>\n",
       "      <td>$ 1,910,635.00</td>\n",
       "      <td>$ 655.00</td>\n",
       "      <td>81.182722</td>\n",
       "      <td>76.629414</td>\n",
       "      <td>81.316421</td>\n",
       "      <td>65.683922</td>\n",
       "      <td>53.513884</td>\n",
       "    </tr>\n",
       "    <tr>\n",
       "      <th>Escola D</th>\n",
       "      <td>Publica</td>\n",
       "      <td>4635</td>\n",
       "      <td>$ 3,022,020.00</td>\n",
       "      <td>$ 652.00</td>\n",
       "      <td>80.934412</td>\n",
       "      <td>77.289752</td>\n",
       "      <td>80.862999</td>\n",
       "      <td>66.752967</td>\n",
       "      <td>53.527508</td>\n",
       "    </tr>\n",
       "    <tr>\n",
       "      <th>Escola M</th>\n",
       "      <td>Publica</td>\n",
       "      <td>4761</td>\n",
       "      <td>$ 3,094,650.00</td>\n",
       "      <td>$ 650.00</td>\n",
       "      <td>80.966394</td>\n",
       "      <td>77.072464</td>\n",
       "      <td>81.222432</td>\n",
       "      <td>66.057551</td>\n",
       "      <td>53.539172</td>\n",
       "    </tr>\n",
       "  </tbody>\n",
       "</table>\n",
       "</div>"
      ],
      "text/plain": [
       "            Tipo de Escola  Total Estudantes Total Orçamento  \\\n",
       "Nome_Escola                                                    \n",
       "Escola L           Publica              3999  $ 2,547,363.00   \n",
       "Escola B           Publica              2949  $ 1,884,411.00   \n",
       "Escola A           Publica              2917  $ 1,910,635.00   \n",
       "Escola D           Publica              4635  $ 3,022,020.00   \n",
       "Escola M           Publica              4761  $ 3,094,650.00   \n",
       "\n",
       "            Orçamento Por Estudante  Nota Média Aprovação Redação  \\\n",
       "Nome_Escola                                                         \n",
       "Escola L                   $ 637.00                     80.744686   \n",
       "Escola B                   $ 639.00                     81.158020   \n",
       "Escola A                   $ 655.00                     81.182722   \n",
       "Escola D                   $ 652.00                     80.934412   \n",
       "Escola M                   $ 650.00                     80.966394   \n",
       "\n",
       "             Nota Média Aprovação Matemática  % Aprovados Redação  \\\n",
       "Nome_Escola                                                         \n",
       "Escola L                           76.842711            80.220055   \n",
       "Escola B                           76.711767            80.739234   \n",
       "Escola A                           76.629414            81.316421   \n",
       "Escola D                           77.289752            80.862999   \n",
       "Escola M                           77.072464            81.222432   \n",
       "\n",
       "             % Aprovados Matemática  % Geral Aprovados  \n",
       "Nome_Escola                                             \n",
       "Escola L                  66.366592          52.988247  \n",
       "Escola B                  65.988471          53.204476  \n",
       "Escola A                  65.683922          53.513884  \n",
       "Escola D                  66.752967          53.527508  \n",
       "Escola M                  66.057551          53.539172  "
      ]
     },
     "execution_count": 200,
     "metadata": {},
     "output_type": "execute_result"
    }
   ],
   "source": [
    "bottom_escolas = df_resumo_performance_escolar.sort_values(by = '% Geral Aprovados', ascending = True) \n",
    "bottom_escolas.head(5) # exibe as 5 piores escolas"
   ]
  },
  {
   "cell_type": "code",
   "execution_count": 201,
   "metadata": {},
   "outputs": [
    {
     "data": {
      "text/plain": [
       "Index(['ID_Estudante', 'Nome_Estudante', 'Genero', 'Serie', 'Nome_Escola',\n",
       "       'Nota_Redacao', 'Nota_Matematica', 'ID_Escola', 'Tipo_Escola',\n",
       "       'Numero_Alunos', 'Orcamento_Anual'],\n",
       "      dtype='object')"
      ]
     },
     "execution_count": 201,
     "metadata": {},
     "output_type": "execute_result"
    }
   ],
   "source": [
    "dados_full.columns # exibe as colunas do dataframe"
   ]
  },
  {
   "cell_type": "markdown",
   "metadata": {},
   "source": [
    "## Em cada série, qual escola teve os alunos com melhor performance em Matemática?"
   ]
  },
  {
   "cell_type": "code",
   "execution_count": 202,
   "metadata": {},
   "outputs": [],
   "source": [
    "sexta_serie = dados_full[(dados_full['Serie'] == 6)] # alunos da 6ª série\n",
    "setima_serie = dados_full[(dados_full['Serie'] == 7)] # alunos da 7ª série\n",
    "oitava_serie = dados_full[(dados_full['Serie'] == 8)] # alunos da 8ª série\n",
    "nona_serie = dados_full[(dados_full['Serie'] == 9)] # alunos da 9ª série"
   ]
  },
  {
   "cell_type": "code",
   "execution_count": 203,
   "metadata": {},
   "outputs": [
    {
     "data": {
      "text/html": [
       "<div>\n",
       "<style scoped>\n",
       "    .dataframe tbody tr th:only-of-type {\n",
       "        vertical-align: middle;\n",
       "    }\n",
       "\n",
       "    .dataframe tbody tr th {\n",
       "        vertical-align: top;\n",
       "    }\n",
       "\n",
       "    .dataframe thead th {\n",
       "        text-align: right;\n",
       "    }\n",
       "</style>\n",
       "<table border=\"1\" class=\"dataframe\">\n",
       "  <thead>\n",
       "    <tr style=\"text-align: right;\">\n",
       "      <th></th>\n",
       "      <th>ID_Estudante</th>\n",
       "      <th>Nome_Estudante</th>\n",
       "      <th>Genero</th>\n",
       "      <th>Serie</th>\n",
       "      <th>Nome_Escola</th>\n",
       "      <th>Nota_Redacao</th>\n",
       "      <th>Nota_Matematica</th>\n",
       "      <th>ID_Escola</th>\n",
       "      <th>Tipo_Escola</th>\n",
       "      <th>Numero_Alunos</th>\n",
       "      <th>Orcamento_Anual</th>\n",
       "    </tr>\n",
       "  </thead>\n",
       "  <tbody>\n",
       "    <tr>\n",
       "      <th>0</th>\n",
       "      <td>0</td>\n",
       "      <td>Kevin Bradley</td>\n",
       "      <td>M</td>\n",
       "      <td>6</td>\n",
       "      <td>Escola A</td>\n",
       "      <td>66</td>\n",
       "      <td>79</td>\n",
       "      <td>0</td>\n",
       "      <td>Publica</td>\n",
       "      <td>2917</td>\n",
       "      <td>1910635</td>\n",
       "    </tr>\n",
       "    <tr>\n",
       "      <th>4</th>\n",
       "      <td>4</td>\n",
       "      <td>William Ray</td>\n",
       "      <td>F</td>\n",
       "      <td>6</td>\n",
       "      <td>Escola A</td>\n",
       "      <td>97</td>\n",
       "      <td>84</td>\n",
       "      <td>0</td>\n",
       "      <td>Publica</td>\n",
       "      <td>2917</td>\n",
       "      <td>1910635</td>\n",
       "    </tr>\n",
       "    <tr>\n",
       "      <th>5</th>\n",
       "      <td>5</td>\n",
       "      <td>James Miranda</td>\n",
       "      <td>M</td>\n",
       "      <td>6</td>\n",
       "      <td>Escola A</td>\n",
       "      <td>94</td>\n",
       "      <td>94</td>\n",
       "      <td>0</td>\n",
       "      <td>Publica</td>\n",
       "      <td>2917</td>\n",
       "      <td>1910635</td>\n",
       "    </tr>\n",
       "    <tr>\n",
       "      <th>12</th>\n",
       "      <td>12</td>\n",
       "      <td>Sebastian Walker</td>\n",
       "      <td>F</td>\n",
       "      <td>6</td>\n",
       "      <td>Escola A</td>\n",
       "      <td>64</td>\n",
       "      <td>79</td>\n",
       "      <td>0</td>\n",
       "      <td>Publica</td>\n",
       "      <td>2917</td>\n",
       "      <td>1910635</td>\n",
       "    </tr>\n",
       "    <tr>\n",
       "      <th>13</th>\n",
       "      <td>13</td>\n",
       "      <td>Mateo Long</td>\n",
       "      <td>M</td>\n",
       "      <td>6</td>\n",
       "      <td>Escola A</td>\n",
       "      <td>71</td>\n",
       "      <td>79</td>\n",
       "      <td>0</td>\n",
       "      <td>Publica</td>\n",
       "      <td>2917</td>\n",
       "      <td>1910635</td>\n",
       "    </tr>\n",
       "    <tr>\n",
       "      <th>...</th>\n",
       "      <td>...</td>\n",
       "      <td>...</td>\n",
       "      <td>...</td>\n",
       "      <td>...</td>\n",
       "      <td>...</td>\n",
       "      <td>...</td>\n",
       "      <td>...</td>\n",
       "      <td>...</td>\n",
       "      <td>...</td>\n",
       "      <td>...</td>\n",
       "      <td>...</td>\n",
       "    </tr>\n",
       "    <tr>\n",
       "      <th>39140</th>\n",
       "      <td>39140</td>\n",
       "      <td>Cheyenne Hernandez</td>\n",
       "      <td>F</td>\n",
       "      <td>6</td>\n",
       "      <td>Escola O</td>\n",
       "      <td>76</td>\n",
       "      <td>99</td>\n",
       "      <td>14</td>\n",
       "      <td>Particular</td>\n",
       "      <td>1635</td>\n",
       "      <td>1043130</td>\n",
       "    </tr>\n",
       "    <tr>\n",
       "      <th>39146</th>\n",
       "      <td>39146</td>\n",
       "      <td>Michael Carroll</td>\n",
       "      <td>M</td>\n",
       "      <td>6</td>\n",
       "      <td>Escola O</td>\n",
       "      <td>69</td>\n",
       "      <td>95</td>\n",
       "      <td>14</td>\n",
       "      <td>Particular</td>\n",
       "      <td>1635</td>\n",
       "      <td>1043130</td>\n",
       "    </tr>\n",
       "    <tr>\n",
       "      <th>39152</th>\n",
       "      <td>39152</td>\n",
       "      <td>Lori Moore</td>\n",
       "      <td>F</td>\n",
       "      <td>6</td>\n",
       "      <td>Escola O</td>\n",
       "      <td>98</td>\n",
       "      <td>84</td>\n",
       "      <td>14</td>\n",
       "      <td>Particular</td>\n",
       "      <td>1635</td>\n",
       "      <td>1043130</td>\n",
       "    </tr>\n",
       "    <tr>\n",
       "      <th>39153</th>\n",
       "      <td>39153</td>\n",
       "      <td>William Hubbard</td>\n",
       "      <td>M</td>\n",
       "      <td>6</td>\n",
       "      <td>Escola O</td>\n",
       "      <td>80</td>\n",
       "      <td>75</td>\n",
       "      <td>14</td>\n",
       "      <td>Particular</td>\n",
       "      <td>1635</td>\n",
       "      <td>1043130</td>\n",
       "    </tr>\n",
       "    <tr>\n",
       "      <th>39157</th>\n",
       "      <td>39157</td>\n",
       "      <td>Kristen Gonzalez</td>\n",
       "      <td>F</td>\n",
       "      <td>6</td>\n",
       "      <td>Escola O</td>\n",
       "      <td>79</td>\n",
       "      <td>94</td>\n",
       "      <td>14</td>\n",
       "      <td>Particular</td>\n",
       "      <td>1635</td>\n",
       "      <td>1043130</td>\n",
       "    </tr>\n",
       "  </tbody>\n",
       "</table>\n",
       "<p>11406 rows × 11 columns</p>\n",
       "</div>"
      ],
      "text/plain": [
       "       ID_Estudante      Nome_Estudante Genero  Serie Nome_Escola  \\\n",
       "0                 0       Kevin Bradley      M      6    Escola A   \n",
       "4                 4         William Ray      F      6    Escola A   \n",
       "5                 5       James Miranda      M      6    Escola A   \n",
       "12               12    Sebastian Walker      F      6    Escola A   \n",
       "13               13          Mateo Long      M      6    Escola A   \n",
       "...             ...                 ...    ...    ...         ...   \n",
       "39140         39140  Cheyenne Hernandez      F      6    Escola O   \n",
       "39146         39146     Michael Carroll      M      6    Escola O   \n",
       "39152         39152          Lori Moore      F      6    Escola O   \n",
       "39153         39153     William Hubbard      M      6    Escola O   \n",
       "39157         39157    Kristen Gonzalez      F      6    Escola O   \n",
       "\n",
       "       Nota_Redacao  Nota_Matematica  ID_Escola Tipo_Escola  Numero_Alunos  \\\n",
       "0                66               79          0     Publica           2917   \n",
       "4                97               84          0     Publica           2917   \n",
       "5                94               94          0     Publica           2917   \n",
       "12               64               79          0     Publica           2917   \n",
       "13               71               79          0     Publica           2917   \n",
       "...             ...              ...        ...         ...            ...   \n",
       "39140            76               99         14  Particular           1635   \n",
       "39146            69               95         14  Particular           1635   \n",
       "39152            98               84         14  Particular           1635   \n",
       "39153            80               75         14  Particular           1635   \n",
       "39157            79               94         14  Particular           1635   \n",
       "\n",
       "       Orcamento_Anual  \n",
       "0              1910635  \n",
       "4              1910635  \n",
       "5              1910635  \n",
       "12             1910635  \n",
       "13             1910635  \n",
       "...                ...  \n",
       "39140          1043130  \n",
       "39146          1043130  \n",
       "39152          1043130  \n",
       "39153          1043130  \n",
       "39157          1043130  \n",
       "\n",
       "[11406 rows x 11 columns]"
      ]
     },
     "execution_count": 203,
     "metadata": {},
     "output_type": "execute_result"
    }
   ],
   "source": [
    "sexta_serie # exibe os alunos da 6ª série"
   ]
  },
  {
   "cell_type": "code",
   "execution_count": 204,
   "metadata": {},
   "outputs": [],
   "source": [
    "notas_sexta_serie = sexta_serie.groupby('Nome_Escola')['Nota_Matematica'].mean() # média de matemática por escola\n",
    "notas_setima_serie = setima_serie.groupby('Nome_Escola')['Nota_Matematica'].mean() # média de matemática por escola\n",
    "notas_oitava_serie = oitava_serie.groupby('Nome_Escola')['Nota_Matematica'].mean() # média de matemática por escola\n",
    "notas_nona_serie = nona_serie.groupby('Nome_Escola')['Nota_Matematica'].mean() # média de matemática por escola"
   ]
  },
  {
   "cell_type": "code",
   "execution_count": 205,
   "metadata": {},
   "outputs": [
    {
     "data": {
      "text/html": [
       "<div>\n",
       "<style scoped>\n",
       "    .dataframe tbody tr th:only-of-type {\n",
       "        vertical-align: middle;\n",
       "    }\n",
       "\n",
       "    .dataframe tbody tr th {\n",
       "        vertical-align: top;\n",
       "    }\n",
       "\n",
       "    .dataframe thead th {\n",
       "        text-align: right;\n",
       "    }\n",
       "</style>\n",
       "<table border=\"1\" class=\"dataframe\">\n",
       "  <thead>\n",
       "    <tr style=\"text-align: right;\">\n",
       "      <th></th>\n",
       "      <th>6ª Série</th>\n",
       "      <th>7ª Série</th>\n",
       "      <th>8ª Série</th>\n",
       "      <th>9ª Série</th>\n",
       "    </tr>\n",
       "    <tr>\n",
       "      <th>Nome_Escola</th>\n",
       "      <th></th>\n",
       "      <th></th>\n",
       "      <th></th>\n",
       "      <th></th>\n",
       "    </tr>\n",
       "  </thead>\n",
       "  <tbody>\n",
       "    <tr>\n",
       "      <th>Escola A</th>\n",
       "      <td>77.027251</td>\n",
       "      <td>75.908735</td>\n",
       "      <td>76.446602</td>\n",
       "      <td>77.225641</td>\n",
       "    </tr>\n",
       "    <tr>\n",
       "      <th>Escola B</th>\n",
       "      <td>76.403037</td>\n",
       "      <td>76.539974</td>\n",
       "      <td>76.884344</td>\n",
       "      <td>77.151369</td>\n",
       "    </tr>\n",
       "    <tr>\n",
       "      <th>Escola C</th>\n",
       "      <td>83.420755</td>\n",
       "      <td>82.917411</td>\n",
       "      <td>83.383495</td>\n",
       "      <td>83.778976</td>\n",
       "    </tr>\n",
       "    <tr>\n",
       "      <th>Escola D</th>\n",
       "      <td>77.438495</td>\n",
       "      <td>77.337408</td>\n",
       "      <td>77.136029</td>\n",
       "      <td>77.186567</td>\n",
       "    </tr>\n",
       "    <tr>\n",
       "      <th>Escola E</th>\n",
       "      <td>82.044010</td>\n",
       "      <td>84.229064</td>\n",
       "      <td>83.842105</td>\n",
       "      <td>83.356164</td>\n",
       "    </tr>\n",
       "    <tr>\n",
       "      <th>Escola F</th>\n",
       "      <td>83.085578</td>\n",
       "      <td>83.724422</td>\n",
       "      <td>83.195326</td>\n",
       "      <td>83.035794</td>\n",
       "    </tr>\n",
       "    <tr>\n",
       "      <th>Escola G</th>\n",
       "      <td>83.094697</td>\n",
       "      <td>83.154506</td>\n",
       "      <td>82.765560</td>\n",
       "      <td>83.277487</td>\n",
       "    </tr>\n",
       "    <tr>\n",
       "      <th>Escola H</th>\n",
       "      <td>77.083676</td>\n",
       "      <td>76.996772</td>\n",
       "      <td>77.515588</td>\n",
       "      <td>76.492218</td>\n",
       "    </tr>\n",
       "    <tr>\n",
       "      <th>Escola I</th>\n",
       "      <td>83.787402</td>\n",
       "      <td>83.429825</td>\n",
       "      <td>85.000000</td>\n",
       "      <td>82.855422</td>\n",
       "    </tr>\n",
       "    <tr>\n",
       "      <th>Escola J</th>\n",
       "      <td>83.625455</td>\n",
       "      <td>83.372000</td>\n",
       "      <td>84.328125</td>\n",
       "      <td>84.121547</td>\n",
       "    </tr>\n",
       "    <tr>\n",
       "      <th>Escola K</th>\n",
       "      <td>83.264706</td>\n",
       "      <td>84.010288</td>\n",
       "      <td>83.836782</td>\n",
       "      <td>83.644986</td>\n",
       "    </tr>\n",
       "    <tr>\n",
       "      <th>Escola L</th>\n",
       "      <td>76.859966</td>\n",
       "      <td>76.612500</td>\n",
       "      <td>76.395626</td>\n",
       "      <td>77.690748</td>\n",
       "    </tr>\n",
       "    <tr>\n",
       "      <th>Escola M</th>\n",
       "      <td>77.187857</td>\n",
       "      <td>76.691117</td>\n",
       "      <td>77.491653</td>\n",
       "      <td>76.863248</td>\n",
       "    </tr>\n",
       "    <tr>\n",
       "      <th>Escola N</th>\n",
       "      <td>77.361345</td>\n",
       "      <td>77.672316</td>\n",
       "      <td>76.918058</td>\n",
       "      <td>76.179963</td>\n",
       "    </tr>\n",
       "    <tr>\n",
       "      <th>Escola O</th>\n",
       "      <td>83.605664</td>\n",
       "      <td>83.100478</td>\n",
       "      <td>83.533981</td>\n",
       "      <td>83.497024</td>\n",
       "    </tr>\n",
       "  </tbody>\n",
       "</table>\n",
       "</div>"
      ],
      "text/plain": [
       "              6ª Série   7ª Série   8ª Série   9ª Série\n",
       "Nome_Escola                                            \n",
       "Escola A     77.027251  75.908735  76.446602  77.225641\n",
       "Escola B     76.403037  76.539974  76.884344  77.151369\n",
       "Escola C     83.420755  82.917411  83.383495  83.778976\n",
       "Escola D     77.438495  77.337408  77.136029  77.186567\n",
       "Escola E     82.044010  84.229064  83.842105  83.356164\n",
       "Escola F     83.085578  83.724422  83.195326  83.035794\n",
       "Escola G     83.094697  83.154506  82.765560  83.277487\n",
       "Escola H     77.083676  76.996772  77.515588  76.492218\n",
       "Escola I     83.787402  83.429825  85.000000  82.855422\n",
       "Escola J     83.625455  83.372000  84.328125  84.121547\n",
       "Escola K     83.264706  84.010288  83.836782  83.644986\n",
       "Escola L     76.859966  76.612500  76.395626  77.690748\n",
       "Escola M     77.187857  76.691117  77.491653  76.863248\n",
       "Escola N     77.361345  77.672316  76.918058  76.179963\n",
       "Escola O     83.605664  83.100478  83.533981  83.497024"
      ]
     },
     "execution_count": 205,
     "metadata": {},
     "output_type": "execute_result"
    }
   ],
   "source": [
    "notas_por_serie = pd.DataFrame({\n",
    "    '6ª Série': notas_sexta_serie,\n",
    "    '7ª Série': notas_setima_serie,\n",
    "    '8ª Série': notas_oitava_serie,\n",
    "    '9ª Série': notas_nona_serie\n",
    "})\n",
    "notas_por_serie # exibe o dataframe"
   ]
  },
  {
   "cell_type": "code",
   "execution_count": 206,
   "metadata": {},
   "outputs": [
    {
     "data": {
      "text/plain": [
       "'Escola I'"
      ]
     },
     "execution_count": 206,
     "metadata": {},
     "output_type": "execute_result"
    }
   ],
   "source": [
    "notas_por_serie['6ª Série'].idxmax() # escola com a maior média de matemática na 6ª série"
   ]
  },
  {
   "cell_type": "code",
   "execution_count": 207,
   "metadata": {},
   "outputs": [
    {
     "data": {
      "text/plain": [
       "'Escola E'"
      ]
     },
     "execution_count": 207,
     "metadata": {},
     "output_type": "execute_result"
    }
   ],
   "source": [
    "notas_por_serie['7ª Série'].idxmax() # escola com a maior média de matemática na 7ª série"
   ]
  },
  {
   "cell_type": "code",
   "execution_count": 208,
   "metadata": {},
   "outputs": [
    {
     "data": {
      "text/plain": [
       "'Escola I'"
      ]
     },
     "execution_count": 208,
     "metadata": {},
     "output_type": "execute_result"
    }
   ],
   "source": [
    "notas_por_serie['8ª Série'].idxmax() # escola com a maior média de matemática na 8ª série"
   ]
  },
  {
   "cell_type": "code",
   "execution_count": 209,
   "metadata": {},
   "outputs": [
    {
     "data": {
      "text/plain": [
       "'Escola J'"
      ]
     },
     "execution_count": 209,
     "metadata": {},
     "output_type": "execute_result"
    }
   ],
   "source": [
    "notas_por_serie['9ª Série'].idxmax() # escola com a maior média de matemática na 9ª série"
   ]
  },
  {
   "cell_type": "markdown",
   "metadata": {},
   "source": [
    "## Considerando as faixas de gastos por estudante como sendo [0, 585, 630, 645, 680], qual faixa resulta em melhor performance?"
   ]
  },
  {
   "cell_type": "code",
   "execution_count": 210,
   "metadata": {},
   "outputs": [
    {
     "data": {
      "text/plain": [
       "Index(['Tipo de Escola', 'Total Estudantes', 'Total Orçamento',\n",
       "       'Orçamento Por Estudante', 'Nota Média Aprovação Redação',\n",
       "       'Nota Média Aprovação Matemática', '% Aprovados Redação',\n",
       "       '% Aprovados Matemática', '% Geral Aprovados'],\n",
       "      dtype='object')"
      ]
     },
     "execution_count": 210,
     "metadata": {},
     "output_type": "execute_result"
    }
   ],
   "source": [
    "df_resumo_performance_escolar.columns # exibe as colunas do dataframe"
   ]
  },
  {
   "cell_type": "code",
   "execution_count": 211,
   "metadata": {},
   "outputs": [],
   "source": [
    "faixas_bins = [0, 585, 630, 645, 680] # faixas de valores\n",
    "labels_faixas = [\"<$585\", \"$585-630\", \"$630-645\", \"$645-680\"] # rótulos das faixas"
   ]
  },
  {
   "cell_type": "code",
   "execution_count": 212,
   "metadata": {},
   "outputs": [
    {
     "data": {
      "text/html": [
       "<div>\n",
       "<style scoped>\n",
       "    .dataframe tbody tr th:only-of-type {\n",
       "        vertical-align: middle;\n",
       "    }\n",
       "\n",
       "    .dataframe tbody tr th {\n",
       "        vertical-align: top;\n",
       "    }\n",
       "\n",
       "    .dataframe thead th {\n",
       "        text-align: right;\n",
       "    }\n",
       "</style>\n",
       "<table border=\"1\" class=\"dataframe\">\n",
       "  <thead>\n",
       "    <tr style=\"text-align: right;\">\n",
       "      <th></th>\n",
       "      <th>Tipo de Escola</th>\n",
       "      <th>Total Estudantes</th>\n",
       "      <th>Total Orçamento</th>\n",
       "      <th>Orçamento Por Estudante</th>\n",
       "      <th>Nota Média Aprovação Redação</th>\n",
       "      <th>Nota Média Aprovação Matemática</th>\n",
       "      <th>% Aprovados Redação</th>\n",
       "      <th>% Aprovados Matemática</th>\n",
       "      <th>% Geral Aprovados</th>\n",
       "      <th>Faixa de Gastos por Estudantes</th>\n",
       "    </tr>\n",
       "    <tr>\n",
       "      <th>Nome_Escola</th>\n",
       "      <th></th>\n",
       "      <th></th>\n",
       "      <th></th>\n",
       "      <th></th>\n",
       "      <th></th>\n",
       "      <th></th>\n",
       "      <th></th>\n",
       "      <th></th>\n",
       "      <th></th>\n",
       "      <th></th>\n",
       "    </tr>\n",
       "  </thead>\n",
       "  <tbody>\n",
       "    <tr>\n",
       "      <th>Escola A</th>\n",
       "      <td>Publica</td>\n",
       "      <td>2917</td>\n",
       "      <td>$ 1,910,635.00</td>\n",
       "      <td>$ 655.00</td>\n",
       "      <td>81.182722</td>\n",
       "      <td>76.629414</td>\n",
       "      <td>81.316421</td>\n",
       "      <td>65.683922</td>\n",
       "      <td>53.513884</td>\n",
       "      <td>$645-680</td>\n",
       "    </tr>\n",
       "    <tr>\n",
       "      <th>Escola B</th>\n",
       "      <td>Publica</td>\n",
       "      <td>2949</td>\n",
       "      <td>$ 1,884,411.00</td>\n",
       "      <td>$ 639.00</td>\n",
       "      <td>81.158020</td>\n",
       "      <td>76.711767</td>\n",
       "      <td>80.739234</td>\n",
       "      <td>65.988471</td>\n",
       "      <td>53.204476</td>\n",
       "      <td>$630-645</td>\n",
       "    </tr>\n",
       "    <tr>\n",
       "      <th>Escola C</th>\n",
       "      <td>Particular</td>\n",
       "      <td>1761</td>\n",
       "      <td>$ 1,056,600.00</td>\n",
       "      <td>$ 600.00</td>\n",
       "      <td>83.725724</td>\n",
       "      <td>83.359455</td>\n",
       "      <td>95.854628</td>\n",
       "      <td>93.867121</td>\n",
       "      <td>89.892107</td>\n",
       "      <td>$585-630</td>\n",
       "    </tr>\n",
       "    <tr>\n",
       "      <th>Escola D</th>\n",
       "      <td>Publica</td>\n",
       "      <td>4635</td>\n",
       "      <td>$ 3,022,020.00</td>\n",
       "      <td>$ 652.00</td>\n",
       "      <td>80.934412</td>\n",
       "      <td>77.289752</td>\n",
       "      <td>80.862999</td>\n",
       "      <td>66.752967</td>\n",
       "      <td>53.527508</td>\n",
       "      <td>$645-680</td>\n",
       "    </tr>\n",
       "    <tr>\n",
       "      <th>Escola E</th>\n",
       "      <td>Particular</td>\n",
       "      <td>1468</td>\n",
       "      <td>$ 917,500.00</td>\n",
       "      <td>$ 625.00</td>\n",
       "      <td>83.816757</td>\n",
       "      <td>83.351499</td>\n",
       "      <td>97.138965</td>\n",
       "      <td>93.392371</td>\n",
       "      <td>90.599455</td>\n",
       "      <td>$585-630</td>\n",
       "    </tr>\n",
       "    <tr>\n",
       "      <th>Escola F</th>\n",
       "      <td>Particular</td>\n",
       "      <td>2283</td>\n",
       "      <td>$ 1,319,574.00</td>\n",
       "      <td>$ 578.00</td>\n",
       "      <td>83.989488</td>\n",
       "      <td>83.274201</td>\n",
       "      <td>96.539641</td>\n",
       "      <td>93.867718</td>\n",
       "      <td>90.582567</td>\n",
       "      <td>&lt;$585</td>\n",
       "    </tr>\n",
       "    <tr>\n",
       "      <th>Escola G</th>\n",
       "      <td>Particular</td>\n",
       "      <td>1858</td>\n",
       "      <td>$ 1,081,356.00</td>\n",
       "      <td>$ 582.00</td>\n",
       "      <td>83.975780</td>\n",
       "      <td>83.061895</td>\n",
       "      <td>97.039828</td>\n",
       "      <td>94.133477</td>\n",
       "      <td>91.334769</td>\n",
       "      <td>&lt;$585</td>\n",
       "    </tr>\n",
       "    <tr>\n",
       "      <th>Escola H</th>\n",
       "      <td>Publica</td>\n",
       "      <td>4976</td>\n",
       "      <td>$ 3,124,928.00</td>\n",
       "      <td>$ 628.00</td>\n",
       "      <td>81.033963</td>\n",
       "      <td>77.048432</td>\n",
       "      <td>81.933280</td>\n",
       "      <td>66.680064</td>\n",
       "      <td>54.642283</td>\n",
       "      <td>$585-630</td>\n",
       "    </tr>\n",
       "    <tr>\n",
       "      <th>Escola I</th>\n",
       "      <td>Particular</td>\n",
       "      <td>427</td>\n",
       "      <td>$ 248,087.00</td>\n",
       "      <td>$ 581.00</td>\n",
       "      <td>83.814988</td>\n",
       "      <td>83.803279</td>\n",
       "      <td>96.252927</td>\n",
       "      <td>92.505855</td>\n",
       "      <td>89.227166</td>\n",
       "      <td>&lt;$585</td>\n",
       "    </tr>\n",
       "    <tr>\n",
       "      <th>Escola J</th>\n",
       "      <td>Particular</td>\n",
       "      <td>962</td>\n",
       "      <td>$ 585,858.00</td>\n",
       "      <td>$ 609.00</td>\n",
       "      <td>84.044699</td>\n",
       "      <td>83.839917</td>\n",
       "      <td>95.945946</td>\n",
       "      <td>94.594595</td>\n",
       "      <td>90.540541</td>\n",
       "      <td>$585-630</td>\n",
       "    </tr>\n",
       "    <tr>\n",
       "      <th>Escola K</th>\n",
       "      <td>Particular</td>\n",
       "      <td>1800</td>\n",
       "      <td>$ 1,049,400.00</td>\n",
       "      <td>$ 583.00</td>\n",
       "      <td>83.955000</td>\n",
       "      <td>83.682222</td>\n",
       "      <td>96.611111</td>\n",
       "      <td>93.333333</td>\n",
       "      <td>90.333333</td>\n",
       "      <td>&lt;$585</td>\n",
       "    </tr>\n",
       "    <tr>\n",
       "      <th>Escola L</th>\n",
       "      <td>Publica</td>\n",
       "      <td>3999</td>\n",
       "      <td>$ 2,547,363.00</td>\n",
       "      <td>$ 637.00</td>\n",
       "      <td>80.744686</td>\n",
       "      <td>76.842711</td>\n",
       "      <td>80.220055</td>\n",
       "      <td>66.366592</td>\n",
       "      <td>52.988247</td>\n",
       "      <td>$630-645</td>\n",
       "    </tr>\n",
       "    <tr>\n",
       "      <th>Escola M</th>\n",
       "      <td>Publica</td>\n",
       "      <td>4761</td>\n",
       "      <td>$ 3,094,650.00</td>\n",
       "      <td>$ 650.00</td>\n",
       "      <td>80.966394</td>\n",
       "      <td>77.072464</td>\n",
       "      <td>81.222432</td>\n",
       "      <td>66.057551</td>\n",
       "      <td>53.539172</td>\n",
       "      <td>$645-680</td>\n",
       "    </tr>\n",
       "    <tr>\n",
       "      <th>Escola N</th>\n",
       "      <td>Publica</td>\n",
       "      <td>2739</td>\n",
       "      <td>$ 1,763,916.00</td>\n",
       "      <td>$ 644.00</td>\n",
       "      <td>80.746258</td>\n",
       "      <td>77.102592</td>\n",
       "      <td>79.299014</td>\n",
       "      <td>68.309602</td>\n",
       "      <td>54.289887</td>\n",
       "      <td>$630-645</td>\n",
       "    </tr>\n",
       "    <tr>\n",
       "      <th>Escola O</th>\n",
       "      <td>Particular</td>\n",
       "      <td>1625</td>\n",
       "      <td>$ 1,043,130.00</td>\n",
       "      <td>$ 641.93</td>\n",
       "      <td>83.810462</td>\n",
       "      <td>83.435077</td>\n",
       "      <td>97.292308</td>\n",
       "      <td>93.230769</td>\n",
       "      <td>90.892308</td>\n",
       "      <td>$630-645</td>\n",
       "    </tr>\n",
       "  </tbody>\n",
       "</table>\n",
       "</div>"
      ],
      "text/plain": [
       "            Tipo de Escola  Total Estudantes Total Orçamento  \\\n",
       "Nome_Escola                                                    \n",
       "Escola A           Publica              2917  $ 1,910,635.00   \n",
       "Escola B           Publica              2949  $ 1,884,411.00   \n",
       "Escola C        Particular              1761  $ 1,056,600.00   \n",
       "Escola D           Publica              4635  $ 3,022,020.00   \n",
       "Escola E        Particular              1468    $ 917,500.00   \n",
       "Escola F        Particular              2283  $ 1,319,574.00   \n",
       "Escola G        Particular              1858  $ 1,081,356.00   \n",
       "Escola H           Publica              4976  $ 3,124,928.00   \n",
       "Escola I        Particular               427    $ 248,087.00   \n",
       "Escola J        Particular               962    $ 585,858.00   \n",
       "Escola K        Particular              1800  $ 1,049,400.00   \n",
       "Escola L           Publica              3999  $ 2,547,363.00   \n",
       "Escola M           Publica              4761  $ 3,094,650.00   \n",
       "Escola N           Publica              2739  $ 1,763,916.00   \n",
       "Escola O        Particular              1625  $ 1,043,130.00   \n",
       "\n",
       "            Orçamento Por Estudante  Nota Média Aprovação Redação  \\\n",
       "Nome_Escola                                                         \n",
       "Escola A                   $ 655.00                     81.182722   \n",
       "Escola B                   $ 639.00                     81.158020   \n",
       "Escola C                   $ 600.00                     83.725724   \n",
       "Escola D                   $ 652.00                     80.934412   \n",
       "Escola E                   $ 625.00                     83.816757   \n",
       "Escola F                   $ 578.00                     83.989488   \n",
       "Escola G                   $ 582.00                     83.975780   \n",
       "Escola H                   $ 628.00                     81.033963   \n",
       "Escola I                   $ 581.00                     83.814988   \n",
       "Escola J                   $ 609.00                     84.044699   \n",
       "Escola K                   $ 583.00                     83.955000   \n",
       "Escola L                   $ 637.00                     80.744686   \n",
       "Escola M                   $ 650.00                     80.966394   \n",
       "Escola N                   $ 644.00                     80.746258   \n",
       "Escola O                   $ 641.93                     83.810462   \n",
       "\n",
       "             Nota Média Aprovação Matemática  % Aprovados Redação  \\\n",
       "Nome_Escola                                                         \n",
       "Escola A                           76.629414            81.316421   \n",
       "Escola B                           76.711767            80.739234   \n",
       "Escola C                           83.359455            95.854628   \n",
       "Escola D                           77.289752            80.862999   \n",
       "Escola E                           83.351499            97.138965   \n",
       "Escola F                           83.274201            96.539641   \n",
       "Escola G                           83.061895            97.039828   \n",
       "Escola H                           77.048432            81.933280   \n",
       "Escola I                           83.803279            96.252927   \n",
       "Escola J                           83.839917            95.945946   \n",
       "Escola K                           83.682222            96.611111   \n",
       "Escola L                           76.842711            80.220055   \n",
       "Escola M                           77.072464            81.222432   \n",
       "Escola N                           77.102592            79.299014   \n",
       "Escola O                           83.435077            97.292308   \n",
       "\n",
       "             % Aprovados Matemática  % Geral Aprovados  \\\n",
       "Nome_Escola                                              \n",
       "Escola A                  65.683922          53.513884   \n",
       "Escola B                  65.988471          53.204476   \n",
       "Escola C                  93.867121          89.892107   \n",
       "Escola D                  66.752967          53.527508   \n",
       "Escola E                  93.392371          90.599455   \n",
       "Escola F                  93.867718          90.582567   \n",
       "Escola G                  94.133477          91.334769   \n",
       "Escola H                  66.680064          54.642283   \n",
       "Escola I                  92.505855          89.227166   \n",
       "Escola J                  94.594595          90.540541   \n",
       "Escola K                  93.333333          90.333333   \n",
       "Escola L                  66.366592          52.988247   \n",
       "Escola M                  66.057551          53.539172   \n",
       "Escola N                  68.309602          54.289887   \n",
       "Escola O                  93.230769          90.892308   \n",
       "\n",
       "            Faixa de Gastos por Estudantes  \n",
       "Nome_Escola                                 \n",
       "Escola A                          $645-680  \n",
       "Escola B                          $630-645  \n",
       "Escola C                          $585-630  \n",
       "Escola D                          $645-680  \n",
       "Escola E                          $585-630  \n",
       "Escola F                             <$585  \n",
       "Escola G                             <$585  \n",
       "Escola H                          $585-630  \n",
       "Escola I                             <$585  \n",
       "Escola J                          $585-630  \n",
       "Escola K                             <$585  \n",
       "Escola L                          $630-645  \n",
       "Escola M                          $645-680  \n",
       "Escola N                          $630-645  \n",
       "Escola O                          $630-645  "
      ]
     },
     "execution_count": 212,
     "metadata": {},
     "output_type": "execute_result"
    }
   ],
   "source": [
    "df_resumo_performance_escolar['Faixa de Gastos por Estudantes'] = \\\n",
    "    pd.cut(orcamento_per_capita, \n",
    "           bins = faixas_bins, labels = labels_faixas, right = False) # cria a faixa de gastos por estudante\n",
    "# right = False para incluir o limite inferior e excluir o limite superior\n",
    "\n",
    "df_resumo_performance_escolar # exibe o dataframe"
   ]
  },
  {
   "cell_type": "code",
   "execution_count": 214,
   "metadata": {},
   "outputs": [],
   "source": [
    "df_13_1 = df_resumo_performance_escolar.groupby('Faixa de Gastos por Estudantes')['Nota Média Aprovação Redação'].mean() # média de redação por faixa de gastos\n",
    "df_13_2 = df_resumo_performance_escolar.groupby('Faixa de Gastos por Estudantes')['Nota Média Aprovação Matemática'].mean() # média de matemática por faixa de gastos\n",
    "df_13_3 = df_resumo_performance_escolar.groupby('Faixa de Gastos por Estudantes')['% Aprovados Redação'].mean() # percentual de aprovados em redação por faixa de gastos\n",
    "df_13_4 = df_resumo_performance_escolar.groupby('Faixa de Gastos por Estudantes')['% Aprovados Matemática'].mean() # percentual de aprovados em matemática por faixa de gastos\n",
    "df_13_5 = df_resumo_performance_escolar.groupby('Faixa de Gastos por Estudantes')['% Geral Aprovados'].mean() # percentual de aprovados em geral por faixa de gastos"
   ]
  },
  {
   "cell_type": "code",
   "execution_count": 215,
   "metadata": {},
   "outputs": [
    {
     "data": {
      "text/html": [
       "<div>\n",
       "<style scoped>\n",
       "    .dataframe tbody tr th:only-of-type {\n",
       "        vertical-align: middle;\n",
       "    }\n",
       "\n",
       "    .dataframe tbody tr th {\n",
       "        vertical-align: top;\n",
       "    }\n",
       "\n",
       "    .dataframe thead th {\n",
       "        text-align: right;\n",
       "    }\n",
       "</style>\n",
       "<table border=\"1\" class=\"dataframe\">\n",
       "  <thead>\n",
       "    <tr style=\"text-align: right;\">\n",
       "      <th></th>\n",
       "      <th>Média Redação</th>\n",
       "      <th>Média Matemática</th>\n",
       "      <th>% Aprovados Redação</th>\n",
       "      <th>% Aprovados Matemática</th>\n",
       "      <th>% Geral Aprovados</th>\n",
       "    </tr>\n",
       "    <tr>\n",
       "      <th>Faixa de Gastos por Estudantes</th>\n",
       "      <th></th>\n",
       "      <th></th>\n",
       "      <th></th>\n",
       "      <th></th>\n",
       "      <th></th>\n",
       "    </tr>\n",
       "  </thead>\n",
       "  <tbody>\n",
       "    <tr>\n",
       "      <th>&lt;$585</th>\n",
       "      <td>83.93</td>\n",
       "      <td>83.46</td>\n",
       "      <td>96.61</td>\n",
       "      <td>93.46</td>\n",
       "      <td>90.37</td>\n",
       "    </tr>\n",
       "    <tr>\n",
       "      <th>$585-630</th>\n",
       "      <td>83.16</td>\n",
       "      <td>81.90</td>\n",
       "      <td>92.72</td>\n",
       "      <td>87.13</td>\n",
       "      <td>81.42</td>\n",
       "    </tr>\n",
       "    <tr>\n",
       "      <th>$630-645</th>\n",
       "      <td>81.61</td>\n",
       "      <td>78.52</td>\n",
       "      <td>84.39</td>\n",
       "      <td>73.47</td>\n",
       "      <td>62.84</td>\n",
       "    </tr>\n",
       "    <tr>\n",
       "      <th>$645-680</th>\n",
       "      <td>81.03</td>\n",
       "      <td>77.00</td>\n",
       "      <td>81.13</td>\n",
       "      <td>66.16</td>\n",
       "      <td>53.53</td>\n",
       "    </tr>\n",
       "  </tbody>\n",
       "</table>\n",
       "</div>"
      ],
      "text/plain": [
       "                                Média Redação  Média Matemática  \\\n",
       "Faixa de Gastos por Estudantes                                    \n",
       "<$585                                   83.93             83.46   \n",
       "$585-630                                83.16             81.90   \n",
       "$630-645                                81.61             78.52   \n",
       "$645-680                                81.03             77.00   \n",
       "\n",
       "                                % Aprovados Redação  % Aprovados Matemática  \\\n",
       "Faixa de Gastos por Estudantes                                                \n",
       "<$585                                         96.61                   93.46   \n",
       "$585-630                                      92.72                   87.13   \n",
       "$630-645                                      84.39                   73.47   \n",
       "$645-680                                      81.13                   66.16   \n",
       "\n",
       "                                % Geral Aprovados  \n",
       "Faixa de Gastos por Estudantes                     \n",
       "<$585                                       90.37  \n",
       "$585-630                                    81.42  \n",
       "$630-645                                    62.84  \n",
       "$645-680                                    53.53  "
      ]
     },
     "execution_count": 215,
     "metadata": {},
     "output_type": "execute_result"
    }
   ],
   "source": [
    "df_performance_gastos = pd.DataFrame({'Média Redação': df_13_1.round(2),\n",
    "                                        'Média Matemática': df_13_2.round(2),\n",
    "                                        '% Aprovados Redação': df_13_3.round(2),\n",
    "                                        '% Aprovados Matemática': df_13_4.round(2),\n",
    "                                        '% Geral Aprovados': df_13_5.round(2)})\n",
    "df_performance_gastos # exibe o dataframe"
   ]
  },
  {
   "cell_type": "markdown",
   "metadata": {},
   "source": [
    "## Considerando as faixas de tamanho (número de alunos) das escolas como sendo [0, 1000, 2000, 5000], qual faixa resulta em melhor performance?"
   ]
  },
  {
   "cell_type": "code",
   "execution_count": 216,
   "metadata": {},
   "outputs": [
    {
     "data": {
      "text/plain": [
       "Index(['Tipo de Escola', 'Total Estudantes', 'Total Orçamento',\n",
       "       'Orçamento Por Estudante', 'Nota Média Aprovação Redação',\n",
       "       'Nota Média Aprovação Matemática', '% Aprovados Redação',\n",
       "       '% Aprovados Matemática', '% Geral Aprovados',\n",
       "       'Faixa de Gastos por Estudantes'],\n",
       "      dtype='object')"
      ]
     },
     "execution_count": 216,
     "metadata": {},
     "output_type": "execute_result"
    }
   ],
   "source": [
    "df_resumo_performance_escolar.columns # exibe as colunas do dataframe"
   ]
  },
  {
   "cell_type": "code",
   "execution_count": 217,
   "metadata": {},
   "outputs": [],
   "source": [
    "tamanho_bins = [0, 1000, 2000, 5000] # faixas de valores\n",
    "labels_tamanho = [\"Pequeno Porte (<1000)\", \"Médio Porte (1000-2000)\", \"Grande Porte (2000-5000)\"] # rótulos das faixas"
   ]
  },
  {
   "cell_type": "code",
   "execution_count": 218,
   "metadata": {},
   "outputs": [
    {
     "data": {
      "text/html": [
       "<div>\n",
       "<style scoped>\n",
       "    .dataframe tbody tr th:only-of-type {\n",
       "        vertical-align: middle;\n",
       "    }\n",
       "\n",
       "    .dataframe tbody tr th {\n",
       "        vertical-align: top;\n",
       "    }\n",
       "\n",
       "    .dataframe thead th {\n",
       "        text-align: right;\n",
       "    }\n",
       "</style>\n",
       "<table border=\"1\" class=\"dataframe\">\n",
       "  <thead>\n",
       "    <tr style=\"text-align: right;\">\n",
       "      <th></th>\n",
       "      <th>Tipo de Escola</th>\n",
       "      <th>Total Estudantes</th>\n",
       "      <th>Total Orçamento</th>\n",
       "      <th>Orçamento Por Estudante</th>\n",
       "      <th>Nota Média Aprovação Redação</th>\n",
       "      <th>Nota Média Aprovação Matemática</th>\n",
       "      <th>% Aprovados Redação</th>\n",
       "      <th>% Aprovados Matemática</th>\n",
       "      <th>% Geral Aprovados</th>\n",
       "      <th>Faixa de Gastos por Estudantes</th>\n",
       "      <th>Tamanho da Escola</th>\n",
       "    </tr>\n",
       "    <tr>\n",
       "      <th>Nome_Escola</th>\n",
       "      <th></th>\n",
       "      <th></th>\n",
       "      <th></th>\n",
       "      <th></th>\n",
       "      <th></th>\n",
       "      <th></th>\n",
       "      <th></th>\n",
       "      <th></th>\n",
       "      <th></th>\n",
       "      <th></th>\n",
       "      <th></th>\n",
       "    </tr>\n",
       "  </thead>\n",
       "  <tbody>\n",
       "    <tr>\n",
       "      <th>Escola A</th>\n",
       "      <td>Publica</td>\n",
       "      <td>2917</td>\n",
       "      <td>$ 1,910,635.00</td>\n",
       "      <td>$ 655.00</td>\n",
       "      <td>81.182722</td>\n",
       "      <td>76.629414</td>\n",
       "      <td>81.316421</td>\n",
       "      <td>65.683922</td>\n",
       "      <td>53.513884</td>\n",
       "      <td>$645-680</td>\n",
       "      <td>Grande Porte (2000-5000)</td>\n",
       "    </tr>\n",
       "    <tr>\n",
       "      <th>Escola B</th>\n",
       "      <td>Publica</td>\n",
       "      <td>2949</td>\n",
       "      <td>$ 1,884,411.00</td>\n",
       "      <td>$ 639.00</td>\n",
       "      <td>81.158020</td>\n",
       "      <td>76.711767</td>\n",
       "      <td>80.739234</td>\n",
       "      <td>65.988471</td>\n",
       "      <td>53.204476</td>\n",
       "      <td>$630-645</td>\n",
       "      <td>Grande Porte (2000-5000)</td>\n",
       "    </tr>\n",
       "    <tr>\n",
       "      <th>Escola C</th>\n",
       "      <td>Particular</td>\n",
       "      <td>1761</td>\n",
       "      <td>$ 1,056,600.00</td>\n",
       "      <td>$ 600.00</td>\n",
       "      <td>83.725724</td>\n",
       "      <td>83.359455</td>\n",
       "      <td>95.854628</td>\n",
       "      <td>93.867121</td>\n",
       "      <td>89.892107</td>\n",
       "      <td>$585-630</td>\n",
       "      <td>Médio Porte (1000-2000)</td>\n",
       "    </tr>\n",
       "    <tr>\n",
       "      <th>Escola D</th>\n",
       "      <td>Publica</td>\n",
       "      <td>4635</td>\n",
       "      <td>$ 3,022,020.00</td>\n",
       "      <td>$ 652.00</td>\n",
       "      <td>80.934412</td>\n",
       "      <td>77.289752</td>\n",
       "      <td>80.862999</td>\n",
       "      <td>66.752967</td>\n",
       "      <td>53.527508</td>\n",
       "      <td>$645-680</td>\n",
       "      <td>Grande Porte (2000-5000)</td>\n",
       "    </tr>\n",
       "    <tr>\n",
       "      <th>Escola E</th>\n",
       "      <td>Particular</td>\n",
       "      <td>1468</td>\n",
       "      <td>$ 917,500.00</td>\n",
       "      <td>$ 625.00</td>\n",
       "      <td>83.816757</td>\n",
       "      <td>83.351499</td>\n",
       "      <td>97.138965</td>\n",
       "      <td>93.392371</td>\n",
       "      <td>90.599455</td>\n",
       "      <td>$585-630</td>\n",
       "      <td>Médio Porte (1000-2000)</td>\n",
       "    </tr>\n",
       "    <tr>\n",
       "      <th>Escola F</th>\n",
       "      <td>Particular</td>\n",
       "      <td>2283</td>\n",
       "      <td>$ 1,319,574.00</td>\n",
       "      <td>$ 578.00</td>\n",
       "      <td>83.989488</td>\n",
       "      <td>83.274201</td>\n",
       "      <td>96.539641</td>\n",
       "      <td>93.867718</td>\n",
       "      <td>90.582567</td>\n",
       "      <td>&lt;$585</td>\n",
       "      <td>Grande Porte (2000-5000)</td>\n",
       "    </tr>\n",
       "    <tr>\n",
       "      <th>Escola G</th>\n",
       "      <td>Particular</td>\n",
       "      <td>1858</td>\n",
       "      <td>$ 1,081,356.00</td>\n",
       "      <td>$ 582.00</td>\n",
       "      <td>83.975780</td>\n",
       "      <td>83.061895</td>\n",
       "      <td>97.039828</td>\n",
       "      <td>94.133477</td>\n",
       "      <td>91.334769</td>\n",
       "      <td>&lt;$585</td>\n",
       "      <td>Médio Porte (1000-2000)</td>\n",
       "    </tr>\n",
       "    <tr>\n",
       "      <th>Escola H</th>\n",
       "      <td>Publica</td>\n",
       "      <td>4976</td>\n",
       "      <td>$ 3,124,928.00</td>\n",
       "      <td>$ 628.00</td>\n",
       "      <td>81.033963</td>\n",
       "      <td>77.048432</td>\n",
       "      <td>81.933280</td>\n",
       "      <td>66.680064</td>\n",
       "      <td>54.642283</td>\n",
       "      <td>$585-630</td>\n",
       "      <td>Grande Porte (2000-5000)</td>\n",
       "    </tr>\n",
       "    <tr>\n",
       "      <th>Escola I</th>\n",
       "      <td>Particular</td>\n",
       "      <td>427</td>\n",
       "      <td>$ 248,087.00</td>\n",
       "      <td>$ 581.00</td>\n",
       "      <td>83.814988</td>\n",
       "      <td>83.803279</td>\n",
       "      <td>96.252927</td>\n",
       "      <td>92.505855</td>\n",
       "      <td>89.227166</td>\n",
       "      <td>&lt;$585</td>\n",
       "      <td>Pequeno Porte (&lt;1000)</td>\n",
       "    </tr>\n",
       "    <tr>\n",
       "      <th>Escola J</th>\n",
       "      <td>Particular</td>\n",
       "      <td>962</td>\n",
       "      <td>$ 585,858.00</td>\n",
       "      <td>$ 609.00</td>\n",
       "      <td>84.044699</td>\n",
       "      <td>83.839917</td>\n",
       "      <td>95.945946</td>\n",
       "      <td>94.594595</td>\n",
       "      <td>90.540541</td>\n",
       "      <td>$585-630</td>\n",
       "      <td>Pequeno Porte (&lt;1000)</td>\n",
       "    </tr>\n",
       "    <tr>\n",
       "      <th>Escola K</th>\n",
       "      <td>Particular</td>\n",
       "      <td>1800</td>\n",
       "      <td>$ 1,049,400.00</td>\n",
       "      <td>$ 583.00</td>\n",
       "      <td>83.955000</td>\n",
       "      <td>83.682222</td>\n",
       "      <td>96.611111</td>\n",
       "      <td>93.333333</td>\n",
       "      <td>90.333333</td>\n",
       "      <td>&lt;$585</td>\n",
       "      <td>Médio Porte (1000-2000)</td>\n",
       "    </tr>\n",
       "    <tr>\n",
       "      <th>Escola L</th>\n",
       "      <td>Publica</td>\n",
       "      <td>3999</td>\n",
       "      <td>$ 2,547,363.00</td>\n",
       "      <td>$ 637.00</td>\n",
       "      <td>80.744686</td>\n",
       "      <td>76.842711</td>\n",
       "      <td>80.220055</td>\n",
       "      <td>66.366592</td>\n",
       "      <td>52.988247</td>\n",
       "      <td>$630-645</td>\n",
       "      <td>Grande Porte (2000-5000)</td>\n",
       "    </tr>\n",
       "    <tr>\n",
       "      <th>Escola M</th>\n",
       "      <td>Publica</td>\n",
       "      <td>4761</td>\n",
       "      <td>$ 3,094,650.00</td>\n",
       "      <td>$ 650.00</td>\n",
       "      <td>80.966394</td>\n",
       "      <td>77.072464</td>\n",
       "      <td>81.222432</td>\n",
       "      <td>66.057551</td>\n",
       "      <td>53.539172</td>\n",
       "      <td>$645-680</td>\n",
       "      <td>Grande Porte (2000-5000)</td>\n",
       "    </tr>\n",
       "    <tr>\n",
       "      <th>Escola N</th>\n",
       "      <td>Publica</td>\n",
       "      <td>2739</td>\n",
       "      <td>$ 1,763,916.00</td>\n",
       "      <td>$ 644.00</td>\n",
       "      <td>80.746258</td>\n",
       "      <td>77.102592</td>\n",
       "      <td>79.299014</td>\n",
       "      <td>68.309602</td>\n",
       "      <td>54.289887</td>\n",
       "      <td>$630-645</td>\n",
       "      <td>Grande Porte (2000-5000)</td>\n",
       "    </tr>\n",
       "    <tr>\n",
       "      <th>Escola O</th>\n",
       "      <td>Particular</td>\n",
       "      <td>1625</td>\n",
       "      <td>$ 1,043,130.00</td>\n",
       "      <td>$ 641.93</td>\n",
       "      <td>83.810462</td>\n",
       "      <td>83.435077</td>\n",
       "      <td>97.292308</td>\n",
       "      <td>93.230769</td>\n",
       "      <td>90.892308</td>\n",
       "      <td>$630-645</td>\n",
       "      <td>Médio Porte (1000-2000)</td>\n",
       "    </tr>\n",
       "  </tbody>\n",
       "</table>\n",
       "</div>"
      ],
      "text/plain": [
       "            Tipo de Escola  Total Estudantes Total Orçamento  \\\n",
       "Nome_Escola                                                    \n",
       "Escola A           Publica              2917  $ 1,910,635.00   \n",
       "Escola B           Publica              2949  $ 1,884,411.00   \n",
       "Escola C        Particular              1761  $ 1,056,600.00   \n",
       "Escola D           Publica              4635  $ 3,022,020.00   \n",
       "Escola E        Particular              1468    $ 917,500.00   \n",
       "Escola F        Particular              2283  $ 1,319,574.00   \n",
       "Escola G        Particular              1858  $ 1,081,356.00   \n",
       "Escola H           Publica              4976  $ 3,124,928.00   \n",
       "Escola I        Particular               427    $ 248,087.00   \n",
       "Escola J        Particular               962    $ 585,858.00   \n",
       "Escola K        Particular              1800  $ 1,049,400.00   \n",
       "Escola L           Publica              3999  $ 2,547,363.00   \n",
       "Escola M           Publica              4761  $ 3,094,650.00   \n",
       "Escola N           Publica              2739  $ 1,763,916.00   \n",
       "Escola O        Particular              1625  $ 1,043,130.00   \n",
       "\n",
       "            Orçamento Por Estudante  Nota Média Aprovação Redação  \\\n",
       "Nome_Escola                                                         \n",
       "Escola A                   $ 655.00                     81.182722   \n",
       "Escola B                   $ 639.00                     81.158020   \n",
       "Escola C                   $ 600.00                     83.725724   \n",
       "Escola D                   $ 652.00                     80.934412   \n",
       "Escola E                   $ 625.00                     83.816757   \n",
       "Escola F                   $ 578.00                     83.989488   \n",
       "Escola G                   $ 582.00                     83.975780   \n",
       "Escola H                   $ 628.00                     81.033963   \n",
       "Escola I                   $ 581.00                     83.814988   \n",
       "Escola J                   $ 609.00                     84.044699   \n",
       "Escola K                   $ 583.00                     83.955000   \n",
       "Escola L                   $ 637.00                     80.744686   \n",
       "Escola M                   $ 650.00                     80.966394   \n",
       "Escola N                   $ 644.00                     80.746258   \n",
       "Escola O                   $ 641.93                     83.810462   \n",
       "\n",
       "             Nota Média Aprovação Matemática  % Aprovados Redação  \\\n",
       "Nome_Escola                                                         \n",
       "Escola A                           76.629414            81.316421   \n",
       "Escola B                           76.711767            80.739234   \n",
       "Escola C                           83.359455            95.854628   \n",
       "Escola D                           77.289752            80.862999   \n",
       "Escola E                           83.351499            97.138965   \n",
       "Escola F                           83.274201            96.539641   \n",
       "Escola G                           83.061895            97.039828   \n",
       "Escola H                           77.048432            81.933280   \n",
       "Escola I                           83.803279            96.252927   \n",
       "Escola J                           83.839917            95.945946   \n",
       "Escola K                           83.682222            96.611111   \n",
       "Escola L                           76.842711            80.220055   \n",
       "Escola M                           77.072464            81.222432   \n",
       "Escola N                           77.102592            79.299014   \n",
       "Escola O                           83.435077            97.292308   \n",
       "\n",
       "             % Aprovados Matemática  % Geral Aprovados  \\\n",
       "Nome_Escola                                              \n",
       "Escola A                  65.683922          53.513884   \n",
       "Escola B                  65.988471          53.204476   \n",
       "Escola C                  93.867121          89.892107   \n",
       "Escola D                  66.752967          53.527508   \n",
       "Escola E                  93.392371          90.599455   \n",
       "Escola F                  93.867718          90.582567   \n",
       "Escola G                  94.133477          91.334769   \n",
       "Escola H                  66.680064          54.642283   \n",
       "Escola I                  92.505855          89.227166   \n",
       "Escola J                  94.594595          90.540541   \n",
       "Escola K                  93.333333          90.333333   \n",
       "Escola L                  66.366592          52.988247   \n",
       "Escola M                  66.057551          53.539172   \n",
       "Escola N                  68.309602          54.289887   \n",
       "Escola O                  93.230769          90.892308   \n",
       "\n",
       "            Faixa de Gastos por Estudantes         Tamanho da Escola  \n",
       "Nome_Escola                                                           \n",
       "Escola A                          $645-680  Grande Porte (2000-5000)  \n",
       "Escola B                          $630-645  Grande Porte (2000-5000)  \n",
       "Escola C                          $585-630   Médio Porte (1000-2000)  \n",
       "Escola D                          $645-680  Grande Porte (2000-5000)  \n",
       "Escola E                          $585-630   Médio Porte (1000-2000)  \n",
       "Escola F                             <$585  Grande Porte (2000-5000)  \n",
       "Escola G                             <$585   Médio Porte (1000-2000)  \n",
       "Escola H                          $585-630  Grande Porte (2000-5000)  \n",
       "Escola I                             <$585     Pequeno Porte (<1000)  \n",
       "Escola J                          $585-630     Pequeno Porte (<1000)  \n",
       "Escola K                             <$585   Médio Porte (1000-2000)  \n",
       "Escola L                          $630-645  Grande Porte (2000-5000)  \n",
       "Escola M                          $645-680  Grande Porte (2000-5000)  \n",
       "Escola N                          $630-645  Grande Porte (2000-5000)  \n",
       "Escola O                          $630-645   Médio Porte (1000-2000)  "
      ]
     },
     "execution_count": 218,
     "metadata": {},
     "output_type": "execute_result"
    }
   ],
   "source": [
    "df_resumo_performance_escolar['Tamanho da Escola'] = \\\n",
    "    pd.cut(df_resumo_performance_escolar['Total Estudantes'], \n",
    "           bins = tamanho_bins, labels = labels_tamanho, right = False) # cria a faixa de tamanho da escola\n",
    "df_resumo_performance_escolar # exibe o dataframe"
   ]
  },
  {
   "cell_type": "code",
   "execution_count": 219,
   "metadata": {},
   "outputs": [],
   "source": [
    "df_14_1 = df_resumo_performance_escolar.groupby('Tamanho da Escola')['Nota Média Aprovação Redação'].mean() # média de redação por tamanho da escola\n",
    "df_14_2 = df_resumo_performance_escolar.groupby('Tamanho da Escola')['Nota Média Aprovação Matemática'].mean() # média de matemática por tamanho da escola\n",
    "df_14_3 = df_resumo_performance_escolar.groupby('Tamanho da Escola')['% Aprovados Redação'].mean() # percentual de aprovados em redação por tamanho da escola\n",
    "df_14_4 = df_resumo_performance_escolar.groupby('Tamanho da Escola')['% Aprovados Matemática'].mean() # percentual de aprovados em matemática por tamanho da escola\n",
    "df_14_5 = df_resumo_performance_escolar.groupby('Tamanho da Escola')['% Geral Aprovados'].mean() # percentual de aprovados em geral por tamanho da escola"
   ]
  },
  {
   "cell_type": "code",
   "execution_count": 220,
   "metadata": {},
   "outputs": [
    {
     "data": {
      "text/html": [
       "<div>\n",
       "<style scoped>\n",
       "    .dataframe tbody tr th:only-of-type {\n",
       "        vertical-align: middle;\n",
       "    }\n",
       "\n",
       "    .dataframe tbody tr th {\n",
       "        vertical-align: top;\n",
       "    }\n",
       "\n",
       "    .dataframe thead th {\n",
       "        text-align: right;\n",
       "    }\n",
       "</style>\n",
       "<table border=\"1\" class=\"dataframe\">\n",
       "  <thead>\n",
       "    <tr style=\"text-align: right;\">\n",
       "      <th></th>\n",
       "      <th>Média Redação</th>\n",
       "      <th>Média Matemática</th>\n",
       "      <th>% Aprovados Redação</th>\n",
       "      <th>% Aprovados Matemática</th>\n",
       "      <th>% Geral Aprovados</th>\n",
       "    </tr>\n",
       "    <tr>\n",
       "      <th>Tamanho da Escola</th>\n",
       "      <th></th>\n",
       "      <th></th>\n",
       "      <th></th>\n",
       "      <th></th>\n",
       "      <th></th>\n",
       "    </tr>\n",
       "  </thead>\n",
       "  <tbody>\n",
       "    <tr>\n",
       "      <th>Pequeno Porte (&lt;1000)</th>\n",
       "      <td>83.93</td>\n",
       "      <td>83.82</td>\n",
       "      <td>96.10</td>\n",
       "      <td>93.55</td>\n",
       "      <td>89.88</td>\n",
       "    </tr>\n",
       "    <tr>\n",
       "      <th>Médio Porte (1000-2000)</th>\n",
       "      <td>83.86</td>\n",
       "      <td>83.38</td>\n",
       "      <td>96.79</td>\n",
       "      <td>93.59</td>\n",
       "      <td>90.61</td>\n",
       "    </tr>\n",
       "    <tr>\n",
       "      <th>Grande Porte (2000-5000)</th>\n",
       "      <td>81.34</td>\n",
       "      <td>77.75</td>\n",
       "      <td>82.77</td>\n",
       "      <td>69.96</td>\n",
       "      <td>58.29</td>\n",
       "    </tr>\n",
       "  </tbody>\n",
       "</table>\n",
       "</div>"
      ],
      "text/plain": [
       "                          Média Redação  Média Matemática  \\\n",
       "Tamanho da Escola                                           \n",
       "Pequeno Porte (<1000)             83.93             83.82   \n",
       "Médio Porte (1000-2000)           83.86             83.38   \n",
       "Grande Porte (2000-5000)          81.34             77.75   \n",
       "\n",
       "                          % Aprovados Redação  % Aprovados Matemática  \\\n",
       "Tamanho da Escola                                                       \n",
       "Pequeno Porte (<1000)                   96.10                   93.55   \n",
       "Médio Porte (1000-2000)                 96.79                   93.59   \n",
       "Grande Porte (2000-5000)                82.77                   69.96   \n",
       "\n",
       "                          % Geral Aprovados  \n",
       "Tamanho da Escola                            \n",
       "Pequeno Porte (<1000)                 89.88  \n",
       "Médio Porte (1000-2000)               90.61  \n",
       "Grande Porte (2000-5000)              58.29  "
      ]
     },
     "execution_count": 220,
     "metadata": {},
     "output_type": "execute_result"
    }
   ],
   "source": [
    "df_performance_tamanho = pd.DataFrame({'Média Redação': df_14_1.round(2),\n",
    "                                        'Média Matemática': df_14_2.round(2),\n",
    "                                        '% Aprovados Redação': df_14_3.round(2),\n",
    "                                        '% Aprovados Matemática': df_14_4.round(2),\n",
    "                                        '% Geral Aprovados': df_14_5.round(2)})\n",
    "df_performance_tamanho # exibe o dataframe"
   ]
  },
  {
   "cell_type": "markdown",
   "metadata": {},
   "source": [
    "## Qual o impacto do tipo de escola na performance dos alunos?"
   ]
  },
  {
   "cell_type": "code",
   "execution_count": 221,
   "metadata": {},
   "outputs": [
    {
     "data": {
      "text/plain": [
       "Index(['Tipo de Escola', 'Total Estudantes', 'Total Orçamento',\n",
       "       'Orçamento Por Estudante', 'Nota Média Aprovação Redação',\n",
       "       'Nota Média Aprovação Matemática', '% Aprovados Redação',\n",
       "       '% Aprovados Matemática', '% Geral Aprovados',\n",
       "       'Faixa de Gastos por Estudantes', 'Tamanho da Escola'],\n",
       "      dtype='object')"
      ]
     },
     "execution_count": 221,
     "metadata": {},
     "output_type": "execute_result"
    }
   ],
   "source": [
    "df_resumo_performance_escolar.columns # exibe as colunas do dataframe"
   ]
  },
  {
   "cell_type": "code",
   "execution_count": 225,
   "metadata": {},
   "outputs": [],
   "source": [
    "df_15_1 = df_resumo_performance_escolar.groupby('Tipo de Escola')['Nota Média Aprovação Redação'].mean() # média de redação por tipo de escola\n",
    "df_15_2 = df_resumo_performance_escolar.groupby('Tipo de Escola')['Nota Média Aprovação Matemática'].mean() # média de matemática por tipo de escola\n",
    "df_15_3 = df_resumo_performance_escolar.groupby('Tipo de Escola')['% Aprovados Redação'].mean() # percentual de aprovados em redação por tipo de escola\n",
    "df_15_4 = df_resumo_performance_escolar.groupby('Tipo de Escola')['% Aprovados Matemática'].mean() # percentual de aprovados em matemática por tipo de escola\n",
    "df_15_5 = df_resumo_performance_escolar.groupby('Tipo de Escola')['% Geral Aprovados'].mean() # percentual de aprovados em geral por tipo de escola"
   ]
  },
  {
   "cell_type": "code",
   "execution_count": 227,
   "metadata": {},
   "outputs": [
    {
     "data": {
      "text/html": [
       "<div>\n",
       "<style scoped>\n",
       "    .dataframe tbody tr th:only-of-type {\n",
       "        vertical-align: middle;\n",
       "    }\n",
       "\n",
       "    .dataframe tbody tr th {\n",
       "        vertical-align: top;\n",
       "    }\n",
       "\n",
       "    .dataframe thead th {\n",
       "        text-align: right;\n",
       "    }\n",
       "</style>\n",
       "<table border=\"1\" class=\"dataframe\">\n",
       "  <thead>\n",
       "    <tr style=\"text-align: right;\">\n",
       "      <th></th>\n",
       "      <th>Média Redação</th>\n",
       "      <th>Média Matemática</th>\n",
       "      <th>% Aprovados Redação</th>\n",
       "      <th>% Aprovados Matemática</th>\n",
       "      <th>% Geral Aprovados</th>\n",
       "    </tr>\n",
       "    <tr>\n",
       "      <th>Tipo de Escola</th>\n",
       "      <th></th>\n",
       "      <th></th>\n",
       "      <th></th>\n",
       "      <th></th>\n",
       "      <th></th>\n",
       "    </tr>\n",
       "  </thead>\n",
       "  <tbody>\n",
       "    <tr>\n",
       "      <th>Particular</th>\n",
       "      <td>83.89</td>\n",
       "      <td>83.48</td>\n",
       "      <td>96.58</td>\n",
       "      <td>93.62</td>\n",
       "      <td>90.43</td>\n",
       "    </tr>\n",
       "    <tr>\n",
       "      <th>Publica</th>\n",
       "      <td>80.97</td>\n",
       "      <td>76.96</td>\n",
       "      <td>80.80</td>\n",
       "      <td>66.55</td>\n",
       "      <td>53.67</td>\n",
       "    </tr>\n",
       "  </tbody>\n",
       "</table>\n",
       "</div>"
      ],
      "text/plain": [
       "                Média Redação  Média Matemática  % Aprovados Redação  \\\n",
       "Tipo de Escola                                                         \n",
       "Particular              83.89             83.48                96.58   \n",
       "Publica                 80.97             76.96                80.80   \n",
       "\n",
       "                % Aprovados Matemática  % Geral Aprovados  \n",
       "Tipo de Escola                                             \n",
       "Particular                       93.62              90.43  \n",
       "Publica                          66.55              53.67  "
      ]
     },
     "execution_count": 227,
     "metadata": {},
     "output_type": "execute_result"
    }
   ],
   "source": [
    "df_performance_tipo_escola = pd.DataFrame({'Média Redação': df_15_1.round(2),\n",
    "                                        'Média Matemática': df_15_2.round(2),\n",
    "                                        '% Aprovados Redação': df_15_3.round(2),\n",
    "                                        '% Aprovados Matemática': df_15_4.round(2),\n",
    "                                        '% Geral Aprovados': df_15_5.round(2)})\n",
    "df_performance_tipo_escola # exibe o dataframe"
   ]
  },
  {
   "cell_type": "code",
   "execution_count": 228,
   "metadata": {},
   "outputs": [],
   "source": [
    "df_resumo_performance_escolar.to_excel('.arquivos_DSA/dados/df_resumo_performance_escolar.xlsx') # salva o dataframe em um arquivo Excel"
   ]
  }
 ],
 "metadata": {
  "anaconda-cloud": {},
  "kernel_info": {
   "name": "python3"
  },
  "kernelspec": {
   "display_name": "Python 3 (ipykernel)",
   "language": "python",
   "name": "python3"
  },
  "language_info": {
   "codemirror_mode": {
    "name": "ipython",
    "version": 3
   },
   "file_extension": ".py",
   "mimetype": "text/x-python",
   "name": "python",
   "nbconvert_exporter": "python",
   "pygments_lexer": "ipython3",
   "version": "3.11.1"
  },
  "latex_envs": {
   "LaTeX_envs_menu_present": true,
   "autoclose": false,
   "autocomplete": true,
   "bibliofile": "biblio.bib",
   "cite_by": "apalike",
   "current_citInitial": 1,
   "eqLabelWithNumbers": true,
   "eqNumInitial": 1,
   "hotkeys": {
    "equation": "Ctrl-E",
    "itemize": "Ctrl-I"
   },
   "labels_anchors": false,
   "latex_user_defs": false,
   "report_style_numbering": false,
   "user_envs_cfg": false
  },
  "nteract": {
   "version": "0.8.4"
  }
 },
 "nbformat": 4,
 "nbformat_minor": 1
}
